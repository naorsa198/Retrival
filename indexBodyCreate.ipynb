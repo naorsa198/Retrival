{
  "nbformat": 4,
  "nbformat_minor": 0,
  "metadata": {
    "colab": {
      "name": "Untitled0.ipynb",
      "provenance": [],
      "collapsed_sections": []
    },
    "kernelspec": {
      "name": "python3",
      "display_name": "Python 3"
    },
    "language_info": {
      "name": "python"
    }
  },
  "cells": [
    {
      "cell_type": "code",
      "source": [
        "import sys\n",
        "from collections import Counter, OrderedDict\n",
        "import itertools\n",
        "from itertools import islice, count, groupby\n",
        "import pandas as pd\n",
        "import os\n",
        "import re\n",
        "from operator import itemgetter\n",
        "import nltk\n",
        "from nltk.stem.porter import *\n",
        "from nltk.corpus import stopwords\n",
        "from time import time\n",
        "from timeit import timeit\n",
        "from pathlib import Path\n",
        "import pickle\n",
        "import pandas as pd\n",
        "import numpy as np\n",
        "from google.cloud import storage\n",
        "\n",
        "import hashlib\n",
        "def _hash(s):\n",
        "    return hashlib.blake2b(bytes(s, encoding='utf8'), digest_size=5).hexdigest()\n",
        "\n",
        "nltk.download('stopwords')\n",
        "\n",
        "from inverted_index_colab import *"
      ],
      "metadata": {
        "id": "hzOBTDRDWRsO",
        "colab": {
          "base_uri": "https://localhost:8080/"
        },
        "outputId": "a65939cf-5e97-496f-9d71-3a54d29013c2"
      },
      "execution_count": null,
      "outputs": [
        {
          "output_type": "stream",
          "name": "stdout",
          "text": [
            "[nltk_data] Downloading package stopwords to /root/nltk_data...\n",
            "[nltk_data]   Package stopwords is already up-to-date!\n"
          ]
        }
      ]
    },
    {
      "cell_type": "code",
      "source": [
        "# These will already be installed in the testing environment so disregard the \n",
        "# amount of time (~1 minute) it takes to install. \n",
        "!pip install -q pyspark\n",
        "!pip install -U -q PyDrive\n",
        "!apt-get update -qq\n",
        "!apt install openjdk-8-jdk-headless -qq\n",
        "!pip install -q graphframes\n",
        "import os\n",
        "os.environ[\"JAVA_HOME\"] = \"/usr/lib/jvm/java-8-openjdk-amd64\"\n",
        "graphframes_jar = 'https://repos.spark-packages.org/graphframes/graphframes/0.8.2-spark3.2-s_2.12/graphframes-0.8.2-spark3.2-s_2.12.jar'\n",
        "spark_jars = '/usr/local/lib/python3.7/dist-packages/pyspark/jars'\n",
        "!wget -N -P $spark_jars $graphframes_jar"
      ],
      "metadata": {
        "colab": {
          "base_uri": "https://localhost:8080/"
        },
        "id": "l8FBOhhsY3FY",
        "outputId": "a601d914-e380-41d5-a904-e32bcdd4abbb"
      },
      "execution_count": null,
      "outputs": [
        {
          "output_type": "stream",
          "name": "stdout",
          "text": [
            "\u001b[K     |████████████████████████████████| 281.3 MB 38 kB/s \n",
            "\u001b[K     |████████████████████████████████| 198 kB 52.7 MB/s \n",
            "\u001b[?25h  Building wheel for pyspark (setup.py) ... \u001b[?25l\u001b[?25hdone\n",
            "The following additional packages will be installed:\n",
            "  openjdk-8-jre-headless\n",
            "Suggested packages:\n",
            "  openjdk-8-demo openjdk-8-source libnss-mdns fonts-dejavu-extra\n",
            "  fonts-ipafont-gothic fonts-ipafont-mincho fonts-wqy-microhei\n",
            "  fonts-wqy-zenhei fonts-indic\n",
            "The following NEW packages will be installed:\n",
            "  openjdk-8-jdk-headless openjdk-8-jre-headless\n",
            "0 upgraded, 2 newly installed, 0 to remove and 59 not upgraded.\n",
            "Need to get 36.5 MB of archives.\n",
            "After this operation, 143 MB of additional disk space will be used.\n",
            "Selecting previously unselected package openjdk-8-jre-headless:amd64.\n",
            "(Reading database ... 155225 files and directories currently installed.)\n",
            "Preparing to unpack .../openjdk-8-jre-headless_8u312-b07-0ubuntu1~18.04_amd64.deb ...\n",
            "Unpacking openjdk-8-jre-headless:amd64 (8u312-b07-0ubuntu1~18.04) ...\n",
            "Selecting previously unselected package openjdk-8-jdk-headless:amd64.\n",
            "Preparing to unpack .../openjdk-8-jdk-headless_8u312-b07-0ubuntu1~18.04_amd64.deb ...\n",
            "Unpacking openjdk-8-jdk-headless:amd64 (8u312-b07-0ubuntu1~18.04) ...\n",
            "Setting up openjdk-8-jre-headless:amd64 (8u312-b07-0ubuntu1~18.04) ...\n",
            "update-alternatives: using /usr/lib/jvm/java-8-openjdk-amd64/jre/bin/orbd to provide /usr/bin/orbd (orbd) in auto mode\n",
            "update-alternatives: using /usr/lib/jvm/java-8-openjdk-amd64/jre/bin/servertool to provide /usr/bin/servertool (servertool) in auto mode\n",
            "update-alternatives: using /usr/lib/jvm/java-8-openjdk-amd64/jre/bin/tnameserv to provide /usr/bin/tnameserv (tnameserv) in auto mode\n",
            "Setting up openjdk-8-jdk-headless:amd64 (8u312-b07-0ubuntu1~18.04) ...\n",
            "update-alternatives: using /usr/lib/jvm/java-8-openjdk-amd64/bin/idlj to provide /usr/bin/idlj (idlj) in auto mode\n",
            "update-alternatives: using /usr/lib/jvm/java-8-openjdk-amd64/bin/wsimport to provide /usr/bin/wsimport (wsimport) in auto mode\n",
            "update-alternatives: using /usr/lib/jvm/java-8-openjdk-amd64/bin/jsadebugd to provide /usr/bin/jsadebugd (jsadebugd) in auto mode\n",
            "update-alternatives: using /usr/lib/jvm/java-8-openjdk-amd64/bin/native2ascii to provide /usr/bin/native2ascii (native2ascii) in auto mode\n",
            "update-alternatives: using /usr/lib/jvm/java-8-openjdk-amd64/bin/javah to provide /usr/bin/javah (javah) in auto mode\n",
            "update-alternatives: using /usr/lib/jvm/java-8-openjdk-amd64/bin/hsdb to provide /usr/bin/hsdb (hsdb) in auto mode\n",
            "update-alternatives: using /usr/lib/jvm/java-8-openjdk-amd64/bin/clhsdb to provide /usr/bin/clhsdb (clhsdb) in auto mode\n",
            "update-alternatives: using /usr/lib/jvm/java-8-openjdk-amd64/bin/xjc to provide /usr/bin/xjc (xjc) in auto mode\n",
            "update-alternatives: using /usr/lib/jvm/java-8-openjdk-amd64/bin/schemagen to provide /usr/bin/schemagen (schemagen) in auto mode\n",
            "update-alternatives: using /usr/lib/jvm/java-8-openjdk-amd64/bin/extcheck to provide /usr/bin/extcheck (extcheck) in auto mode\n",
            "update-alternatives: using /usr/lib/jvm/java-8-openjdk-amd64/bin/jhat to provide /usr/bin/jhat (jhat) in auto mode\n",
            "update-alternatives: using /usr/lib/jvm/java-8-openjdk-amd64/bin/wsgen to provide /usr/bin/wsgen (wsgen) in auto mode\n",
            "\u001b[K     |████████████████████████████████| 154 kB 6.0 MB/s \n",
            "\u001b[?25h--2022-01-06 18:10:33--  https://repos.spark-packages.org/graphframes/graphframes/0.8.2-spark3.2-s_2.12/graphframes-0.8.2-spark3.2-s_2.12.jar\n",
            "Resolving repos.spark-packages.org (repos.spark-packages.org)... 13.32.87.63, 13.32.87.119, 13.32.87.68, ...\n",
            "Connecting to repos.spark-packages.org (repos.spark-packages.org)|13.32.87.63|:443... connected.\n",
            "HTTP request sent, awaiting response... 200 OK\n",
            "Length: 247880 (242K) [binary/octet-stream]\n",
            "Saving to: ‘/usr/local/lib/python3.7/dist-packages/pyspark/jars/graphframes-0.8.2-spark3.2-s_2.12.jar’\n",
            "\n",
            "graphframes-0.8.2-s 100%[===================>] 242.07K  --.-KB/s    in 0.06s   \n",
            "\n",
            "2022-01-06 18:10:33 (3.89 MB/s) - ‘/usr/local/lib/python3.7/dist-packages/pyspark/jars/graphframes-0.8.2-spark3.2-s_2.12.jar’ saved [247880/247880]\n",
            "\n"
          ]
        }
      ]
    },
    {
      "cell_type": "code",
      "source": [
        "import pyspark\n",
        "from pyspark.sql import *\n",
        "from pyspark.sql.functions import *\n",
        "from pyspark import SparkContext, SparkConf\n",
        "from pyspark.sql import SQLContext\n",
        "from pyspark.ml.feature import Tokenizer, RegexTokenizer\n",
        "from graphframes import *"
      ],
      "metadata": {
        "id": "A5ykGsyWY81H"
      },
      "execution_count": null,
      "outputs": []
    },
    {
      "cell_type": "code",
      "source": [
        "# Initializing spark context\n",
        "# create a spark context and session\n",
        "\n",
        "!pip install -q pyspark\n",
        "!pip install -U -q PyDrive\n",
        "!apt-get update -qq\n",
        "!apt install openjdk-8-jdk-headless -qq\n",
        "\n",
        "conf = SparkConf().set(\"spark.ui.port\", \"4050\")\n",
        "sc = pyspark.SparkContext(conf=conf)\n",
        "sc.addPyFile(str(Path(spark_jars) / Path(graphframes_jar).name))\n",
        "spark = SparkSession.builder.getOrCreate()"
      ],
      "metadata": {
        "id": "4KUPPIm_Y-Q3",
        "colab": {
          "base_uri": "https://localhost:8080/"
        },
        "outputId": "df5dac03-86e3-49b0-928a-54a197a0a6b3"
      },
      "execution_count": null,
      "outputs": [
        {
          "output_type": "stream",
          "name": "stdout",
          "text": [
            "openjdk-8-jdk-headless is already the newest version (8u312-b07-0ubuntu1~18.04).\n",
            "0 upgraded, 0 newly installed, 0 to remove and 59 not upgraded.\n"
          ]
        }
      ]
    },
    {
      "cell_type": "code",
      "source": [
        "spark"
      ],
      "metadata": {
        "id": "2X6Ob_FeZABP",
        "colab": {
          "base_uri": "https://localhost:8080/",
          "height": 219
        },
        "outputId": "ca0e212b-be16-48a1-f73d-9f1972fa58ed"
      },
      "execution_count": null,
      "outputs": [
        {
          "output_type": "execute_result",
          "data": {
            "text/html": [
              "\n",
              "            <div>\n",
              "                <p><b>SparkSession - in-memory</b></p>\n",
              "                \n",
              "        <div>\n",
              "            <p><b>SparkContext</b></p>\n",
              "\n",
              "            <p><a href=\"http://d69814d2036f:4050\">Spark UI</a></p>\n",
              "\n",
              "            <dl>\n",
              "              <dt>Version</dt>\n",
              "                <dd><code>v3.2.0</code></dd>\n",
              "              <dt>Master</dt>\n",
              "                <dd><code>local[*]</code></dd>\n",
              "              <dt>AppName</dt>\n",
              "                <dd><code>pyspark-shell</code></dd>\n",
              "            </dl>\n",
              "        </div>\n",
              "        \n",
              "            </div>\n",
              "        "
            ],
            "text/plain": [
              "<pyspark.sql.session.SparkSession at 0x7f0e7068b810>"
            ]
          },
          "metadata": {},
          "execution_count": 6
        }
      ]
    },
    {
      "cell_type": "code",
      "source": [
        "# Authenticate your user\n",
        "# The authentication should be done with the email connected to your GCP account\n",
        "from google.colab import auth\n",
        "auth.authenticate_user()"
      ],
      "metadata": {
        "id": "IMpCaIcBZBJA"
      },
      "execution_count": null,
      "outputs": []
    },
    {
      "cell_type": "code",
      "source": [
        "# Copy one wikidumps files \n",
        "import os\n",
        "from pathlib import Path\n",
        "from google.colab import auth\n",
        "\n",
        "project_id = 'core-period-321814'\n",
        "!gcloud config set project {project_id}\n",
        "\n",
        "data_bucket_name = 'wikidata_preprocessed'\n",
        "try:\n",
        "    if os.environ[\"wikidata_preprocessed\"] is not None:\n",
        "        pass  \n",
        "except:\n",
        "      !mkdir wikidumps\n",
        "      !gsutil cp gs://{data_bucket_name}/multistream1_preprocessed.parquet \"wikidumps/\" \n"
      ],
      "metadata": {
        "id": "3q5yHE6wZCHy"
      },
      "execution_count": null,
      "outputs": []
    },
    {
      "cell_type": "code",
      "source": [
        "from pathlib import Path \n",
        "import os\n",
        "\n",
        "try:\n",
        "    if os.environ[\"wikidata_preprocessed\"] is not None:\n",
        "      path = os.environ[\"wikidata_preprocessed\"]+\"/wikidumps/*\"\n",
        "except:\n",
        "      path = \"wikidumps/*\"\n",
        "\n",
        "parquetFile = spark.read.parquet(path)\n",
        "parquetFile.show()"
      ],
      "metadata": {
        "id": "rV2N5ZuVZDVi"
      },
      "execution_count": null,
      "outputs": []
    },
    {
      "cell_type": "code",
      "source": [
        "doc_text_pairs = parquetFile.limit(200).select(\"text\", \"id\").rdd\n",
        "doc_title_pairs = parquetFile.limit(200).select(\"title\", \"id\").rdd\n",
        "t0c_anchor_text = parquetFile.limit(200).select(\"anchor_text\", \"id\").rdd\n",
        "\n",
        "# doc_text_pairs.foreach(lambda x : print(x))\n",
        "\n"
      ],
      "metadata": {
        "id": "qEZdIjhJaYo2"
      },
      "execution_count": null,
      "outputs": []
    },
    {
      "cell_type": "code",
      "source": [
        "print(t0c_anchor_text.take(2))"
      ],
      "metadata": {
        "id": "dHWrV69s6-ym"
      },
      "execution_count": null,
      "outputs": []
    },
    {
      "cell_type": "markdown",
      "source": [
        "invered index\n"
      ],
      "metadata": {
        "id": "iOB8S6zQq3b_"
      }
    },
    {
      "cell_type": "code",
      "source": [
        "english_stopwords = frozenset(stopwords.words('english'))\n",
        "corpus_stopwords = ['category', 'references', 'also', 'links', 'extenal', 'see', 'thumb']\n",
        "RE_WORD = re.compile(r\"\"\"[\\#\\@\\w](['\\-]?\\w){2,24}\"\"\", re.UNICODE)\n",
        "\n",
        "all_stopwords = english_stopwords.union(corpus_stopwords)\n",
        "import math\n",
        "\n",
        "def word_count(text, id):\n",
        "  ''' Count the frequency of each word in `text` (tf) that is not included in \n",
        "  `all_stopwords` and return entries that will go into our posting lists. \n",
        "  Parameters:\n",
        "  -----------\n",
        "    text: str\n",
        "      Text of one document\n",
        "    id: int\n",
        "      Document id\n",
        "  Returns:\n",
        "  --------\n",
        "    List of tuples\n",
        "      A list of (token, (doc_id, tf)) pairs \n",
        "      for example: [(\"Anarchism\", (12, 5)), ...]\n",
        "  '''\n",
        "  tokens = [token.group() for token in RE_WORD.finditer(text.lower())]\n",
        "  c = Counter(tokens)\n",
        "  lst = [(item[0],(id,item[1])) for item in c.items() if item[0] not in all_stopwords]\n",
        "  return lst\n",
        "\n",
        "\n",
        "def lentext( text,id):\n",
        "  lst = [(id,len(text))]\n",
        "  return lst\n",
        "\n",
        "def titledoc(title,id):\n",
        "    lst = [(id,title)]\n",
        "    return lst\n",
        "\n",
        "\n",
        "def create_dominator(text, id):\n",
        "    tokens = [token.group() for token in RE_WORD.finditer(text.lower())]\n",
        "    filtered_tokens = [tok for tok in tokens if tok not in all_stopwords]\n",
        "    print(filtered_tokens)\n",
        "    doc_len = len(filtered_tokens)\n",
        "    wij = {} \n",
        "    sum = 0\n",
        "    for token in filtered_tokens:\n",
        "      if token in wij:\n",
        "        wij[token] += 1\n",
        "      else:\n",
        "        wij[token] = 1\n",
        "    \n",
        "    for key in wij:\n",
        "      sum +=math.pow(wij[key] / doc_len,2)\n",
        "    return [(id,sum)]\n",
        "\n",
        "\n",
        "      "
      ],
      "metadata": {
        "id": "swouasJib2lV"
      },
      "execution_count": null,
      "outputs": []
    },
    {
      "cell_type": "code",
      "source": [
        "word_counts = doc_text_pairs.flatMap(lambda x: word_count(x[0], x[1]))\n",
        "word_title_counts =  doc_title_pairs.flatMap(lambda x: word_count(x[0], x[1]))\n",
        "\n",
        "total_idf = doc_text_pairs.flatMap(lambda x: create_dominator(x[0], x[1]))\n",
        "\n",
        "title_per_id = doc_title_pairs.flatMap(lambda x: titledoc(x[0],x[1]))\n",
        "len_text = doc_text_pairs.flatMap(lambda x : lentext(x[0],x[1]))\n",
        "len_title = word_title_counts.flatMap(lambda x : lentext(x[0],x[1]))"
      ],
      "metadata": {
        "id": "PR7tvfvCcJ2L"
      },
      "execution_count": null,
      "outputs": []
    },
    {
      "cell_type": "code",
      "source": [
        "def reduce_word_counts(unsorted_pl):\n",
        "  ''' Returns a sorted posting list by wiki_id.\n",
        "  Parameters:\n",
        "  -----------\n",
        "    unsorted_pl: list of tuples\n",
        "      A list of (wiki_id, tf) tuples \n",
        "  Returns:\n",
        "  --------\n",
        "    list of tuples\n",
        "      A sorted posting list.\n",
        "  '''\n",
        "  # YOUR CODE HERE\n",
        "  return sorted(unsorted_pl, key= lambda tup : tup[0])"
      ],
      "metadata": {
        "id": "PS__p86tdcvb"
      },
      "execution_count": null,
      "outputs": []
    },
    {
      "cell_type": "code",
      "source": [
        "postings = word_counts.groupByKey().mapValues(reduce_word_counts)\n"
      ],
      "metadata": {
        "id": "eMl2wujPdmCi"
      },
      "execution_count": null,
      "outputs": []
    },
    {
      "cell_type": "markdown",
      "source": [
        "Change it to 50 in the GCD"
      ],
      "metadata": {
        "id": "PnkSzqMzd--m"
      }
    },
    {
      "cell_type": "code",
      "source": [
        "postings_filtered = postings.filter(lambda x: len(x[1])>10)"
      ],
      "metadata": {
        "id": "zmUAt3HceDDx"
      },
      "execution_count": null,
      "outputs": []
    },
    {
      "cell_type": "code",
      "source": [
        "def calculate_df(postings):\n",
        "  ''' Takes a posting list RDD and calculate the df for each token.\n",
        "  Parameters:\n",
        "  -----------\n",
        "    postings: RDD\n",
        "      An RDD where each element is a (token, posting_list) pair.\n",
        "  Returns:\n",
        "  --------\n",
        "    RDD\n",
        "      An RDD where each element is a (token, df) pair.\n",
        "  '''\n",
        "  # YOUR CODE HERE\n",
        "  def sumtf(arr):\n",
        "      sum = 0 \n",
        "      for tup in arr:\n",
        "        sum = sum + len(tup)\n",
        "      return sum\n",
        "\n",
        "  rdd_sum =postings.groupByKey().mapValues(list)\n",
        "  rdd = rdd_sum.map(lambda x : (x[0],sumtf(x[1])))\n",
        "\n",
        "  return rdd\n",
        "\n",
        "\n"
      ],
      "metadata": {
        "id": "VOYiDwcUeVnW"
      },
      "execution_count": null,
      "outputs": []
    },
    {
      "cell_type": "code",
      "source": [
        "w2df = calculate_df(postings_filtered)\n",
        "w2df_dict = w2df.collectAsMap()\n",
        "id_to_title = title_per_id.collectAsMap()\n",
        "DL = len_text.collectAsMap()\n",
        "tfidf =  total_idf.collectAsMap()\n"
      ],
      "metadata": {
        "id": "djdQ8LAXf14z"
      },
      "execution_count": null,
      "outputs": []
    },
    {
      "cell_type": "code",
      "source": [
        "NUM_BUCKETS = 124\n",
        "def token2bucket_id(token):\n",
        "  return int(_hash(token),16) % NUM_BUCKETS\n",
        "\n",
        "def partition_postings_and_write(postings):\n",
        "  ''' A function that partitions the posting lists into buckets, writes out \n",
        "  all posting lists in a bucket to disk, and returns the posting locations for \n",
        "  each bucket. Partitioning should be done through the use of `token2bucket` \n",
        "  above. Writing to disk should use the function  `write_a_posting_list`, a \n",
        "  static method implemented in inverted_index_colab.py under the InvertedIndex \n",
        "  class. \n",
        "  Parameters:\n",
        "  -----------\n",
        "    postings: RDD\n",
        "      An RDD where each item is a (w, posting_list) pair.\n",
        "  Returns:\n",
        "  --------\n",
        "    RDD\n",
        "      An RDD where each item is a posting locations dictionary for a bucket. The\n",
        "      posting locations maintain a list for each word of file locations and \n",
        "      offsets its posting list was written to. See `write_a_posting_list` for \n",
        "      more details.\n",
        "  '''\n",
        "  # YOUR CODE HERE\n",
        "  rdd_bk = postings.map(lambda x : (token2bucket_id(x[0]),(x[0],x[1])))\n",
        "  rbb_groupbykk = rdd_bk.groupByKey().mapValues(list)\n",
        "  rbb_wr = rbb_groupbykk.map(lambda x : InvertedIndex.write_a_posting_list(x))\n",
        "  \n",
        "  return rbb_wr"
      ],
      "metadata": {
        "id": "7UzqfN1VfH8j"
      },
      "execution_count": null,
      "outputs": []
    },
    {
      "cell_type": "code",
      "source": [
        "posting_locs_list = partition_postings_and_write(postings_filtered).collect()\n",
        "super_posting_locs = defaultdict(list)\n",
        "for posting_loc in posting_locs_list:\n",
        "  for k, v in posting_loc.items():\n",
        "    super_posting_locs[k].extend(v)\n"
      ],
      "metadata": {
        "id": "B2kuWPQufVCg"
      },
      "execution_count": null,
      "outputs": []
    },
    {
      "cell_type": "code",
      "source": [
        "# Create inverted index instance\n",
        "inverted = InvertedIndex()\n",
        "# Adding the posting locations dictionary to the inverted index\n",
        "inverted.posting_locs = super_posting_locs\n",
        "# Add the token - df dictionary to the inverted index\n",
        "inverted.df = w2df_dict\n",
        "\n",
        "inverted.DL = DL \n",
        "inverted.N = len(DL)\n",
        "inverted.id_to_title = id_to_title\n",
        "\n",
        "inverted.tfidf_dom =tfidf\n",
        "inverted.write_index('.', 'index')\n",
        "# write the global stats out\n"
      ],
      "metadata": {
        "id": "y8tk0U8AfoKp"
      },
      "execution_count": null,
      "outputs": []
    },
    {
      "cell_type": "code",
      "source": [
        "! zip posting.zip *.bin"
      ],
      "metadata": {
        "id": "IRLPRd864HAt",
        "colab": {
          "base_uri": "https://localhost:8080/"
        },
        "outputId": "528d725a-b4e1-45b1-fd55-f4dcb224e6c4"
      },
      "execution_count": null,
      "outputs": [
        {
          "output_type": "stream",
          "name": "stdout",
          "text": [
            "  adding: 0_000.bin (deflated 67%)\n",
            "  adding: 100_000.bin (deflated 65%)\n",
            "  adding: 10_000.bin (deflated 64%)\n",
            "  adding: 1_000.bin (deflated 64%)\n",
            "  adding: 101_000.bin (deflated 65%)\n",
            "  adding: 102_000.bin (deflated 65%)\n",
            "  adding: 103_000.bin (deflated 64%)\n",
            "  adding: 104_000.bin (deflated 65%)\n",
            "  adding: 105_000.bin (deflated 66%)\n",
            "  adding: 106_000.bin (deflated 65%)\n",
            "  adding: 107_000.bin (deflated 63%)\n",
            "  adding: 108_000.bin (deflated 65%)\n",
            "  adding: 109_000.bin (deflated 65%)\n",
            "  adding: 110_000.bin (deflated 66%)\n",
            "  adding: 11_000.bin (deflated 66%)\n",
            "  adding: 111_000.bin (deflated 66%)\n",
            "  adding: 112_000.bin (deflated 67%)\n",
            "  adding: 113_000.bin (deflated 66%)\n",
            "  adding: 114_000.bin (deflated 64%)\n",
            "  adding: 115_000.bin (deflated 64%)\n",
            "  adding: 116_000.bin (deflated 66%)\n",
            "  adding: 117_000.bin (deflated 65%)\n",
            "  adding: 118_000.bin (deflated 64%)\n",
            "  adding: 119_000.bin (deflated 64%)\n",
            "  adding: 120_000.bin (deflated 64%)\n",
            "  adding: 12_000.bin (deflated 67%)\n",
            "  adding: 121_000.bin (deflated 65%)\n",
            "  adding: 122_000.bin (deflated 64%)\n",
            "  adding: 123_000.bin (deflated 65%)\n",
            "  adding: 13_000.bin (deflated 67%)\n",
            "  adding: 14_000.bin (deflated 66%)\n",
            "  adding: 15_000.bin (deflated 65%)\n",
            "  adding: 16_000.bin (deflated 63%)\n",
            "  adding: 17_000.bin (deflated 66%)\n",
            "  adding: 18_000.bin (deflated 64%)\n",
            "  adding: 19_000.bin (deflated 67%)\n",
            "  adding: 20_000.bin (deflated 65%)\n",
            "  adding: 2_000.bin (deflated 68%)\n",
            "  adding: 21_000.bin (deflated 64%)\n",
            "  adding: 22_000.bin (deflated 65%)\n",
            "  adding: 23_000.bin (deflated 65%)\n",
            "  adding: 24_000.bin (deflated 64%)\n",
            "  adding: 25_000.bin (deflated 64%)\n",
            "  adding: 26_000.bin (deflated 66%)\n",
            "  adding: 27_000.bin (deflated 66%)\n",
            "  adding: 28_000.bin (deflated 64%)\n",
            "  adding: 29_000.bin (deflated 65%)\n",
            "  adding: 30_000.bin (deflated 63%)\n",
            "  adding: 3_000.bin (deflated 65%)\n",
            "  adding: 31_000.bin (deflated 65%)\n",
            "  adding: 32_000.bin (deflated 66%)\n",
            "  adding: 33_000.bin (deflated 64%)\n",
            "  adding: 34_000.bin (deflated 66%)\n",
            "  adding: 35_000.bin (deflated 65%)\n",
            "  adding: 36_000.bin (deflated 65%)\n",
            "  adding: 37_000.bin (deflated 66%)\n",
            "  adding: 38_000.bin (deflated 65%)\n",
            "  adding: 39_000.bin (deflated 64%)\n",
            "  adding: 40_000.bin (deflated 67%)\n",
            "  adding: 4_000.bin (deflated 66%)\n",
            "  adding: 41_000.bin (deflated 66%)\n",
            "  adding: 42_000.bin (deflated 65%)\n",
            "  adding: 43_000.bin (deflated 66%)\n",
            "  adding: 44_000.bin (deflated 65%)\n",
            "  adding: 45_000.bin (deflated 66%)\n",
            "  adding: 46_000.bin (deflated 66%)\n",
            "  adding: 47_000.bin (deflated 65%)\n",
            "  adding: 48_000.bin (deflated 67%)\n",
            "  adding: 49_000.bin (deflated 66%)\n",
            "  adding: 50_000.bin (deflated 66%)\n",
            "  adding: 5_000.bin (deflated 66%)\n",
            "  adding: 51_000.bin (deflated 66%)\n",
            "  adding: 52_000.bin (deflated 65%)\n",
            "  adding: 53_000.bin (deflated 66%)\n",
            "  adding: 54_000.bin (deflated 66%)\n",
            "  adding: 55_000.bin (deflated 66%)\n",
            "  adding: 56_000.bin (deflated 66%)\n",
            "  adding: 57_000.bin (deflated 66%)\n",
            "  adding: 58_000.bin (deflated 62%)\n",
            "  adding: 59_000.bin (deflated 65%)\n",
            "  adding: 60_000.bin (deflated 65%)\n",
            "  adding: 6_000.bin (deflated 67%)\n",
            "  adding: 61_000.bin (deflated 66%)\n",
            "  adding: 62_000.bin (deflated 64%)\n",
            "  adding: 63_000.bin (deflated 67%)\n",
            "  adding: 64_000.bin (deflated 67%)\n",
            "  adding: 65_000.bin (deflated 67%)\n",
            "  adding: 66_000.bin (deflated 66%)\n",
            "  adding: 67_000.bin (deflated 65%)\n",
            "  adding: 68_000.bin (deflated 66%)\n",
            "  adding: 69_000.bin (deflated 67%)\n",
            "  adding: 70_000.bin (deflated 65%)\n",
            "  adding: 7_000.bin (deflated 65%)\n",
            "  adding: 71_000.bin (deflated 66%)\n",
            "  adding: 72_000.bin (deflated 63%)\n",
            "  adding: 73_000.bin (deflated 66%)\n",
            "  adding: 74_000.bin (deflated 66%)\n",
            "  adding: 75_000.bin (deflated 62%)\n",
            "  adding: 76_000.bin (deflated 64%)\n",
            "  adding: 77_000.bin (deflated 65%)\n",
            "  adding: 78_000.bin (deflated 63%)\n",
            "  adding: 79_000.bin (deflated 66%)\n",
            "  adding: 80_000.bin (deflated 67%)\n",
            "  adding: 8_000.bin (deflated 65%)\n",
            "  adding: 81_000.bin (deflated 65%)\n",
            "  adding: 82_000.bin (deflated 67%)\n",
            "  adding: 83_000.bin (deflated 64%)\n",
            "  adding: 84_000.bin (deflated 64%)\n",
            "  adding: 85_000.bin (deflated 65%)\n",
            "  adding: 86_000.bin (deflated 65%)\n",
            "  adding: 87_000.bin (deflated 66%)\n",
            "  adding: 88_000.bin (deflated 64%)\n",
            "  adding: 89_000.bin (deflated 64%)\n",
            "  adding: 90_000.bin (deflated 66%)\n",
            "  adding: 9_000.bin (deflated 65%)\n",
            "  adding: 91_000.bin (deflated 65%)\n",
            "  adding: 92_000.bin (deflated 66%)\n",
            "  adding: 93_000.bin (deflated 66%)\n",
            "  adding: 94_000.bin (deflated 66%)\n",
            "  adding: 95_000.bin (deflated 63%)\n",
            "  adding: 96_000.bin (deflated 66%)\n",
            "  adding: 97_000.bin (deflated 63%)\n",
            "  adding: 98_000.bin (deflated 65%)\n",
            "  adding: 99_000.bin (deflated 67%)\n"
          ]
        }
      ]
    },
    {
      "cell_type": "code",
      "source": [
        "#create tf-idf denominator for each doc\n",
        "import math\n",
        "tfidf_dominator ={}\n",
        "for term, dfi in inverted.df.items():\n",
        "  post_list  = posting_per_term[term]\n",
        "  for tmp in post_list:\n",
        "    doc_id , f = tmp\n",
        "    Wij = f/inverted.DL[doc_id]\n",
        "    tfidf_dominator[doc_id] = tfidf_dominator.get(doc_id,0) + math.pow(Wij*math.log((inverted.N/dfi),2),2)\n",
        "for doc_id,dom in tfidf_dominator.items():\n",
        "  tfidf_dominator[doc_id] =math.sqrt(tfidf_dominator.get(doc_id,0))\n",
        "\n",
        "inverted.tfidf_dom = tfidf_dominator\n",
        "inverted.write_index('.', 'index')"
      ],
      "metadata": {
        "id": "ApbWySFT7YDs"
      },
      "execution_count": null,
      "outputs": []
    },
    {
      "cell_type": "code",
      "source": [
        ""
      ],
      "metadata": {
        "id": "tq6dITJ9NH4-",
        "colab": {
          "base_uri": "https://localhost:8080/"
        },
        "outputId": "7d8c2a5f-2bb3-4fa1-92a6-53670a69be2f"
      },
      "execution_count": null,
      "outputs": [
        {
          "output_type": "stream",
          "name": "stdout",
          "text": [
            "{12: 0.005219935865776231, 303: 0.005829233804397602, 307: 0.01628895380843329, 308: 0.010837864141918807, 336: 0.0059249630314877995, 339: 0.006050257020742621, 358: 0.004535038820920268, 359: 0.00628441406684601, 569: 0.005826161283791953, 594: 0.005275668358434834, 600: 0.004825772529001091, 620: 0.011665211238773095, 624: 0.005472413981287755, 627: 0.009452448772208294, 643: 0.040316681898873614, 663: 0.013474194609217843, 665: 0.009330757809194913, 676: 0.009146398950611463, 677: 0.006281054935665854, 689: 0.00949953939360577, 690: 0.008345819339163937, 691: 0.009912951661033476, 700: 0.004919420428664279, 701: 0.006105688438167179, 705: 0.012354074460051254, 706: 0.010501372185407027, 717: 0.007046039552012848, 736: 0.005383624954425465, 737: 0.010096290565868655, 738: 0.004716121832132117, 740: 0.011944956008579507, 746: 0.004707190102333758, 751: 0.007244310162352924, 752: 0.01052335969460785, 771: 0.007046793799903313, 783: 0.010572737200619605, 802: 0.0066870466145760995, 803: 0.013863227754323849, 808: 0.005937203976649485, 825: 0.014124965832628435, 841: 0.0060536251887550255, 842: 0.011028419184808538, 846: 0.019466175555872166, 854: 0.017138409648780443, 857: 0.00842734572172516, 863: 0.007459294737898966, 872: 0.006963277627363945, 874: 0.00794806144526835, 880: 0.008586731307996876, 881: 0.009385454005738177, 888: 0.013496804315522894, 905: 0.01296554467852516, 911: 0.025572141916741637, 930: 0.007903067559564235, 931: 0.009598707808864248, 933: 0.01690458448792751, 951: 0.007624233033464824, 954: 0.006418417967208358, 974: 0.0070855440449664716, 981: 0.006048518853441071, 983: 0.0058391817742829265, 305: 0.004526633315173769, 572: 0.021093009102026414, 573: 0.005031235521644819, 628: 0.00622875032043434, 655: 0.006601197303561819, 661: 0.03869016773160843, 713: 0.007965358797872123, 775: 0.0058630529278300755, 864: 0.007686994585414229, 894: 0.007790125384032158, 902: 0.014574462685924355, 921: 0.010729017472949914, 928: 0.008534320932648562, 25: 0.006684128080168886, 593: 0.009647876380727104, 621: 0.006103193735638114, 653: 0.008744644898543295, 657: 0.006845670779362719, 662: 0.00928361339421207, 674: 0.007039964372269256, 679: 0.035724310343435976, 680: 0.0058348091292271505, 710: 0.010024127874368767, 782: 0.010929804502903494, 800: 0.007459823119574504, 844: 0.00576084835510312, 849: 0.01586629258657862, 856: 0.0058139642633588656, 859: 0.016915320935669678, 909: 0.012777316948255483, 914: 0.010587351227722414, 958: 0.00861923617619482, 969: 0.007459589889226122, 586: 0.008450960697317931, 711: 0.008396508499991264, 765: 0.00642957398418715, 786: 0.006644797616102681, 795: 0.00965016766253125, 922: 0.0069318095178855866, 290: 0.015046247059405726, 334: 0.014122441772395371, 599: 0.008925932985314302, 633: 0.005474162493886117, 639: 0.008972286256610288, 640: 0.018122978671321455, 656: 0.02949337641705346, 666: 0.01179034709484939, 670: 0.014999910713907126, 682: 0.009477969716352947, 698: 0.013263352970892348, 704: 0.01224534637559055, 734: 0.009378399491169347, 784: 0.009469686407814117, 787: 0.011298073797855985, 788: 0.011894394203946343, 824: 0.008639916749685372, 840: 0.014679564714747429, 843: 0.00799144589904637, 848: 0.006895484465719813, 852: 0.01505327534816403, 876: 0.021180068160386974, 877: 0.014972234506925381, 878: 0.015282084298805529, 896: 0.009710089344738751, 897: 0.006124886047113061, 898: 0.006311250114304005, 900: 0.007170538568234574, 901: 0.007146027503604696, 904: 0.005885240301688881, 915: 0.01160028436797267, 956: 0.010349141330196612, 960: 0.014678928781050886, 967: 0.00848441838627573, 597: 0.00950396327159915, 324: 0.012463905185980747, 340: 0.01758380343255026, 590: 0.08935578625195369, 630: 0.014726674653546318, 634: 0.009346271416251557, 772: 0.01678034184800667, 868: 0.00948822201170749, 885: 0.018514481123562097, 892: 0.013111330311152237, 899: 0.008056905686444314, 957: 0.00863585119424877, 980: 0.007174925657913863, 664: 0.009269734152060624, 748: 0.014787759356340932, 924: 0.008743710105998014, 580: 0.016131275651709784, 673: 0.02004216441743329, 779: 0.021892378193582893, 791: 0.006508762741619687, 798: 0.010912466258798055, 953: 0.014231813424526648, 39: 0.010669605310429157, 309: 0.009227068436299024, 642: 0.01902598145907813, 649: 0.01199640606577759, 681: 0.0077872668155612055, 777: 0.017485339159950472, 789: 0.010491392912633164, 925: 0.024820491473134653, 966: 0.02116747810408487, 344: 0.014512196366049383, 595: 0.00916843745755284, 612: 0.015504378051079149, 678: 0.0149246534153306, 764: 0.01160962564184474, 785: 0.011444724155159437, 809: 0.013389507550249155, 903: 0.009321359236953233, 890: 0.009828541687591274, 709: 0.011806798263758566, 780: 0.06529888482301711, 651: 0.013000334449875726, 659: 0.01817429662631699, 869: 0.011505090918455956, 615: 0.01592819791568812, 683: 0.026348284493237714, 708: 0.015595236528663318, 799: 0.011160889848417524, 887: 0.007580808081912021, 910: 0.023879467840161612, 929: 0.02422156104374859, 316: 0.010672396131608987, 851: 0.020353330777069033, 632: 0.015223354355504233, 766: 0.02906035903287833, 675: 0.01210012942353176, 794: 0.01863279694653156, 332: 0.019252201678817037, 330: 0.019957091965509068, 875: 0.021739284750270746, 579: 0.01980491360340856, 742: 0.03538747053828796, 728: 0.011526279649852884, 694: 0.0499189203535185, 801: 0.0362936815339108}\n"
          ]
        }
      ]
    },
    {
      "cell_type": "markdown",
      "source": [
        "stemmer"
      ],
      "metadata": {
        "id": "aqgHfjkBqfoo"
      }
    },
    {
      "cell_type": "markdown",
      "source": [
        "READ POSTING LIST FROM INDEX"
      ],
      "metadata": {
        "id": "S5fxvdCSCF0L"
      }
    },
    {
      "cell_type": "markdown",
      "source": [
        "df idf"
      ],
      "metadata": {
        "id": "V5zt3KJ0PLvr"
      }
    },
    {
      "cell_type": "code",
      "source": [
        ""
      ],
      "metadata": {
        "id": "-yYL_PZtH2-5"
      },
      "execution_count": null,
      "outputs": []
    },
    {
      "cell_type": "code",
      "source": [
        "pages_links = spark.read.parquet(path).limit(1000).select(\"id\", \"anchor_text\").rdd"
      ],
      "metadata": {
        "id": "pUHEZejYhlHT"
      },
      "execution_count": null,
      "outputs": []
    },
    {
      "cell_type": "code",
      "source": [
        "def generate_graph(pages):\n",
        "  ''' Compute the directed graph generated by wiki links.\n",
        "  Parameters:\n",
        "  -----------\n",
        "    pages: RDD\n",
        "      An RDD where each row consists of one wikipedia articles with 'id' and \n",
        "      'anchor_text'.\n",
        "  Returns:\n",
        "  --------\n",
        "    edges: RDD\n",
        "      An RDD where each row represents an edge in the directed graph created by\n",
        "      the wikipedia links. The first entry should the source page id and the \n",
        "      second entry is the destination page id. No duplicates should be present. \n",
        "    vertices: RDD\n",
        "      An RDD where each row represents a vetrix (node) in the directed graph \n",
        "      created by the wikipedia links. No duplicates should be present. \n",
        "  '''\n",
        "  # YOUR CODE HERE\n",
        "  vr = pages.map(lambda x : (x[0],0))\n",
        "  edges2 = (pages.flatMap(lambda x : [(x[0],p[0]) for p in x[1] ]))\n",
        "  edges3 = edges2.distinct()\n",
        "\n",
        "\n",
        "  vr_pre = edges3.flatMap(lambda x: x).distinct()\n",
        "\n",
        "  edges = edges3.map(lambda x : Row(x[0],x[1]))\n",
        "  vertices = vr_pre.map(lambda x : Row(x))\n",
        "\n",
        "  return edges, vertices"
      ],
      "metadata": {
        "id": "MepxbSoghlqu"
      },
      "execution_count": null,
      "outputs": []
    },
    {
      "cell_type": "code",
      "source": [
        "edges, vertices = generate_graph(pages_links)\n",
        "# time the actual execution\n",
        "v_cnt, e_cnt = vertices.count(), edges.count()"
      ],
      "metadata": {
        "id": "Tq4ejaMGhn3o"
      },
      "execution_count": null,
      "outputs": []
    },
    {
      "cell_type": "code",
      "source": [
        "edgesDF = edges.toDF(['src', 'dst']).repartition(4, 'src')\n",
        "verticesDF = vertices.toDF(['id']).repartition(4, 'id')\n",
        "g = GraphFrame(verticesDF, edgesDF)\n",
        "pr_results = g.pageRank(resetProbability=0.15, maxIter=10)\n",
        "pr = pr_results.vertices.select(\"id\", \"pagerank\")\n",
        "pr = pr.sort(col('pagerank').desc())\n",
        "pr.repartition(1).write.csv('pr', compression=\"gzip\")"
      ],
      "metadata": {
        "id": "3LZecqXXh8PA"
      },
      "execution_count": null,
      "outputs": []
    },
    {
      "cell_type": "markdown",
      "source": [
        "Page Rank"
      ],
      "metadata": {
        "id": "tjuyft3IhX9_"
      }
    },
    {
      "cell_type": "markdown",
      "source": [
        ""
      ],
      "metadata": {
        "id": "Q4fH2HZAhgAO"
      }
    }
  ]
}