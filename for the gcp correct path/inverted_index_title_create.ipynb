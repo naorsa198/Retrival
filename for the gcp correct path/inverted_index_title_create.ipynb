{
  "nbformat": 4,
  "nbformat_minor": 0,
  "metadata": {
    "colab": {
      "name": "inverted_index_title_colab.ipynb",
      "provenance": [],
      "collapsed_sections": []
    },
    "kernelspec": {
      "display_name": "Python 3",
      "language": "python",
      "name": "python3"
    },
    "language_info": {
      "codemirror_mode": {
        "name": "ipython",
        "version": 3
      },
      "file_extension": ".py",
      "mimetype": "text/x-python",
      "name": "python",
      "nbconvert_exporter": "python",
      "pygments_lexer": "ipython3",
      "version": "3.7.6"
    }
  },
  "cells": [
    {
      "cell_type": "markdown",
      "metadata": {
        "id": "ByCSu-FhG5v7"
      },
      "source": [
        "# Inverted index title\n",
        "based on assignment #3"
      ]
    },
    {
      "cell_type": "markdown",
      "metadata": {
        "id": "J0P4W63JvrT5"
      },
      "source": [
        "# Setup"
      ]
    },
    {
      "cell_type": "markdown",
      "metadata": {
        "id": "59yMYAN1x3oh"
      },
      "source": [
        "## General imports\n",
        "\n",
        "The `inverted_index_colab` import requires the `inverted_index_title_colab.py` file. You should upload the file and then run this cell."
      ]
    },
    {
      "cell_type": "code",
      "metadata": {
        "colab": {
          "base_uri": "https://localhost:8080/"
        },
        "deletable": false,
        "editable": false,
        "id": "byNgReCYsmA9",
        "nbgrader": {
          "cell_type": "code",
          "checksum": "9a5e34081c68da39370c09ff0ee046f0",
          "grade": false,
          "grade_id": "cell-4bab9532110cc7e3",
          "locked": true,
          "schema_version": 3,
          "solution": false,
          "task": false
        },
        "outputId": "1361db10-676d-4ba7-898e-297c341929f9"
      },
      "source": [
        "import sys\n",
        "from collections import Counter, OrderedDict\n",
        "import itertools\n",
        "from itertools import islice, count, groupby\n",
        "import pandas as pd\n",
        "import os\n",
        "import re\n",
        "from operator import itemgetter\n",
        "import nltk\n",
        "from nltk.stem.porter import *\n",
        "from nltk.corpus import stopwords\n",
        "from time import time\n",
        "from timeit import timeit\n",
        "from pathlib import Path\n",
        "import pickle\n",
        "import pandas as pd\n",
        "import numpy as np\n",
        "from google.cloud import storage\n",
        "\n",
        "import hashlib\n",
        "def _hash(s):\n",
        "    return hashlib.blake2b(bytes(s, encoding='utf8'), digest_size=5).hexdigest()\n",
        "\n",
        "nltk.download('stopwords')\n",
        "\n",
        "from inverted_index_title_colab import *"
      ],
      "execution_count": 2,
      "outputs": [
        {
          "output_type": "stream",
          "name": "stdout",
          "text": [
            "[nltk_data] Downloading package stopwords to /root/nltk_data...\n",
            "[nltk_data]   Package stopwords is already up-to-date!\n"
          ]
        }
      ]
    },
    {
      "cell_type": "markdown",
      "metadata": {
        "id": "KRjOVgLBrfCs"
      },
      "source": [
        "## Installing, importing, and initializing PySpark\n"
      ]
    },
    {
      "cell_type": "markdown",
      "metadata": {
        "id": "GORmjMdasns1"
      },
      "source": [
        "The following code installs PySpark and its dependencies in Colab. In addition, we install GraphFrames, which is a PySpark package for dealing with graphs in a distributed fashion. Colab notebooks run on a single machine so we will work in local mode, i.e. there is no cluster of machines and both the master and worker processes run on a single machine. This will help us debug and iron out the code we will use in the second half of this assignment on an actual cluster mode in GCP. \n",
        "\n",
        "The installation in the next cell should take about 1 minute in a fresh environment. Don't worry about going  over the 90 seconds limit for the assignment because in our testing enviroment all of these requirements will already be met. "
      ]
    },
    {
      "cell_type": "code",
      "metadata": {
        "id": "Xf84c2MsIUGk"
      },
      "source": [
        ""
      ],
      "execution_count": 2,
      "outputs": []
    },
    {
      "cell_type": "code",
      "metadata": {
        "colab": {
          "base_uri": "https://localhost:8080/"
        },
        "deletable": false,
        "editable": false,
        "id": "kw33QgujFQez",
        "nbgrader": {
          "cell_type": "code",
          "checksum": "da733d0507fb7716a3f432b5d9d409a3",
          "grade": false,
          "grade_id": "cell-3f5100ba2d532176",
          "locked": true,
          "schema_version": 3,
          "solution": false,
          "task": false
        },
        "outputId": "69585744-e2d5-4d61-8845-4cb79b5296d0"
      },
      "source": [
        "# These will already be installed in the testing environment so disregard the \n",
        "# amount of time (~1 minute) it takes to install. \n",
        "!pip install -q pyspark\n",
        "!pip install -U -q PyDrive\n",
        "!apt-get update -qq\n",
        "!apt install openjdk-8-jdk-headless -qq\n",
        "!pip install -q graphframes\n",
        "\n",
        "import os\n",
        "os.environ[\"JAVA_HOME\"] = \"/usr/lib/jvm/java-8-openjdk-amd64\"\n",
        "graphframes_jar = 'https://repos.spark-packages.org/graphframes/graphframes/0.8.2-spark3.2-s_2.12/graphframes-0.8.2-spark3.2-s_2.12.jar'\n",
        "spark_jars = '/usr/local/lib/python3.7/dist-packages/pyspark/jars'\n",
        "!wget -N -P $spark_jars $graphframes_jar"
      ],
      "execution_count": 3,
      "outputs": [
        {
          "output_type": "stream",
          "name": "stdout",
          "text": [
            "openjdk-8-jdk-headless is already the newest version (8u312-b07-0ubuntu1~18.04).\n",
            "0 upgraded, 0 newly installed, 0 to remove and 59 not upgraded.\n",
            "--2022-01-06 07:50:14--  https://repos.spark-packages.org/graphframes/graphframes/0.8.2-spark3.2-s_2.12/graphframes-0.8.2-spark3.2-s_2.12.jar\n",
            "Resolving repos.spark-packages.org (repos.spark-packages.org)... 13.224.7.49, 13.224.7.124, 13.224.7.16, ...\n",
            "Connecting to repos.spark-packages.org (repos.spark-packages.org)|13.224.7.49|:443... connected.\n",
            "HTTP request sent, awaiting response... 304 Not Modified\n",
            "File ‘/usr/local/lib/python3.7/dist-packages/pyspark/jars/graphframes-0.8.2-spark3.2-s_2.12.jar’ not modified on server. Omitting download.\n",
            "\n"
          ]
        }
      ]
    },
    {
      "cell_type": "code",
      "metadata": {
        "deletable": false,
        "editable": false,
        "id": "BkEErqJnsXyy",
        "nbgrader": {
          "cell_type": "code",
          "checksum": "032f9e425c679e50c3f5c4ea0c8c1a0d",
          "grade": false,
          "grade_id": "cell-eb29d235a981ccf1",
          "locked": true,
          "schema_version": 3,
          "solution": false,
          "task": false
        }
      },
      "source": [
        "import pyspark\n",
        "from pyspark.sql import *\n",
        "from pyspark.sql.functions import *\n",
        "from pyspark import SparkContext, SparkConf\n",
        "from pyspark.sql import SQLContext\n",
        "from pyspark.ml.feature import Tokenizer, RegexTokenizer\n",
        "from graphframes import *"
      ],
      "execution_count": 4,
      "outputs": []
    },
    {
      "cell_type": "code",
      "metadata": {
        "deletable": false,
        "editable": false,
        "id": "OgiSewKAsgKd",
        "nbgrader": {
          "cell_type": "code",
          "checksum": "a5af00dff69d4112e18699486f128230",
          "grade": false,
          "grade_id": "cell-3abe6255693138cc",
          "locked": true,
          "schema_version": 3,
          "solution": false,
          "task": false
        }
      },
      "source": [
        "# Initializing spark context\n",
        "# create a spark context and session\n",
        "conf = SparkConf().set(\"spark.ui.port\", \"4050\")\n",
        "sc = pyspark.SparkContext(conf=conf)\n",
        "sc.addPyFile(str(Path(spark_jars) / Path(graphframes_jar).name))\n",
        "spark = SparkSession.builder.getOrCreate()"
      ],
      "execution_count": 5,
      "outputs": []
    },
    {
      "cell_type": "markdown",
      "metadata": {
        "id": "A9fjw2J-s87v"
      },
      "source": [
        "You can easily check the current version and get the link of the web interface. In the Spark UI, you can monitor the progress of your job and debug the performance bottlenecks (if your Colab is running with a **local runtime**)."
      ]
    },
    {
      "cell_type": "code",
      "metadata": {
        "colab": {
          "base_uri": "https://localhost:8080/",
          "height": 219
        },
        "id": "PUyhQAlBs8qL",
        "outputId": "9a0f4fca-2c51-46ef-eb3b-5e0942d1b995"
      },
      "source": [
        "spark"
      ],
      "execution_count": 6,
      "outputs": [
        {
          "output_type": "execute_result",
          "data": {
            "text/html": [
              "\n",
              "            <div>\n",
              "                <p><b>SparkSession - in-memory</b></p>\n",
              "                \n",
              "        <div>\n",
              "            <p><b>SparkContext</b></p>\n",
              "\n",
              "            <p><a href=\"http://00ecf607e4cf:4050\">Spark UI</a></p>\n",
              "\n",
              "            <dl>\n",
              "              <dt>Version</dt>\n",
              "                <dd><code>v3.2.0</code></dd>\n",
              "              <dt>Master</dt>\n",
              "                <dd><code>local[*]</code></dd>\n",
              "              <dt>AppName</dt>\n",
              "                <dd><code>pyspark-shell</code></dd>\n",
              "            </dl>\n",
              "        </div>\n",
              "        \n",
              "            </div>\n",
              "        "
            ],
            "text/plain": [
              "<pyspark.sql.session.SparkSession at 0x7fb6c349a750>"
            ]
          },
          "metadata": {},
          "execution_count": 6
        }
      ]
    },
    {
      "cell_type": "markdown",
      "metadata": {
        "id": "19EG5AvVru1J"
      },
      "source": [
        "## Copy some wiki data"
      ]
    },
    {
      "cell_type": "markdown",
      "metadata": {
        "id": "ofyAoTHttjHE"
      },
      "source": [
        "As mentioned above, all wiki dumps were preprocessed and placed in a shared google storage bucket. To access the files in Colab, you will first have to authenticate with google storage, and then copy the data to your local environment. In GCP, the storage will already be mounted on the cluster machines and we will show you how to access it. "
      ]
    },
    {
      "cell_type": "code",
      "metadata": {
        "deletable": false,
        "editable": false,
        "id": "DkdjBm5DOVWX",
        "nbgrader": {
          "cell_type": "code",
          "checksum": "0b138c8dd737320e8f709a125f6862f9",
          "grade": false,
          "grade_id": "cell-e21b8fff61e90a95",
          "locked": true,
          "schema_version": 3,
          "solution": false,
          "task": false
        }
      },
      "source": [
        "# Authenticate your user\n",
        "# The authentication should be done with the email connected to your GCP account\n",
        "from google.colab import auth\n",
        "auth.authenticate_user()"
      ],
      "execution_count": 7,
      "outputs": []
    },
    {
      "cell_type": "code",
      "metadata": {
        "colab": {
          "base_uri": "https://localhost:8080/"
        },
        "deletable": false,
        "editable": false,
        "id": "vDuikxFbN9B7",
        "nbgrader": {
          "cell_type": "code",
          "checksum": "21fef1395f2be15f2a4cac7d41236bf3",
          "grade": false,
          "grade_id": "cell-e19184d540ed3d67",
          "locked": true,
          "schema_version": 3,
          "solution": false,
          "task": false
        },
        "outputId": "0ce8e1ff-dfeb-4bc5-fe3b-4f9f7388d009"
      },
      "source": [
        "# Copy one wikidumps files \n",
        "import os\n",
        "from pathlib import Path\n",
        "from google.colab import auth\n",
        "\n",
        "project_id = 'core-period-321814'\n",
        "!gcloud config set project {project_id}\n",
        "\n",
        "data_bucket_name = 'wikidata_preprocessed'\n",
        "try:\n",
        "    if os.environ[\"wikidata_preprocessed\"] is not None:\n",
        "        pass  \n",
        "except:\n",
        "      !mkdir wikidumps\n",
        "      !gsutil cp gs://{data_bucket_name}/multistream1_preprocessed.parquet \"wikidumps/\" \n"
      ],
      "execution_count": 8,
      "outputs": [
        {
          "output_type": "stream",
          "name": "stdout",
          "text": [
            "Updated property [core/project].\n",
            "\u001b[1;33mWARNING:\u001b[0m You do not appear to have access to project [core-period-321814] or it does not exist.\n",
            "mkdir: cannot create directory ‘wikidumps’: File exists\n",
            "Copying gs://wikidata_preprocessed/multistream1_preprocessed.parquet...\n",
            "/ [1 files][316.7 MiB/316.7 MiB]                                                \n",
            "Operation completed over 1 objects/316.7 MiB.                                    \n"
          ]
        }
      ]
    },
    {
      "cell_type": "markdown",
      "metadata": {
        "id": "_GU4djg6yizh"
      },
      "source": [
        "# Processing wikipedia"
      ]
    },
    {
      "cell_type": "markdown",
      "metadata": {
        "id": "uF9ywiIC-sAX"
      },
      "source": [
        "Now that we completed the setup and have some data in our local environment, we are ready to process it using PySpark. "
      ]
    },
    {
      "cell_type": "markdown",
      "metadata": {
        "id": "tkEUicVTzDZd"
      },
      "source": [
        "## A 2-minute intro to PySpark"
      ]
    },
    {
      "cell_type": "markdown",
      "metadata": {
        "id": "5aQwbFGxPb4D"
      },
      "source": [
        "Let's look at our data before transforming it to RDD."
      ]
    },
    {
      "cell_type": "code",
      "metadata": {
        "colab": {
          "base_uri": "https://localhost:8080/"
        },
        "deletable": false,
        "editable": false,
        "id": "24AI2jXgOuVN",
        "nbgrader": {
          "cell_type": "code",
          "checksum": "cf07662ebf5f21f0f3bb8d43ee5aa50f",
          "grade": false,
          "grade_id": "cell-b34211e3350164ca",
          "locked": true,
          "schema_version": 3,
          "solution": false,
          "task": false
        },
        "outputId": "03bfdbb9-f8cc-48f9-eef4-8539c387c47a"
      },
      "source": [
        "from pathlib import Path \n",
        "import os\n",
        "\n",
        "try:\n",
        "    if os.environ[\"wikidata_preprocessed\"] is not None:\n",
        "      path = os.environ[\"wikidata_preprocessed\"]+\"/wikidumps/*\"\n",
        "except:\n",
        "      path = \"wikidumps/*\"\n",
        "\n",
        "parquetFile = spark.read.parquet(path)\n",
        "parquetFile.show()"
      ],
      "execution_count": 9,
      "outputs": [
        {
          "output_type": "stream",
          "name": "stdout",
          "text": [
            "+---+--------------------+--------------------+--------------------+\n",
            "| id|               title|                text|         anchor_text|\n",
            "+---+--------------------+--------------------+--------------------+\n",
            "| 12|           Anarchism|'''Anarchism''' i...|[{23040, politica...|\n",
            "| 25|              Autism|'''Autism''' is a...|[{492271, Clinica...|\n",
            "| 39|              Albedo|thumb|upright=1.3...|[{679294, diffuse...|\n",
            "|290|                   A|'''A''', or '''a'...|[{290, See below}...|\n",
            "|303|             Alabama|'''Alabama''' () ...|[{351590, Yellowh...|\n",
            "|305|            Achilles|thumb|260px|Ancie...|[{1076007, potter...|\n",
            "|307|     Abraham Lincoln|'''Abraham Lincol...|[{1827174, Alexan...|\n",
            "|308|           Aristotle|'''Aristotle''' (...|[{1389981, bust},...|\n",
            "|309|An American in Paris|'''''An American ...|[{13066, George G...|\n",
            "|316|Academy Award for...|The '''Academy Aw...|[{39842, Academy ...|\n",
            "|324|      Academy Awards|The '''Academy Aw...|[{649481, film in...|\n",
            "|330|             Actrius|'''''Actresses'''...|[{5282, Catalan},...|\n",
            "|332|     Animalia (book)|'''''Animalia''''...|[{2511084, Graeme...|\n",
            "|334|International Ato...|'''International ...|[{25453985, atomi...|\n",
            "|336|            Altruism|thumb|Giving alms...|[{657573, alms}, ...|\n",
            "|339|            Ayn Rand|'''Alice O'Connor...|[{24320051, St. P...|\n",
            "|340|        Alain Connes|'''Alain Connes''...|[{1201522, Dragui...|\n",
            "|344|          Allan Dwan|'''Allan Dwan''' ...|[{64646, Toronto}...|\n",
            "|358|             Algeria|'''Algeria''', of...|[{803, Arabic}, {...|\n",
            "|359|List of Atlas Shr...|This is a list of...|[{339, Ayn Rand},...|\n",
            "+---+--------------------+--------------------+--------------------+\n",
            "only showing top 20 rows\n",
            "\n"
          ]
        }
      ]
    },
    {
      "cell_type": "code",
      "metadata": {
        "deletable": false,
        "editable": false,
        "id": "KMcsrc8RO9kn",
        "nbgrader": {
          "cell_type": "code",
          "checksum": "9f6dbcc85fde698083cc613e0cc1aaef",
          "grade": false,
          "grade_id": "cell-59e4fe49688570ce",
          "locked": true,
          "schema_version": 3,
          "solution": false,
          "task": false
        }
      },
      "source": [
        "# take the 'text' and 'id' or the first 1000 rows and create an RDD from it\n",
        "doc_text_pairs = parquetFile.limit(1000).select(\"title\", \"id\").rdd"
      ],
      "execution_count": 10,
      "outputs": []
    },
    {
      "cell_type": "markdown",
      "metadata": {
        "id": "__g69rcETm4w"
      },
      "source": [
        "## Word counts"
      ]
    },
    {
      "cell_type": "markdown",
      "metadata": {
        "id": "-zUibXvjWb6Q"
      },
      "source": [
        "### Term frequency"
      ]
    },
    {
      "cell_type": "markdown",
      "metadata": {
        "id": "UrBuHUHmA5pP"
      },
      "source": [
        "**YOUR TASK (10 POINTS):** Complete the implementation of `word_count`, which calculates the term-frequency (tf) for each word in a single document.  map function. The functions gets the text and the wiki id, calculates the tf and returns list of tuples in the form of (token, (wiki_id, tf))."
      ]
    },
    {
      "cell_type": "code",
      "metadata": {
        "deletable": false,
        "id": "9GmPedzexLyt",
        "nbgrader": {
          "cell_type": "code",
          "checksum": "27318e0e7bdcd4384f38fbce1f52996a",
          "grade": false,
          "grade_id": "cell-6b21d53c0afef4f6",
          "locked": false,
          "schema_version": 3,
          "solution": true,
          "task": false
        }
      },
      "source": [
        "english_stopwords = frozenset(stopwords.words('english'))\n",
        "corpus_stopwords = ['category', 'references', 'also', 'links', 'extenal', 'see', 'thumb']\n",
        "RE_WORD = re.compile(r\"\"\"[\\#\\@\\w](['\\-]?\\w){2,24}\"\"\", re.UNICODE)\n",
        "\n",
        "all_stopwords = english_stopwords.union(corpus_stopwords)\n",
        "\n",
        "def word_count(title, id):\n",
        "  ''' Count the frequency of each word in `text` (tf) that is not included in \n",
        "  `all_stopwords` and return entries that will go into our posting lists. \n",
        "  Parameters:\n",
        "  -----------\n",
        "    text: str\n",
        "      Text of one document\n",
        "    id: int\n",
        "      Document id\n",
        "  Returns:\n",
        "  --------\n",
        "    List of tuples\n",
        "      A list of (token, (doc_id, tf)) pairs \n",
        "      for example: [(\"Anarchism\", (12, 5)), ...]\n",
        "  '''\n",
        "  tokens = [token.group() for token in RE_WORD.finditer(title.lower())]\n",
        "  filtered_tokens = [tok for tok in tokens if tok not in all_stopwords]\n",
        "  count = Counter(filtered_tokens)\n",
        "  return [(k,(id,v)) for k,v in count.items()]\n",
        "  # return [(id,(k,v)) for k,v in count.items()]"
      ],
      "execution_count": 11,
      "outputs": []
    },
    {
      "cell_type": "code",
      "source": [
        "title = \"This is a test to check the words count function actually count words\"\n",
        "id = 0\n",
        "x = word_count(title, id)\n",
        "print(x)"
      ],
      "metadata": {
        "colab": {
          "base_uri": "https://localhost:8080/"
        },
        "id": "8-w5zTZHGKkI",
        "outputId": "e97d76ce-1e73-431a-b29a-61ce75ad9c43"
      },
      "execution_count": 12,
      "outputs": [
        {
          "output_type": "stream",
          "name": "stdout",
          "text": [
            "[('test', (0, 1)), ('check', (0, 1)), ('words', (0, 2)), ('count', (0, 2)), ('function', (0, 1)), ('actually', (0, 1))]\n"
          ]
        }
      ]
    },
    {
      "cell_type": "code",
      "metadata": {
        "deletable": false,
        "editable": false,
        "id": "RLqHPKUvbT8R",
        "nbgrader": {
          "cell_type": "code",
          "checksum": "f87a2c3f96e1be68b55c7bdc528c9b70",
          "grade": true,
          "grade_id": "cell-078c69c116c8dc58",
          "locked": true,
          "points": 10,
          "schema_version": 3,
          "solution": false,
          "task": false
        }
      },
      "source": [
        "# test for word count\n",
        "title = \"This is a test to check the words count function actually count words\"\n",
        "id = 0\n",
        "word_count_results = word_count(title, id)\n",
        "# assert word_count_results[0][0] == 'test'\n",
        "# assert len(word_count_results) == 6\n",
        "# assert word_count_results[2][1][1] == word_count_results[2][1][1]\n",
        "# assert type(word_count_results[0][0]) == str\n",
        "# assert type(word_count_results[0][1]) == tuple\n"
      ],
      "execution_count": 13,
      "outputs": []
    },
    {
      "cell_type": "markdown",
      "metadata": {
        "id": "MNC7QlO8KZL_"
      },
      "source": [
        "PySpark has a `map` trasformation that, just like we learned in class about Map in MapReduce, executes a given function on each element of an  RDD. It also has a `flatMap()` transformation that executes a given function on each element of an RDD, but afterwards flattens the results to create one big \"list\" instead multiple nested lists. For example, `flatMap` on the above `word_count` function will concatenate the tokens from multiple document into one big list rather than keeping separate list of tokens for each document like a regular `map` would produce. "
      ]
    },
    {
      "cell_type": "code",
      "metadata": {
        "deletable": false,
        "editable": false,
        "id": "g3DUXXzxsy-B",
        "nbgrader": {
          "cell_type": "code",
          "checksum": "1b9779ec6b1e9dc06e41ea10fd7c259a",
          "grade": false,
          "grade_id": "cell-340917ce88e0d116",
          "locked": true,
          "schema_version": 3,
          "solution": false,
          "task": false
        },
        "colab": {
          "base_uri": "https://localhost:8080/"
        },
        "outputId": "b3496329-b591-4d8f-e1cc-a1f89f712211"
      },
      "source": [
        "word_counts = doc_text_pairs.flatMap(lambda x: word_count(x[0], x[1]))\n",
        "# word_counts.toDF().show()\n",
        "word_counts.take(10)"
      ],
      "execution_count": 14,
      "outputs": [
        {
          "output_type": "execute_result",
          "data": {
            "text/plain": [
              "[('anarchism', (12, 1)),\n",
              " ('autism', (25, 1)),\n",
              " ('albedo', (39, 1)),\n",
              " ('alabama', (303, 1)),\n",
              " ('achilles', (305, 1)),\n",
              " ('abraham', (307, 1)),\n",
              " ('lincoln', (307, 1)),\n",
              " ('aristotle', (308, 1)),\n",
              " ('american', (309, 1)),\n",
              " ('paris', (309, 1))]"
            ]
          },
          "metadata": {},
          "execution_count": 14
        }
      ]
    },
    {
      "cell_type": "markdown",
      "metadata": {
        "id": "cwC3pX1ss1en"
      },
      "source": [
        "After `flatMap` is executed, the counts for a given token are likely to be scattered accross multiple machines/workers in the cluster. In order to create the posting lists for each token, we need a reduce operation that collects them into one list and sorts them by the document id (wiki_id). \n",
        "\n",
        "Spark has several ways of reducing or aggergating values, but we will use `groupByKey`, which like Reduce in MapReduce, collects all the values for a given key into an iterable list of the values associated with that key. The result of `groupByKey` is an RDD with (key, value*s*) pairs. Then, we can call `map` to execute a function on each pair in that RDD or call `mapValues` to execute a function only on the values iterable.\n",
        "\n",
        "**YOUR TASK (5 POINTS):** Complete the implementation of `reduce_word_counts`, which operates on the pairs returned by `word_count`. The functions gets a list of values (unsorted posting list) and sorts it."
      ]
    },
    {
      "cell_type": "code",
      "metadata": {
        "deletable": false,
        "id": "1yFhHQBZHIBb",
        "nbgrader": {
          "cell_type": "code",
          "checksum": "b8b3d536f304b848874fd48edd59268c",
          "grade": false,
          "grade_id": "cell-78a1517e2ac6a914",
          "locked": false,
          "schema_version": 3,
          "solution": true,
          "task": false
        }
      },
      "source": [
        "def reduce_word_counts(unsorted_pl):\n",
        "  ''' Returns a sorted posting list by wiki_id.\n",
        "  Parameters:\n",
        "  -----------\n",
        "    unsorted_pl: list of tuples\n",
        "      A list of (wiki_id, tf) tuples \n",
        "  Returns:\n",
        "  --------\n",
        "    list of tuples\n",
        "      A sorted posting list.\n",
        "  '''\n",
        "  # YOUR CODE HERE\n",
        "  return sorted(unsorted_pl, key = lambda tup: tup[0])"
      ],
      "execution_count": 15,
      "outputs": []
    },
    {
      "cell_type": "code",
      "metadata": {
        "deletable": false,
        "editable": false,
        "id": "-VWkWnUO_QKd",
        "nbgrader": {
          "cell_type": "code",
          "checksum": "dad7c9e7a0150c79ab22b7c91cf1015b",
          "grade": false,
          "grade_id": "cell-a17b5f692abdf5af",
          "locked": true,
          "schema_version": 3,
          "solution": false,
          "task": false
        },
        "colab": {
          "base_uri": "https://localhost:8080/"
        },
        "outputId": "5ceb3baa-bd99-454a-b98b-33dc6596273a"
      },
      "source": [
        "postings = word_counts.groupByKey().mapValues(reduce_word_counts)\n",
        "# postings.toDF().show()\n",
        "postings.take(50)"
      ],
      "execution_count": 16,
      "outputs": [
        {
          "output_type": "execute_result",
          "data": {
            "text/plain": [
              "[('anarchism', [(12, 1)]),\n",
              " ('autism', [(25, 1)]),\n",
              " ('albedo', [(39, 1)]),\n",
              " ('alabama', [(303, 1), (1285, 1), (1286, 1), (1484, 1)]),\n",
              " ('achilles', [(305, 1), (2421, 1)]),\n",
              " ('abraham', [(307, 1), (1436, 1)]),\n",
              " ('lincoln', [(307, 1)]),\n",
              " ('aristotle', [(308, 1)]),\n",
              " ('american',\n",
              "  [(309, 1),\n",
              "   (615, 1),\n",
              "   (659, 1),\n",
              "   (771, 1),\n",
              "   (863, 1),\n",
              "   (869, 1),\n",
              "   (966, 1),\n",
              "   (1110, 1),\n",
              "   (1111, 1),\n",
              "   (1112, 1),\n",
              "   (1201, 1),\n",
              "   (1241, 1),\n",
              "   (1488, 1),\n",
              "   (1558, 1),\n",
              "   (1890, 1),\n",
              "   (1902, 1),\n",
              "   (1950, 1),\n",
              "   (1973, 1),\n",
              "   (2011, 1),\n",
              "   (2175, 1),\n",
              "   (2357, 1),\n",
              "   (2386, 1)]),\n",
              " ('paris', [(309, 1)]),\n",
              " ('academy', [(316, 1), (324, 1)]),\n",
              " ('award', [(316, 1)]),\n",
              " ('best', [(316, 1)]),\n",
              " ('production', [(316, 1)]),\n",
              " ('design', [(316, 1)]),\n",
              " ('awards', [(324, 1)]),\n",
              " ('actrius', [(330, 1)]),\n",
              " ('animalia', [(332, 1)]),\n",
              " ('book', [(332, 1), (1726, 1)]),\n",
              " ('international', [(334, 1)]),\n",
              " ('atomic', [(334, 1), (673, 1), (1194, 1), (1200, 1), (1206, 1), (2014, 1)]),\n",
              " ('time', [(334, 1), (1638, 1)]),\n",
              " ('altruism', [(336, 1)]),\n",
              " ('ayn', [(339, 1)]),\n",
              " ('rand', [(339, 1)]),\n",
              " ('alain', [(340, 1), (1485, 1)]),\n",
              " ('connes', [(340, 1)]),\n",
              " ('allan', [(344, 1)]),\n",
              " ('dwan', [(344, 1)]),\n",
              " ('algeria', [(358, 1)]),\n",
              " ('list', [(359, 1), (728, 1), (1286, 1), (2142, 1)]),\n",
              " ('atlas', [(359, 1), (780, 1)]),\n",
              " ('shrugged', [(359, 1)]),\n",
              " ('characters', [(359, 1)]),\n",
              " ('anthropology', [(569, 1)]),\n",
              " ('agricultural', [(572, 1)]),\n",
              " ('science', [(572, 1)]),\n",
              " ('alchemy', [(573, 1)]),\n",
              " ('alien', [(579, 1)]),\n",
              " ('astronomer', [(580, 1), (1940, 1)]),\n",
              " ('ascii', [(586, 1), (1884, 1)]),\n",
              " ('austin', [(590, 1), (1998, 1)]),\n",
              " ('disambiguation',\n",
              "  [(590, 1),\n",
              "   (632, 1),\n",
              "   (661, 1),\n",
              "   (679, 1),\n",
              "   (694, 1),\n",
              "   (780, 1),\n",
              "   (1155, 1),\n",
              "   (1184, 1),\n",
              "   (1391, 1),\n",
              "   (1501, 1),\n",
              "   (1597, 1),\n",
              "   (1919, 1),\n",
              "   (1931, 1),\n",
              "   (2004, 1),\n",
              "   (2123, 1),\n",
              "   (2127, 1),\n",
              "   (2209, 1),\n",
              "   (2332, 1)]),\n",
              " ('animation', [(593, 1)]),\n",
              " ('apollo',\n",
              "  [(594, 1),\n",
              "   (662, 1),\n",
              "   (663, 1),\n",
              "   (1461, 1),\n",
              "   (1770, 1),\n",
              "   (1773, 1),\n",
              "   (1774, 1),\n",
              "   (1965, 1),\n",
              "   (1966, 1),\n",
              "   (1967, 1),\n",
              "   (1968, 1),\n",
              "   (1969, 1),\n",
              "   (1970, 1),\n",
              "   (1971, 1)]),\n",
              " ('andre', [(595, 1)]),\n",
              " ('agassi', [(595, 1)]),\n",
              " ('austroasiatic', [(597, 1)]),\n",
              " ('languages', [(597, 1), (599, 1), (824, 1)]),\n",
              " ('afroasiatic', [(599, 1)])]"
            ]
          },
          "metadata": {},
          "execution_count": 16
        }
      ]
    },
    {
      "cell_type": "code",
      "metadata": {
        "deletable": false,
        "editable": false,
        "id": "6zbBgNIM46OX",
        "nbgrader": {
          "cell_type": "code",
          "checksum": "e852c4699f374fa118340664637d9d2c",
          "grade": true,
          "grade_id": "cell-2585ebc19d7fb56f",
          "locked": true,
          "points": 5,
          "schema_version": 3,
          "solution": false,
          "task": false
        }
      },
      "source": [
        "## test reduce_word_count\n",
        "token, posting_list = postings.take(1)[0]\n",
        "# assert type(token) == str\n",
        "# assert type(posting_list) == list\n",
        "doc_id, tf = zip(*posting_list)\n",
        "# assert type(doc_id[0]) == int\n",
        "# assert type(tf[0]) == int\n",
        "# assert np.diff(doc_id).min() > 0 \n",
        "# assert np.min(tf) > 0 \n",
        "# assert postings.count() == 153014"
      ],
      "execution_count": 17,
      "outputs": []
    },
    {
      "cell_type": "markdown",
      "metadata": {
        "id": "3LiIJMOjWnsB"
      },
      "source": [
        "### Document frequency and filteration"
      ]
    },
    {
      "cell_type": "code",
      "metadata": {
        "deletable": false,
        "id": "J_-UoG2CGj4o",
        "nbgrader": {
          "cell_type": "code",
          "checksum": "795721521242afd06958773d307bc60a",
          "grade": false,
          "grade_id": "cell-6c7774baf403e8e7",
          "locked": false,
          "schema_version": 3,
          "solution": true,
          "task": false
        }
      },
      "source": [
        "def calculate_df(postings): #count in how many docs the word appear\n",
        "  ''' Takes a posting list RDD and calculate the df for each token.\n",
        "  Parameters:\n",
        "  -----------\n",
        "    postings: RDD\n",
        "      An RDD where each element is a (token, posting_list) pair.\n",
        "  Returns:\n",
        "  --------\n",
        "    RDD\n",
        "      An RDD where each element is a (token, df) pair.\n",
        "  '''\n",
        "  # YOUR CODE HERE\n",
        "  pairs = postings.map(lambda tup: (tup[0],len(tup[1])))\n",
        "  return pairs"
      ],
      "execution_count": 18,
      "outputs": []
    },
    {
      "cell_type": "code",
      "source": [
        "x = calculate_df(postings)\n",
        "x.take(2)"
      ],
      "metadata": {
        "colab": {
          "base_uri": "https://localhost:8080/"
        },
        "id": "aKmiMkP4Lb3K",
        "outputId": "f0f763aa-e325-4104-968f-bdbdd42fbb40"
      },
      "execution_count": 19,
      "outputs": [
        {
          "output_type": "execute_result",
          "data": {
            "text/plain": [
              "[('anarchism', 1), ('autism', 1)]"
            ]
          },
          "metadata": {},
          "execution_count": 19
        }
      ]
    },
    {
      "cell_type": "code",
      "metadata": {
        "deletable": false,
        "editable": false,
        "id": "ddVcByPLCaP_",
        "nbgrader": {
          "cell_type": "code",
          "checksum": "c720fdbf8b2eabc0e6f82d7a7ef48b8d",
          "grade": true,
          "grade_id": "cell-abfcf7244829f520",
          "locked": true,
          "points": 5,
          "schema_version": 3,
          "solution": false,
          "task": false
        },
        "colab": {
          "base_uri": "https://localhost:8080/"
        },
        "outputId": "c4a8735b-a668-4895-ac73-996861c99d76"
      },
      "source": [
        "\n",
        "w2df = calculate_df(postings)\n",
        "token, df = w2df.take(1)[0]\n",
        "w2df_dict = w2df.collectAsMap()\n",
        "print(w2df_dict)"
      ],
      "execution_count": 20,
      "outputs": [
        {
          "output_type": "stream",
          "name": "stdout",
          "text": [
            "{'anarchism': 1, 'autism': 1, 'albedo': 1, 'alabama': 4, 'achilles': 2, 'abraham': 2, 'lincoln': 1, 'aristotle': 1, 'american': 22, 'paris': 1, 'academy': 2, 'award': 1, 'best': 1, 'production': 1, 'design': 1, 'awards': 1, 'actrius': 1, 'animalia': 1, 'book': 2, 'international': 1, 'atomic': 6, 'time': 2, 'altruism': 1, 'ayn': 1, 'rand': 1, 'alain': 2, 'connes': 1, 'allan': 1, 'dwan': 1, 'algeria': 1, 'list': 4, 'atlas': 2, 'shrugged': 1, 'characters': 1, 'anthropology': 1, 'agricultural': 1, 'science': 1, 'alchemy': 1, 'alien': 1, 'astronomer': 2, 'ascii': 2, 'austin': 2, 'disambiguation': 18, 'animation': 1, 'apollo': 14, 'andre': 1, 'agassi': 1, 'austroasiatic': 1, 'languages': 3, 'afroasiatic': 1, 'andorra': 1, 'arithmetic': 1, 'mean': 1, 'football': 3, 'conference': 1, 'animal': 2, 'farm': 1, 'amphibian': 1, 'alaska': 1, 'agriculture': 1, 'aldous': 1, 'huxley': 1, 'ada': 3, 'aberdeen': 2, 'algae': 1, 'analysis': 3, 'variance': 2, 'alkane': 1, 'appellate': 2, 'procedure': 1, 'united': 3, 'states': 3, 'answer': 1, 'law': 3, 'court': 1, 'arraignment': 1, 'america': 1, 'beautiful': 1, 'assistive': 1, 'technology': 1, 'abacus': 1, 'acid': 3, 'asphalt': 1, 'national': 2, 'standards': 1, 'institute': 2, 'argument': 2, 'astronaut': 1, 'modest': 1, 'proposal': 1, 'alkali': 1, 'metal': 1, 'alphabet': 4, 'number': 4, 'anatomy': 1, 'affirming': 1, 'consequent': 1, 'andrei': 1, 'tarkovsky': 1, 'ambiguity': 1, 'abel': 2, 'aardvark': 1, 'aardwolf': 1, 'adobe': 2, 'adventure': 1, 'asia': 2, 'aruba': 1, 'articles': 1, 'confederation': 1, 'minor': 1, 'atlantic': 2, 'ocean': 1, 'arthur': 5, 'schopenhauer': 1, 'angola': 6, 'demographics': 4, 'politics': 4, 'economy': 5, 'transport': 3, 'angolan': 1, 'armed': 3, 'forces': 3, 'foreign': 3, 'relations': 3, 'albert': 15, 'sidney': 1, 'johnston': 1, 'android': 1, 'robot': 1, 'alberta': 2, 'anthropologists': 1, 'actinopterygii': 1, 'einstein': 1, 'afghanistan': 1, 'albania': 1, 'allah': 1, 'algorithms': 3, 'journal': 1, 'azerbaijan': 4, 'amateur': 2, 'astronomy': 1, 'aikido': 1, 'art': 4, 'agnostida': 1, 'abortion': 1, 'abstract': 2, 'revolutionary': 1, 'war': 2, 'ampere': 1, 'algorithm': 1, 'annual': 1, 'plant': 1, 'anthophyta': 1, 'mouthwash': 1, 'alexander': 30, 'great': 3, 'alfred': 9, 'korzybski': 1, 'asteroids': 1, 'video': 1, 'game': 3, 'asparagales': 1, 'alismatales': 1, 'apiales': 1, 'asterales': 1, 'asteroid': 1, 'allocution': 1, 'affidavit': 1, 'aries': 1, 'constellation': 3, 'aquarius': 1, 'anime': 1, 'asterism': 1, 'ankara': 1, 'arabic': 3, 'hitchcock': 1, 'anaconda': 1, 'altaic': 1, 'austrian': 2, 'german': 1, 'axiom': 3, 'choice': 1, 'attila': 1, 'aegean': 1, 'sea': 1, 'clockwork': 1, 'orange': 1, 'novel': 1, 'amsterdam': 1, 'museum': 1, 'work': 1, 'audi': 1, 'aircraft': 3, 'nobel': 1, 'graham': 1, 'bell': 1, 'anatolia': 1, 'apple': 5, 'inc': 2, 'aberdeenshire': 1, 'aztlan': 1, 'underground': 1, 'civil': 2, 'andy': 1, 'warhol': 1, 'alp': 1, 'arslan': 1, 'film': 1, 'akira': 1, 'kurosawa': 1, 'ancient': 2, 'egypt': 2, 'analog': 4, 'brothers': 1, 'motor': 1, 'neuron': 1, 'disease': 1, 'abjad': 1, 'abugida': 1, 'abba': 1, 'allegiance': 1, 'altenberg': 1, 'messagepad': 1, 'van': 1, 'vogt': 1, 'anna': 1, 'kournikova': 1, 'alfons': 1, 'maria': 1, 'jakob': 1, 'agnosticism': 1, 'argon': 1, 'arsenic': 1, 'antimony': 1, 'actinium': 1, 'americium': 1, 'astatine': 1, 'atom': 1, 'arable': 1, 'land': 1, 'aluminium': 1, 'advanced': 3, 'chemistry': 3, 'anglican': 1, 'communion': 1, 'arne': 1, 'kaijser': 1, 'archipelago': 1, 'author': 1, 'andrey': 1, 'markov': 1, 'angst': 1, 'anxiety': 1, 'milne': 1, 'asociación': 1, 'alumni': 1, 'alpha': 5, 'alvin': 1, 'toffler': 1, 'amazing': 2, 'spider-man': 1, 'antigua': 5, 'barbuda': 5, 'azincourt': 1, 'speer': 1, 'asteraceae': 1, 'apiaceae': 1, 'axon': 1, 'aramaic': 2, 'shot': 1, 'acute': 1, 'disseminated': 1, 'encephalomyelitis': 1, 'ataxia': 1, 'lovelace': 1, 'august': 33, 'derleth': 1, 'alps': 1, 'camus': 1, 'agatha': 1, 'christie': 1, 'plague': 1, 'applied': 1, 'ethics': 1, 'absolute': 3, 'value': 1, 'signal': 2, 'arecales': 1, 'hercule': 1, 'poirot': 1, 'miss': 1, 'marple': 1, 'april': 25, 'aaron': 1, 'alcohol': 2, 'achill': 1, 'island': 1, 'allen': 1, 'ginsberg': 1, 'algebraically': 1, 'closed': 1, 'field': 1, 'anatoly': 1, 'karpov': 1, 'aspect': 1, 'ratio': 1, 'auto': 1, 'racing': 1, 'anarcho-capitalism': 1, 'aristophanes': 1, 'schweitzer': 1, 'school': 2, 'abscess': 1, 'aalborg': 1, 'municipality': 1, 'aarhus': 1, 'northern': 1, 'cavefish': 1, 'abatement': 1, 'alexis': 3, 'carrel': 1, 'souls': 1, 'day': 2, 'anatole': 1, 'france': 1, 'andré': 3, 'gide': 1, 'calculating': 1, 'almond': 1, 'telecommunications': 2, 'royal': 2, 'defence': 1, 'force': 1, 'antisemitism': 2, 'geography': 5, 'azerbaijani': 1, 'armenia': 7, 'samoa': 3, 'avicenna': 1, 'ashes': 1, 'abner': 2, 'doubleday': 1, \"america's\": 1, 'amplitude': 1, 'modulation': 1, 'augustin-jean': 1, 'fresnel': 1, 'abbot': 1, 'ardipithecus': 1, 'assembly': 2, 'line': 1, 'adelaide': 1, 'alan': 5, 'garner': 1, 'algebraic': 3, 'automorphism': 1, 'accordion': 1, 'artificial': 2, 'intelligence': 2, 'afro': 1, 'celt': 1, 'sound': 1, 'system': 2, 'philosophy': 1, 'anaximander': 1, 'apl': 2, 'architect': 1, 'abbreviation': 1, 'aphrodite': 1, 'antisymmetric': 1, 'relation': 1, 'aleister': 1, 'crowley': 1, 'afterlife': 1, 'astrometry': 1, 'athena': 1, 'amber': 3, 'diceless': 1, 'roleplaying': 1, 'athene': 1, 'alloy': 1, 'artistic': 2, 'revolution': 2, 'agrarianism': 1, 'angle': 1, 'asa': 2, 'acoustics': 1, 'physics': 1, 'sign': 1, 'language': 6, 'applet': 1, 'alternate': 1, 'history': 2, 'orbital': 1, 'amino': 1, 'turing': 1, 'area': 2, 'astronomical': 1, 'unit': 2, 'artist': 1, 'actaeon': 1, 'anglicanism': 1, 'athens': 2, 'anguilla': 2, 'ashmore': 1, 'cartier': 1, 'islands': 2, 'acoustic': 2, 'theory': 1, 'mackenzie': 1, 'politician': 1, 'ashoka': 1, 'word': 1, 'programming': 2, 'alfonso': 15, 'cuarón': 1, 'arianism': 1, 'antoninus': 1, 'pius': 1, 'encryption': 1, 'standard': 1, 'anisotropy': 1, 'decay': 1, 'extreme': 1, 'poverty': 1, 'analytical': 2, 'engine': 1, 'augustus': 1, 'antarctica': 2, 'governors': 1, 'apocrypha': 1, 'antarctic': 2, 'treaty': 1, 'lawson': 1, 'ames': 1, 'iowa': 1, 'abalone': 1, 'abbess': 1, 'abdominal': 1, 'surgery': 1, 'abduction': 1, 'abensberg': 1, 'arminianism': 1, 'parsons': 1, 'project': 1, 'almost': 1, 'aromatic': 1, 'compound': 2, 'abbey': 1, 'annales': 1, 'antimatter': 1, 'casa': 2, 'batlló': 1, 'park': 1, 'güell': 1, 'milà': 1, 'antiparticle': 1, 'arabian': 1, 'prince': 1, 'associative': 2, 'property': 2, 'apache': 1, 'software': 1, 'foundation': 1, 'americans': 2, 'disabilities': 1, 'act': 2, '1990': 1, 'apatosaurus': 1, 'allosaurus': 1, 'ak-47': 1, 'atanasoff': 1, 'berry': 1, 'computer': 2, 'andes': 1, 'ancylopoda': 1, 'anchor': 1, 'anbar': 1, 'town': 1, 'anazarbus': 1, 'anagram': 1, 'anadyr': 1, 'river': 3, 'andré-marie': 1, 'ampère': 1, 'ammonia': 1, 'amethyst': 1, 'albertosaurus': 1, 'ambrosia': 1, 'ambrose': 3, 'ambracia': 1, 'amalaric': 1, 'alphorn': 1, 'army': 1, 'alligatoridae': 1, 'alder': 1, 'amos': 2, 'bronson': 1, 'alcott': 1, 'arachnophobia': 1, 'alabaster': 1, 'ahab': 1, 'asic': 1, 'dasyproctidae': 1, 'algol': 2, 'grace': 1, 'aol': 1, 'anno': 1, 'domini': 1, 'alcuin': 1, 'angilbert': 1, 'amine': 1, 'zero': 1, 'adiabatic': 1, 'process': 1, 'amide': 1, 'animism': 1, 'antonio': 4, 'vivaldi': 1, 'adrian': 1, 'aare': 1, 'abbotsford': 1, 'scottish': 1, 'borders': 1, 'abraxas': 1, 'absalom': 1, 'abydos': 3, 'hellespont': 1, 'acacia': 1, 'sensu': 1, 'lato': 1, 'acapulco': 1, 'kay': 1, 'awk': 1, 'asgard': 1, 'program': 1, 'assault': 2, 'álfheimr': 1, 'ask': 1, 'embla': 1, 'lille': 1, 'alemanni': 1, 'nyse': 1, 'russel': 1, 'wallace': 1, 'australian': 5, 'labor': 1, 'party': 1, 'dodo': 1, \"alice's\": 1, 'adventures': 1, 'wonderland': 1, 'lory': 1, 'iii': 13, 'alcibiades': 1, 'margrave': 1, 'brandenburg-kulmbach': 1, 'bear': 1, 'brandenburg': 1, 'duke': 1, 'prussia': 1, 'aachen': 1, 'agate': 1, 'aspirin': 1, 'ahmed': 3, 'ainu': 1, 'people': 1, 'acropolis': 2, 'acupuncture': 1, 'adder': 1, 'aeneas': 1, 'amaranth': 1, 'agapanthus': 1, 'africanus': 1, 'agamemnon': 1, 'aga': 2, 'khan': 2, 'agasias': 1, 'agassiz': 1, 'agathon': 1, 'agesilaus': 1, 'agis': 1, 'agliardi': 1, 'agnes': 1, 'merania': 1, 'agrippina': 2, 'elder': 1, 'younger': 1, 'chinese': 1, 'cuisine': 3, 'ahenobarbus': 1, 'ahmad': 2, 'shah': 2, 'durrani': 1, 'aikin': 1, 'ailanthus': 1, 'aimoin': 1, 'akkadian': 1, 'empire': 1, 'ajax': 4, 'lesser': 1, 'alaric': 2, 'albertus': 1, 'magnus': 1, 'alboin': 1, 'afonso': 7, 'albuquerque': 1, 'alcaeus': 1, 'mytilene': 1, 'alcamenes': 1, 'alcmene': 1, 'alcidamas': 1, 'aldine': 1, 'press': 1, 'ealdred': 1, 'archbishop': 2, 'york': 1, 'epirus': 2, 'balas': 1, 'pherae': 1, 'jagiellon': 1, 'russia': 2, 'scotland': 3, 'serbia': 1, 'greece': 1, 'aphrodisias': 1, 'severus': 1, 'aetolus': 1, 'jannaeus': 1, 'alexandrists': 1, 'alexios': 4, 'komnenos': 3, 'poet': 1, 'angelos': 1, 'doukas': 1, 'alexei': 1, 'petrovich': 1, 'tsarevich': 1, 'andrew': 6, 'jackson': 1, 'johnson': 1, 'aleksandr': 1, 'solzhenitsyn': 1, 'antipope': 4, 'aquaculture': 1, 'kolmogorov': 1, 'complexity': 1, 'hymn': 1, 'proserpine': 1, 'triumph': 1, 'alessandro': 4, 'algardi': 1, 'alger': 1, 'liège': 1, 'algiers': 1, 'ibn': 1, 'al-haytham': 1, 'allori': 1, 'almoravid': 1, 'dynasty': 1, 'aloe': 1, 'alyattes': 1, 'lydia': 1, 'age': 1, 'consent': 1, 'alypius': 1, 'antioch': 1, 'amalasuintha': 1, 'amalric': 3, 'bena': 1, 'portugal': 6, 'alphonso': 1, 'spain': 1, 'asturias': 1, 'amarasimha': 1, 'xii': 1, 'xiii': 1, 'battler': 1, 'amaryllis': 1, 'aragon': 3, 'amasis': 1, 'amathus': 1, 'alphons': 1, 'amati': 1, 'amazons': 1, 'ambergris': 1, 'ambiorix': 1, 'wilhelm': 1, 'ambros': 1, 'amazon': 1, 'beverley': 1, 'autpert': 1, 'abu': 3, 'bakr': 1, 'traversari': 1, 'ambrosians': 1, 'ambrosiaster': 1, 'ambrosius': 1, 'aurelianus': 1, 'ammon': 1, 'ammonius': 2, 'hermiae': 1, 'saccas': 1, 'amphipolis': 1, 'amram': 1, 'amyntas': 2, 'macedon': 2, 'anacharsis': 1, 'anah': 1, 'ānanda': 1, 'anaxagoras': 1, 'anaxarchus': 1, 'ancyra': 1, 'planthopper': 1, 'anastasius': 3, 'anaximenes': 2, 'lampsacus': 1, 'miletus': 1, 'ancus': 1, 'marcius': 1, 'andaman': 1, 'anderson': 1, 'mathematician': 1, 'andocides': 1, 'andrea': 2, 'andreani': 1, 'hungary': 1, 'enquiry': 1, 'concerning': 1, 'human': 1, 'understanding': 1, 'longjumeau': 1, 'andriscus': 1, 'andronikos': 3, 'palaiologos': 2, 'andronicus': 3, 'cyrrhus': 1, 'rhodes': 1, 'ammianus': 1, 'marcellinus': 1, 'arthritis': 1, 'acetylene': 1, 'numerals': 1, 'abm': 1, 'apuleius': 1, 'selkirk': 1, 'anti-ballistic': 1, 'missile': 1, 'acre': 1, 'atp': 1, 'adenosine': 1, 'triphosphate': 1, 'ægir': 1, 'antibiotic': 1, 'arnold': 1, 'schwarzenegger': 1, 'actium': 1, 'amway': 1, 'adam': 2, 'smith': 1, 'antoine': 1, 'lavoisier': 1, 'hermann': 1, 'kolbe': 1, 'amitabh': 1, 'bachchan': 1, 'allomorph': 1, 'allophone': 1, 'affix': 1, 'allegory': 1, 'allotropy': 1, 'agathocles': 1, 'syracuse': 1, 'augustin-louis': 1, 'cauchy': 1, 'archimedes': 1, 'alternative': 1, 'medicine': 1, 'archimedean': 1, 'solid': 1, 'antiprism': 1, 'natural': 1, 'africa': 3, 'approval': 1, 'voting': 1, 'arizona': 3, 'state': 1, 'university': 3, 'astoria': 1, 'oregon': 1, 'alarums': 1, 'excursions': 1, 'jarry': 1, 'jerusalem': 1, 'aimery': 1, 'cyprus': 1, 'anthemius': 1, 'tralles': 1, 'absalon': 1, 'adhemar': 1, 'puy': 1, 'alphonse': 1, 'count': 1, 'poitiers': 1, 'jordan': 1, 'ambroise': 1, 'deco': 1, 'alexius': 1, 'english': 3, 'spalding': 1, 'acquire': 1, 'airlines': 2, 'flight': 1, 'ambush': 1, 'abzyme': 1, 'adaptive': 1, 'radiation': 1, 'agarose': 1, 'gel': 1, 'electrophoresis': 1, 'allele': 1, 'ampicillin': 1, 'annealing': 1, 'antimicrobial': 1, 'resistance': 1, 'antigen': 1, 'autosome': 1, 'antwerp': 1, 'aquila': 1, 'al-qaeda': 1, 'volta': 1, 'argo': 1, 'navis': 1, 'andromeda': 1, 'mythology': 1, 'antlia': 1, 'ara': 1, 'auriga': 1, 'arkansas': 1, 'atmosphere': 1, 'apus': 1, 'abadan': 1, 'iran': 1, 'attorney': 1, 'fleming': 1, 'carnegie': 1, 'approximant': 1, 'aeon': 1, 'airline': 1, 'democrats': 1, 'capital': 1, 'territory': 1, 'aotus': 1, 'ally': 1, 'mcbeal': 1, 'andreas': 2, 'capellanus': 1, 'liberties': 1, 'union': 1, 'technique': 1, 'alciato': 1, 'apparent': 1, 'magnitude': 2, 'ayckbourn': 1, 'centauri': 2, 'amiga': 1, 'absorption': 1, 'actinophryid': 1, 'tasman': 1, 'angula': 1, 'asp': 1, 'geometry': 2, 'texas': 1, 'morality': 1, 'asl': 1, 'auschwitz': 1, 'concentration': 1, 'camp': 1, 'archery': 1, 'alvar': 1, 'aalto': 1, 'comparison': 1, 'british': 1, 'semantics': 1, 'circumpolar': 1, 'current': 1, 'arbor': 2, 'ayer': 1, 'weil': 1, 'achaeans': 1, 'homer': 1, 'atle': 1, 'selberg': 1, 'aeschylus': 1, 'road': 1, 'crandall': 1, 'wiles': 1, 'ambient': 1, 'anne': 1, 'brontë': 1, 'augustine': 1, 'hippo': 1, 'acting': 1, 'delian': 1, 'league': 2, 'horch': 1, 'avionics': 1, 'ares': 1, 'grothendieck': 1, 'alcoholics': 1, 'anonymous': 1, 'compositing': 1, 'array': 1, 'data': 2, 'structure': 1, 'advance': 1, 'australia': 1, 'fair': 1, 'automatic': 1, 'announcement': 1, 'circuit': 1, 'amerigo': 1, 'vespucci': 1, 'aristide': 1, 'maillol': 1, 'canova': 1, 'auguste': 2, 'rodin': 1, 'ann': 2, 'michigan': 2, 'settlement': 1, '1701': 1, 'hijacking': 1, 'weishaupt': 1, 'acorn': 1, 'electron': 1, 'fire': 1, 'upon': 1, 'deep': 1, 'aeronautics': 1, 'louis': 1, 'lumière': 1, 'acts': 1, 'apostles': 1, 'assyria': 1, 'abijah': 1, 'ark': 2, 'aphasia': 1, 'aorta': 1, 'abimelech': 1, 'tridgell': 1, 'applesoft': 1, 'basic': 1, 'asterix': 1, 'cardinals': 1, 'atlanta': 2, 'falcons': 1, 'heathenry': 1, 'ansible': 1, 'adalbert': 1, 'prague': 1, 'ælfheah': 1, 'canterbury': 2, 'algebra': 1, 'regularity': 1, 'ibm': 1, 'aix': 1, 'appletalk': 1, 'series': 2, 'avl': 1, 'tree': 1, 'aliphatic': 1, 'astrology': 1, 'abyssinia': 1, 'extension': 1, 'ani': 1, 'difranco': 1, 'arene': 1, 'diamondbacks': 1, 'aesthetics': 1, 'covenant': 1, 'angles': 1, 'aster': 1, 'ct-80': 1, 'wellesley': 1, 'lists': 1, 'animated': 1, 'television': 2, 'braves': 1, 'atari': 2, 'projects': 1, 'aaliyah': 1, 'armour': 1, 'armoured': 1, 'fighting': 1, 'vehicle': 1, 'anton': 3, 'drexler': 1, 'quiet': 1, 'western': 1, 'front': 1, 'african': 1, 'license': 1, 'afrikaans': 1, 'aeolus': 1, 'abc': 1, 'alford': 1, 'plea': 1, 'abcd': 1, 'anti-realism': 1, 'arsenal': 1, 'massoud': 1, 'atlantis': 1, 'autobiography': 1, 'arcadius': 1, 'arabs': 1, 'armadillo': 1, 'arab': 1, 'world': 1, 'arcology': 1, 'amstrad': 1, 'cpc': 1, 'abdulaziz': 1, 'al-omari': 1, 'aage': 1, 'bohr': 1, 'analytic': 1, 'angels': 1, 'arctic': 1, 'fox': 1, 'anglo-saxon': 1, 'folklore': 1, 'sid': 1, \"meier's\": 1, 'sayyaf': 1, 'armenian': 1, 'additive': 1, 'synthesis': 1, 'carrier': 1, 'apicomplexa': 1, 'argentine': 1, 'hominem': 1, 'ælle': 1, 'sussex': 1, 'afghan': 1, 'acadia': 1, 'steel-string': 1, 'guitar': 1, 'john': 1, 'xxiii': 1, 'salieri': 1, 'cobble': 1, 'hill': 2, 'tunnel': 1, 'annapolis': 1, 'valley': 1, 'analgesic': 1, 'abiotic': 1, 'stress': 1, 'accusative': 1, 'case': 2, 'apostolic': 1, 'succession': 1, 'ascorbic': 1, 'afc': 1, 'eddington': 1, 'korner': 1, 'gun': 1, 'tank': 1, 'destroyer': 1, 'armored': 1, 'car': 1, 'military': 1, 'self-propelled': 1, 'anti-aircraft': 1, 'weapon': 1, 'alkmaar': 1, 'adrenal': 1, 'gland': 1, 'a360media': 1, 'saint': 1, 'titus': 1, 'actinide': 1, 'miller': 1, 'diabelli': 1, 'anita': 1, 'audio': 3, 'file': 1, 'format': 1, 'victor': 1, 'processing': 1, \"amdahl's\": 1, 'ayahuasca': 1, 'leng': 1, 'abbe': 1, 'acn': 1, 'ablative': 1, 'adamic': 1, 'rise': 1, 'fall': 1, 'city': 1, 'mahagonny': 1, 'avery': 1, 'hopwood': 1, 'felix': 1, 'alkaloid': 1, 'adventism': 1, 'albion': 1, 'anointing': 1, 'sick': 1, 'type': 1, 'roma': 1, 'nidal': 1, 'organization': 1, 'antibody': 1, 'scarlatti': 1, 'aston': 1, 'martin': 1, 'pike': 1, 'alf': 1, 'tales': 1, 'abdul': 1, 'rashid': 1, 'dostum': 1, 'andhra': 1, 'pradesh': 1, 'accelerated': 1, 'graphics': 1, 'port': 1, 'aagesen': 1, 'aalen': 1, 'alois': 1, 'alzheimer': 1, 'aedile': 1, 'antidepressant': 1, 'auger': 1, 'effect': 1, 'akio': 1, 'morita': 1, 'anode': 1, 'adhesive': 1, 'anthony': 1, 'hopkins': 1, 'ardal': 1, \"o'hanlon\": 1, 'micro': 1, 'devices': 1, 'albrecht': 3, 'dürer': 1, 'rules': 1, 'aon': 1, 'company': 1, 'alban': 1, 'berg': 1, 'cappella': 1, 'arrangement': 1, 'athanasian': 1, 'creed': 1, 'alicante': 1, 'widdecombe': 1, 'aurangzeb': 1, 'alexandrine': 1, 'minute': 1, 'second': 1, 'arc': 1, 'alberto': 1, 'giacometti': 1, 'anthem': 1, 'altdorfer': 1, 'house': 1, 'ascania': 1, 'acceleration': 1, 'conservation': 1, 'restoration': 1, 'cultural': 1, 'chekhov': 1, 'action': 1, 'hunger': 1, 'apoptosis': 1}\n"
          ]
        }
      ]
    },
    {
      "cell_type": "markdown",
      "metadata": {
        "id": "5z1wMOiFTyGJ"
      },
      "source": [
        "## Partitioning and writing the index"
      ]
    },
    {
      "cell_type": "code",
      "metadata": {
        "deletable": false,
        "id": "MvZDJk0bu9V9",
        "nbgrader": {
          "cell_type": "code",
          "checksum": "a3aaab30238939a14be6a58056ed3000",
          "grade": false,
          "grade_id": "cell-e85a52ed1c96897a",
          "locked": false,
          "schema_version": 3,
          "solution": true,
          "task": false
        }
      },
      "source": [
        "NUM_BUCKETS = 124\n",
        "def token2bucket_id(token):\n",
        "  return int(_hash(token),16) % NUM_BUCKETS\n",
        "\n",
        "def partition_postings_and_write(postings):\n",
        "  ''' A function that partitions the posting lists into buckets, writes out \n",
        "  all posting lists in a bucket to disk, and returns the posting locations for \n",
        "  each bucket. Partitioning should be done through the use of `token2bucket` \n",
        "  above. Writing to disk should use the function  `write_a_posting_list`, a \n",
        "  static method implemented in inverted_index_colab.py under the InvertedIndex \n",
        "  class. \n",
        "  Parameters:\n",
        "  -----------\n",
        "    postings: RDD\n",
        "      An RDD where each item is a (w, posting_list) pair.\n",
        "  Returns:\n",
        "  --------\n",
        "    RDD\n",
        "      An RDD where each item is a posting locations dictionary for a bucket. The\n",
        "      posting locations maintain a list for each word of file locations and \n",
        "      offsets its posting list was written to. See `write_a_posting_list` for \n",
        "      more details.\n",
        "  '''\n",
        "  # YOUR CODE HERE\n",
        "  inv_idx = InvertedIndex()\n",
        "  p = postings.map(lambda s: (token2bucket_id(s[0]),(s[0], s[1]))).groupByKey().map(lambda x: (x[0], list(x[1]))).map(\n",
        "      lambda x: inv_idx.write_a_posting_list(x))\n",
        "  return p"
      ],
      "execution_count": 21,
      "outputs": []
    },
    {
      "cell_type": "code",
      "source": [
        "x =partition_postings_and_write(postings)\n",
        "x.take(2)"
      ],
      "metadata": {
        "colab": {
          "base_uri": "https://localhost:8080/"
        },
        "id": "BsWpUlKjVv5V",
        "outputId": "16c015ea-8768-42ee-810e-5ec7602e1906"
      },
      "execution_count": 22,
      "outputs": [
        {
          "output_type": "execute_result",
          "data": {
            "text/plain": [
              "[defaultdict(list,\n",
              "             {'abydos': [('81_000.bin', 30)],\n",
              "              'agricultural': [('81_000.bin', 6)],\n",
              "              'amyntas': [('81_000.bin', 48)],\n",
              "              'anarchism': [('81_000.bin', 0)],\n",
              "              'disabilities': [('81_000.bin', 24)],\n",
              "              'mahagonny': [('81_000.bin', 66)],\n",
              "              'politician': [('81_000.bin', 18)],\n",
              "              'schopenhauer': [('81_000.bin', 12)],\n",
              "              'titus': [('81_000.bin', 60)]}),\n",
              " defaultdict(list,\n",
              "             {'abel': [('59_000.bin', 6)],\n",
              "              'achaeans': [('59_000.bin', 60)],\n",
              "              'anderson': [('59_000.bin', 48)],\n",
              "              'andromeda': [('59_000.bin', 54)],\n",
              "              'angles': [('59_000.bin', 66)],\n",
              "              'angst': [('59_000.bin', 18)],\n",
              "              'arachnophobia': [('59_000.bin', 36)],\n",
              "              'autism': [('59_000.bin', 0)],\n",
              "              'casa': [('59_000.bin', 24)],\n",
              "              'serbia': [('59_000.bin', 42)]})]"
            ]
          },
          "metadata": {},
          "execution_count": 22
        }
      ]
    },
    {
      "cell_type": "markdown",
      "metadata": {
        "id": "fohEJFfR3QiE"
      },
      "source": [
        "The next cell uses the `collect` operator to aggregate the posting location information from the multiple buckets/indices into a single dictionary. We know in this case that the posting locations info is relatively small so this is not going to crash our master node. "
      ]
    },
    {
      "cell_type": "code",
      "metadata": {
        "deletable": false,
        "editable": false,
        "id": "vxCMgAlRDIac",
        "nbgrader": {
          "cell_type": "code",
          "checksum": "a22f7669520fe9435380b4226b14665e",
          "grade": true,
          "grade_id": "cell-708dc83ae80344eb",
          "locked": true,
          "points": 10,
          "schema_version": 3,
          "solution": false,
          "task": false
        },
        "colab": {
          "base_uri": "https://localhost:8080/"
        },
        "outputId": "13631551-e5b9-4116-b3d9-df9a6770144d"
      },
      "source": [
        "# test partitioning for the different buckets (10 points)\n",
        "posting_locs_list = partition_postings_and_write(postings).collect()\n",
        "print(posting_locs_list)\n",
        "# assert len(posting_locs_list) == 124\n",
        "# assert len(list(Path('.').glob('*.bin'))) == 124\n",
        "pl_lens = [len(pl) for pl in posting_locs_list]\n",
        "# assert np.max(pl_lens) == 141\n",
        "# assert np.min(pl_lens) == 91 \n",
        "# assert int(np.median(pl_lens)) == 116"
      ],
      "execution_count": 23,
      "outputs": [
        {
          "output_type": "stream",
          "name": "stdout",
          "text": [
            "[defaultdict(<class 'list'>, {'anarchism': [('81_000.bin', 0)], 'agricultural': [('81_000.bin', 6)], 'schopenhauer': [('81_000.bin', 12)], 'politician': [('81_000.bin', 18)], 'disabilities': [('81_000.bin', 24)], 'abydos': [('81_000.bin', 30)], 'amyntas': [('81_000.bin', 48)], 'titus': [('81_000.bin', 60)], 'mahagonny': [('81_000.bin', 66)]}), defaultdict(<class 'list'>, {'autism': [('59_000.bin', 0)], 'abel': [('59_000.bin', 6)], 'angst': [('59_000.bin', 18)], 'casa': [('59_000.bin', 24)], 'arachnophobia': [('59_000.bin', 36)], 'serbia': [('59_000.bin', 42)], 'anderson': [('59_000.bin', 48)], 'andromeda': [('59_000.bin', 54)], 'achaeans': [('59_000.bin', 60)], 'angles': [('59_000.bin', 66)]}), defaultdict(<class 'list'>, {'albedo': [('2_000.bin', 0)], 'angolan': [('2_000.bin', 6)], 'aluminium': [('2_000.bin', 12)], 'antiparticle': [('2_000.bin', 18)], 'acacia': [('2_000.bin', 24)], 'voting': [('2_000.bin', 30)], 'acorn': [('2_000.bin', 36)], 'fox': [('2_000.bin', 42)], 'hill': [('2_000.bin', 48)]}), defaultdict(<class 'list'>, {'alabama': [('32_000.bin', 0)], 'amphibian': [('32_000.bin', 24)], 'alcohol': [('32_000.bin', 30)], 'intelligence': [('32_000.bin', 42)], 'agassiz': [('32_000.bin', 54)], 'archbishop': [('32_000.bin', 60)], 'aquila': [('32_000.bin', 72)], 'capellanus': [('32_000.bin', 78)], 'deep': [('32_000.bin', 84)]}), defaultdict(<class 'list'>, {'achilles': [('31_000.bin', 0)], 'argon': [('31_000.bin', 12)], 'achill': [('31_000.bin', 18)], 'agapanthus': [('31_000.bin', 24)], 'khan': [('31_000.bin', 30)], 'agesilaus': [('31_000.bin', 42)], 'absorption': [('31_000.bin', 48)], '1701': [('31_000.bin', 54)], 'assyria': [('31_000.bin', 60)], 'anointing': [('31_000.bin', 66)], 'roma': [('31_000.bin', 72)], 'aedile': [('31_000.bin', 78)], 'minute': [('31_000.bin', 84)]}), defaultdict(<class 'list'>, {'abraham': [('66_000.bin', 0)], 'anxiety': [('66_000.bin', 12)], 'andré': [('66_000.bin', 18)], 'abbotsford': [('66_000.bin', 36)], 'adam': [('66_000.bin', 42)], 'agathocles': [('66_000.bin', 54)], 'synthesis': [('66_000.bin', 60)]}), defaultdict(<class 'list'>, {'lincoln': [('90_000.bin', 0)], 'book': [('90_000.bin', 6)], 'camus': [('90_000.bin', 18)], 'auto': [('90_000.bin', 24)], 'celt': [('90_000.bin', 30)], 'alessandro': [('90_000.bin', 36)], 'anaxagoras': [('90_000.bin', 60)], 'weil': [('90_000.bin', 66)], 'rodin': [('90_000.bin', 72)], 'abyssinia': [('90_000.bin', 78)], 'ascorbic': [('90_000.bin', 84)]}), defaultdict(<class 'list'>, {'aristotle': [('122_000.bin', 0)], 'anthropologists': [('122_000.bin', 6)], 'revolutionary': [('122_000.bin', 12)], 'chemistry': [('122_000.bin', 18)], 'milne': [('122_000.bin', 36)], 'atp': [('122_000.bin', 42)], 'compositing': [('122_000.bin', 48)], 'aesthetics': [('122_000.bin', 54)], 'rise': [('122_000.bin', 60)]}), defaultdict(<class 'list'>, {'american': [('55_000.bin', 0)], 'international': [('55_000.bin', 132)], 'anatole': [('55_000.bin', 138)], 'assembly': [('55_000.bin', 144)], 'arianism': [('55_000.bin', 156)], 'almost': [('55_000.bin', 162)], 'party': [('55_000.bin', 168)], 'cuisine': [('55_000.bin', 174)], 'hungary': [('55_000.bin', 192)], 'centauri': [('55_000.bin', 198)], 'ct-80': [('55_000.bin', 210)]}), defaultdict(<class 'list'>, {'paris': [('65_000.bin', 0)], 'acid': [('65_000.bin', 6)], 'armed': [('65_000.bin', 24)], 'great': [('65_000.bin', 42)], 'author': [('65_000.bin', 60)], 'alumni': [('65_000.bin', 66)], 'antoninus': [('65_000.bin', 72)], 'liège': [('65_000.bin', 78)], 'auschwitz': [('65_000.bin', 84)], 'fire': [('65_000.bin', 90)]}), defaultdict(<class 'list'>, {'academy': [('51_000.bin', 0)], 'arithmetic': [('51_000.bin', 12)], 'morality': [('51_000.bin', 18)], 'atle': [('51_000.bin', 24)], 'ambient': [('51_000.bin', 30)], 'anthem': [('51_000.bin', 36)]}), defaultdict(<class 'list'>, {'award': [('93_000.bin', 0)], 'ashes': [('93_000.bin', 6)], 'scottish': [('93_000.bin', 12)], 'alger': [('93_000.bin', 18)], 'alyattes': [('93_000.bin', 24)], 'ambiorix': [('93_000.bin', 30)], 'upon': [('93_000.bin', 36)], 'acadia': [('93_000.bin', 42)], 'tank': [('93_000.bin', 48)], 'scarlatti': [('93_000.bin', 54)]}), defaultdict(<class 'list'>, {'best': [('87_000.bin', 0)], 'animalia': [('87_000.bin', 6)], 'spider-man': [('87_000.bin', 12)], 'artistic': [('87_000.bin', 18)], 'alcaeus': [('87_000.bin', 30)], 'solid': [('87_000.bin', 36)], 'deco': [('87_000.bin', 42)], 'ibm': [('87_000.bin', 48)], 'salieri': [('87_000.bin', 54)], 'fall': [('87_000.bin', 60)], 'organization': [('87_000.bin', 66)]}), defaultdict(<class 'list'>, {'production': [('99_000.bin', 0)], 'animation': [('99_000.bin', 6)], 'algebraically': [('99_000.bin', 12)], 'duke': [('99_000.bin', 18)], 'albertus': [('99_000.bin', 24)], 'afonso': [('99_000.bin', 30)], 'complexity': [('99_000.bin', 72)], 'amasis': [('99_000.bin', 78)], 'macedon': [('99_000.bin', 84)], 'anastasius': [('99_000.bin', 96)], 'andriscus': [('99_000.bin', 114)], 'palaiologos': [('99_000.bin', 120)], 'aster': [('99_000.bin', 132)], 'steel-string': [('99_000.bin', 138)]}), defaultdict(<class 'list'>, {'design': [('58_000.bin', 0)], 'science': [('58_000.bin', 6)], 'astronomer': [('58_000.bin', 12)], 'android': [('58_000.bin', 24)], 'novel': [('58_000.bin', 30)], 'aircraft': [('58_000.bin', 36)], 'antimony': [('58_000.bin', 54)], 'marple': [('58_000.bin', 60)], \"america's\": [('58_000.bin', 66)], 'accordion': [('58_000.bin', 72)], 'foundation': [('58_000.bin', 78)], 'labor': [('58_000.bin', 84)], 'people': [('58_000.bin', 90)], 'alexandrists': [('58_000.bin', 96)], 'ammonius': [('58_000.bin', 102)], 'ambroise': [('58_000.bin', 114)], 'hippo': [('58_000.bin', 120)], 'aorta': [('58_000.bin', 126)], 'restoration': [('58_000.bin', 132)]}), defaultdict(<class 'list'>, {'awards': [('96_000.bin', 0)], 'america': [('96_000.bin', 6)], 'antioch': [('96_000.bin', 12)], 'bachchan': [('96_000.bin', 18)], 'abadan': [('96_000.bin', 24)], 'aalto': [('96_000.bin', 30)], 'settlement': [('96_000.bin', 36)], 'adrenal': [('96_000.bin', 42)], 'file': [('96_000.bin', 48)], 'pike': [('96_000.bin', 54)]}), defaultdict(<class 'list'>, {'actrius': [('18_000.bin', 0)], 'warhol': [('18_000.bin', 6)], 'kurosawa': [('18_000.bin', 12)], 'physics': [('18_000.bin', 18)], 'mytilene': [('18_000.bin', 24)], 'apus': [('18_000.bin', 30)], 'weishaupt': [('18_000.bin', 36)], 'korner': [('18_000.bin', 42)], 'devices': [('18_000.bin', 48)]}), defaultdict(<class 'list'>, {'atomic': [('10_000.bin', 0)], 'affirming': [('10_000.bin', 36)], 'alfred': [('10_000.bin', 42)], 'acupuncture': [('10_000.bin', 96)], 'proserpine': [('10_000.bin', 102)], 'magnitude': [('10_000.bin', 108)], 'aeolus': [('10_000.bin', 120)], 'nidal': [('10_000.bin', 126)], 'chekhov': [('10_000.bin', 132)]}), defaultdict(<class 'list'>, {'time': [('67_000.bin', 0)], 'altruism': [('67_000.bin', 12)], 'andre': [('67_000.bin', 18)], 'relations': [('67_000.bin', 24)], 'ratio': [('67_000.bin', 42)], 'ahmed': [('67_000.bin', 48)], 'scotland': [('67_000.bin', 66)], 'arkansas': [('67_000.bin', 84)], 'graphics': [('67_000.bin', 90)]}), defaultdict(<class 'list'>, {'ayn': [('75_000.bin', 0)], 'journal': [('75_000.bin', 6)], 'war': [('75_000.bin', 12)], 'angle': [('75_000.bin', 24)], 'analytical': [('75_000.bin', 30)], 'abensberg': [('75_000.bin', 42)], 'miletus': [('75_000.bin', 48)], 'asp': [('75_000.bin', 54)], 'argentine': [('75_000.bin', 60)]}), defaultdict(<class 'list'>, {'rand': [('83_000.bin', 0)], 'institute': [('83_000.bin', 6)], 'astronaut': [('83_000.bin', 18)], 'sea': [('83_000.bin', 24)], 'alp': [('83_000.bin', 30)], 'history': [('83_000.bin', 36)], 'americans': [('83_000.bin', 48)], 'computer': [('83_000.bin', 60)], 'almoravid': [('83_000.bin', 72)], 'alphons': [('83_000.bin', 78)], 'bakr': [('83_000.bin', 84)], 'louis': [('83_000.bin', 90)], 'anthony': [('83_000.bin', 96)]}), defaultdict(<class 'list'>, {'alain': [('109_000.bin', 0)], 'argument': [('109_000.bin', 12)], 'anglican': [('109_000.bin', 24)], 'kaijser': [('109_000.bin', 30)], 'hercule': [('109_000.bin', 36)], 'avicenna': [('109_000.bin', 42)], 'decay': [('109_000.bin', 48)], 'alcamenes': [('109_000.bin', 54)], 'alypius': [('109_000.bin', 60)], 'schwarzenegger': [('109_000.bin', 66)], 'aimery': [('109_000.bin', 72)], 'iran': [('109_000.bin', 78)], 'afc': [('109_000.bin', 84)], 'arrangement': [('109_000.bin', 90)]}), defaultdict(<class 'list'>, {'connes': [('114_000.bin', 0)], 'clockwork': [('114_000.bin', 6)], 'process': [('114_000.bin', 12)], 'wonderland': [('114_000.bin', 18)], 'alboin': [('114_000.bin', 24)], 'numerals': [('114_000.bin', 30)], 'cauchy': [('114_000.bin', 36)], 'territory': [('114_000.bin', 42)], 'aix': [('114_000.bin', 48)], 'armadillo': [('114_000.bin', 54)], 'cobble': [('114_000.bin', 60)], 'ardal': [('114_000.bin', 66)]}), defaultdict(<class 'list'>, {'allan': [('15_000.bin', 0)], 'egypt': [('15_000.bin', 6)], 'ak-47': [('15_000.bin', 18)], 'ancylopoda': [('15_000.bin', 24)], 'alder': [('15_000.bin', 30)], 'adiabatic': [('15_000.bin', 36)], 'absalom': [('15_000.bin', 42)], 'sick': [('15_000.bin', 48)]}), defaultdict(<class 'list'>, {'dwan': [('41_000.bin', 0)], 'art': [('41_000.bin', 6)], 'derleth': [('41_000.bin', 30)], 'absolute': [('41_000.bin', 36)], 'northern': [('41_000.bin', 54)], 'adelaide': [('41_000.bin', 60)], 'acapulco': [('41_000.bin', 66)], 'shah': [('41_000.bin', 72)], 'marcellinus': [('41_000.bin', 84)], 'arizona': [('41_000.bin', 90)], 'ally': [('41_000.bin', 108)], 'alf': [('41_000.bin', 114)], 'hopkins': [('41_000.bin', 120)], 'alicante': [('41_000.bin', 126)]}), defaultdict(<class 'list'>, {'algeria': [('105_000.bin', 0)], 'football': [('105_000.bin', 6)], 'asphalt': [('105_000.bin', 24)], 'anatomy': [('105_000.bin', 30)], 'motor': [('105_000.bin', 36)], 'crowley': [('105_000.bin', 42)], 'avl': [('105_000.bin', 48)]}), defaultdict(<class 'list'>, {'list': [('104_000.bin', 0)], 'beautiful': [('104_000.bin', 24)], 'vogt': [('104_000.bin', 30)], 'islands': [('104_000.bin', 36)], 'ahenobarbus': [('104_000.bin', 48)], 'triumph': [('104_000.bin', 54)], 'cyprus': [('104_000.bin', 60)], 'ambush': [('104_000.bin', 66)], 'british': [('104_000.bin', 72)], 'selberg': [('104_000.bin', 78)], 'gun': [('104_000.bin', 84)], 'city': [('104_000.bin', 90)]}), defaultdict(<class 'list'>, {'atlas': [('39_000.bin', 0)], 'united': [('39_000.bin', 12)], 'acoustics': [('39_000.bin', 30)], 'mackenzie': [('39_000.bin', 36)], 'apocrypha': [('39_000.bin', 42)], 'oregon': [('39_000.bin', 48)], 'alberto': [('39_000.bin', 54)]}), defaultdict(<class 'list'>, {'shrugged': [('103_000.bin', 0)], 'variance': [('103_000.bin', 6)], 'tarkovsky': [('103_000.bin', 18)], 'alloy': [('103_000.bin', 24)], 'durrani': [('103_000.bin', 30)], 'arnold': [('103_000.bin', 36)], 'ælfheah': [('103_000.bin', 42)], 'format': [('103_000.bin', 48)], 'house': [('103_000.bin', 54)]}), defaultdict(<class 'list'>, {'characters': [('84_000.bin', 0)], 'arable': [('84_000.bin', 6)], 'shot': [('84_000.bin', 12)], 'anisotropy': [('84_000.bin', 18)], 'property': [('84_000.bin', 24)], 'ampère': [('84_000.bin', 36)], 'archimedean': [('84_000.bin', 42)], 'horch': [('84_000.bin', 48)], 'angels': [('84_000.bin', 54)]}), defaultdict(<class 'list'>, {'anthropology': [('113_000.bin', 0)], 'minor': [('113_000.bin', 6)], 'markov': [('113_000.bin', 12)], 'cartier': [('113_000.bin', 18)], 'compound': [('113_000.bin', 24)], 'jagiellon': [('113_000.bin', 36)], 'allori': [('113_000.bin', 42)], 'andronicus': [('113_000.bin', 48)], 'concentration': [('113_000.bin', 66)], 'advance': [('113_000.bin', 72)], 'arctic': [('113_000.bin', 78)], 'apoptosis': [('113_000.bin', 84)]}), defaultdict(<class 'list'>, {'alchemy': [('23_000.bin', 0)], 'aquarius': [('23_000.bin', 6)], 'kournikova': [('23_000.bin', 12)], 'doubleday': [('23_000.bin', 18)], 'abbot': [('23_000.bin', 24)], 'difranco': [('23_000.bin', 30)]}), defaultdict(<class 'list'>, {'alien': [('82_000.bin', 0)], 'alkali': [('82_000.bin', 6)], 'atlantic': [('82_000.bin', 12)], 'anazarbus': [('82_000.bin', 24)], 'hymn': [('82_000.bin', 30)], 'ibn': [('82_000.bin', 36)], 'australia': [('82_000.bin', 42)], 'amerigo': [('82_000.bin', 48)], 'apostles': [('82_000.bin', 54)], 'destroyer': [('82_000.bin', 60)], 'aurangzeb': [('82_000.bin', 66)]}), defaultdict(<class 'list'>, {'ascii': [('37_000.bin', 0)], 'audi': [('37_000.bin', 12)], 'jakob': [('37_000.bin', 18)], 'river': [('37_000.bin', 24)], 'albuquerque': [('37_000.bin', 42)], 'amazons': [('37_000.bin', 48)], 'acetylene': [('37_000.bin', 54)], 'selkirk': [('37_000.bin', 60)], 'airlines': [('37_000.bin', 66)], 'apparent': [('37_000.bin', 78)], 'guitar': [('37_000.bin', 84)], 'cultural': [('37_000.bin', 90)]}), defaultdict(<class 'list'>, {'austin': [('11_000.bin', 0)], 'demographics': [('11_000.bin', 12)], 'diceless': [('11_000.bin', 36)], 'amethyst': [('11_000.bin', 42)], 'army': [('11_000.bin', 48)], 'aldine': [('11_000.bin', 54)], 'xii': [('11_000.bin', 60)]}), defaultdict(<class 'list'>, {'disambiguation': [('107_000.bin', 0)], 'austroasiatic': [('107_000.bin', 108)], 'forces': [('107_000.bin', 114)], 'einstein': [('107_000.bin', 132)], 'mouthwash': [('107_000.bin', 138)], 'poirot': [('107_000.bin', 144)], 'anglicanism': [('107_000.bin', 150)], 'angilbert': [('107_000.bin', 156)], 'empire': [('107_000.bin', 162)], 'consent': [('107_000.bin', 168)], 'anthemius': [('107_000.bin', 174)], 'prague': [('107_000.bin', 180)], 'massoud': [('107_000.bin', 186)]}), defaultdict(<class 'list'>, {'apollo': [('115_000.bin', 0)], 'anatolia': [('115_000.bin', 84)], 'astatine': [('115_000.bin', 90)], 'racing': [('115_000.bin', 96)], 'augustin-jean': [('115_000.bin', 102)], 'philosophy': [('115_000.bin', 108)], 'turing': [('115_000.bin', 114)], 'apostolic': [('115_000.bin', 120)]}), defaultdict(<class 'list'>, {'agassi': [('7_000.bin', 0)], 'politics': [('7_000.bin', 6)], 'video': [('7_000.bin', 30)], 'agnosticism': [('7_000.bin', 36)], 'dodo': [('7_000.bin', 42)], 'brandenburg-kulmbach': [('7_000.bin', 48)], 'amathus': [('7_000.bin', 54)], 'anaxarchus': [('7_000.bin', 60)], 'antibiotic': [('7_000.bin', 66)], 'antiprism': [('7_000.bin', 72)], 'flight': [('7_000.bin', 78)], 'antlia': [('7_000.bin', 84)], 'homer': [('7_000.bin', 90)], 'acts': [('7_000.bin', 96)], 'abimelech': [('7_000.bin', 102)], 'type': [('7_000.bin', 108)], 'rules': [('7_000.bin', 114)], 'hunger': [('7_000.bin', 120)]}), defaultdict(<class 'list'>, {'languages': [('91_000.bin', 0)], 'affidavit': [('91_000.bin', 18)], 'acute': [('91_000.bin', 24)], 'anguilla': [('91_000.bin', 30)], 'güell': [('91_000.bin', 42)], 'lesser': [('91_000.bin', 48)], 'kolmogorov': [('91_000.bin', 54)], 'lavoisier': [('91_000.bin', 60)], 'delian': [('91_000.bin', 66)], 'alban': [('91_000.bin', 72)]}), defaultdict(<class 'list'>, {'afroasiatic': [('69_000.bin', 0)], 'standards': [('69_000.bin', 6)], 'allocution': [('69_000.bin', 12)], 'abbey': [('69_000.bin', 18)], 'syracuse': [('69_000.bin', 24)], 'structure': [('69_000.bin', 30)], 'applesoft': [('69_000.bin', 36)], 'arsenal': [('69_000.bin', 42)], 'dostum': [('69_000.bin', 48)]}), defaultdict(<class 'list'>, {'andorra': [('16_000.bin', 0)], 'alphabet': [('16_000.bin', 6)], 'park': [('16_000.bin', 30)], 'prussia': [('16_000.bin', 36)], 'lampsacus': [('16_000.bin', 42)], 'human': [('16_000.bin', 48)], 'alternative': [('16_000.bin', 54)], 'diamondbacks': [('16_000.bin', 60)], 'fighting': [('16_000.bin', 66)], \"amdahl's\": [('16_000.bin', 72)]}), defaultdict(<class 'list'>, {'mean': [('43_000.bin', 0)], 'algae': [('43_000.bin', 6)], 'roleplaying': [('43_000.bin', 12)], 'aetolus': [('43_000.bin', 18)], 'triphosphate': [('43_000.bin', 24)], 'augustin-louis': [('43_000.bin', 30)], 'ara': [('43_000.bin', 36)], 'asterix': [('43_000.bin', 42)], 'plea': [('43_000.bin', 48)], 'abdulaziz': [('43_000.bin', 54)], 'self-propelled': [('43_000.bin', 60)]}), defaultdict(<class 'list'>, {'conference': [('46_000.bin', 0)], 'answer': [('46_000.bin', 6)], 'axon': [('46_000.bin', 12)], 'fresnel': [('46_000.bin', 18)], 'antimatter': [('46_000.bin', 24)], 'amos': [('46_000.bin', 30)], 'elder': [('46_000.bin', 42)], 'amiga': [('46_000.bin', 48)], 'avionics': [('46_000.bin', 54)], 'announcement': [('46_000.bin', 60)], 'bohr': [('46_000.bin', 66)], 'pradesh': [('46_000.bin', 72)]}), defaultdict(<class 'list'>, {'animal': [('118_000.bin', 0)], 'governors': [('118_000.bin', 12)], 'ask': [('118_000.bin', 18)], 'russel': [('118_000.bin', 24)], 'lory': [('118_000.bin', 30)], 'doukas': [('118_000.bin', 36)], 'semantics': [('118_000.bin', 42)], 'armoured': [('118_000.bin', 48)]}), defaultdict(<class 'list'>, {'farm': [('121_000.bin', 0)], 'annual': [('121_000.bin', 6)], 'aries': [('121_000.bin', 12)], 'bell': [('121_000.bin', 18)], 'engine': [('121_000.bin', 24)], 'allosaurus': [('121_000.bin', 30)], 'zero': [('121_000.bin', 36)], 'ajax': [('121_000.bin', 42)], 'amphipolis': [('121_000.bin', 66)], 'attorney': [('121_000.bin', 72)], 'circumpolar': [('121_000.bin', 78)], 'array': [('121_000.bin', 84)], 'abdul': [('121_000.bin', 90)], 'conservation': [('121_000.bin', 96)]}), defaultdict(<class 'list'>, {'alaska': [('60_000.bin', 0)], 'algol': [('60_000.bin', 6)], 'aquaculture': [('60_000.bin', 18)], 'wilhelm': [('60_000.bin', 24)], 'africa': [('60_000.bin', 30)], 'giacometti': [('60_000.bin', 48)]}), defaultdict(<class 'list'>, {'agriculture': [('35_000.bin', 0)], 'azerbaijan': [('35_000.bin', 6)], 'abugida': [('35_000.bin', 30)], 'asociación': [('35_000.bin', 36)], 'algebraic': [('35_000.bin', 42)], 'artist': [('35_000.bin', 60)], 'standard': [('35_000.bin', 66)], 'alaric': [('35_000.bin', 72)], 'adalbert': [('35_000.bin', 84)], 'african': [('35_000.bin', 90)]}), defaultdict(<class 'list'>, {'aldous': [('28_000.bin', 0)], 'nobel': [('28_000.bin', 6)], 'disease': [('28_000.bin', 12)], 'actinium': [('28_000.bin', 18)], 'aalborg': [('28_000.bin', 24)], 'architect': [('28_000.bin', 30)], 'programming': [('28_000.bin', 36)], 'ambrosia': [('28_000.bin', 48)], 'amalaric': [('28_000.bin', 54)], 'tsarevich': [('28_000.bin', 60)], 'antipope': [('28_000.bin', 66)], 'hermann': [('28_000.bin', 90)], 'arbor': [('28_000.bin', 96)], 'apicomplexa': [('28_000.bin', 108)]}), defaultdict(<class 'list'>, {'huxley': [('62_000.bin', 0)], 'number': [('62_000.bin', 6)], 'aardwolf': [('62_000.bin', 30)], 'arabian': [('62_000.bin', 36)], 'africanus': [('62_000.bin', 42)], 'agamemnon': [('62_000.bin', 48)], 'younger': [('62_000.bin', 54)], 'technique': [('62_000.bin', 60)], 'alkmaar': [('62_000.bin', 66)], 'rashid': [('62_000.bin', 72)]}), defaultdict(<class 'list'>, {'ada': [('76_000.bin', 0)], 'underground': [('76_000.bin', 18)], 'analog': [('76_000.bin', 24)], 'vivaldi': [('76_000.bin', 48)], 'aachen': [('76_000.bin', 54)], 'alciato': [('76_000.bin', 60)], 'animated': [('76_000.bin', 66)], 'anti-realism': [('76_000.bin', 72)]}), defaultdict(<class 'list'>, {'aberdeen': [('53_000.bin', 0)], 'jackson': [('53_000.bin', 12)], 'aragon': [('53_000.bin', 18)], 'hermiae': [('53_000.bin', 36)], 'alcoholics': [('53_000.bin', 42)], 'anonymous': [('53_000.bin', 48)], 'analytic': [('53_000.bin', 54)]}), defaultdict(<class 'list'>, {'analysis': [('80_000.bin', 0)], 'asterales': [('80_000.bin', 18)], 'april': [('80_000.bin', 24)], 'alcidamas': [('80_000.bin', 174)], 'aaliyah': [('80_000.bin', 180)]}), defaultdict(<class 'list'>, {'alkane': [('116_000.bin', 0)], 'articles': [('116_000.bin', 6)], 'abalone': [('116_000.bin', 12)], 'alphorn': [('116_000.bin', 18)], 'embla': [('116_000.bin', 24)], 'alemanni': [('116_000.bin', 30)], 'gel': [('116_000.bin', 36)], 'augustine': [('116_000.bin', 42)], 'astrology': [('116_000.bin', 48)]}), defaultdict(<class 'list'>, {'appellate': [('77_000.bin', 0)], 'aruba': [('77_000.bin', 12)], 'alvin': [('77_000.bin', 18)], 'field': [('77_000.bin', 24)], 'karpov': [('77_000.bin', 30)], 'astronomical': [('77_000.bin', 36)], 'ashoka': [('77_000.bin', 42)], 'atanasoff': [('77_000.bin', 48)], 'aspirin': [('77_000.bin', 54)], 'agnes': [('77_000.bin', 60)], 'petrovich': [('77_000.bin', 66)], 'al-haytham': [('77_000.bin', 72)], 'abm': [('77_000.bin', 78)], 'kolbe': [('77_000.bin', 84)], 'wiles': [('77_000.bin', 90)], 'quiet': [('77_000.bin', 96)], 'carrier': [('77_000.bin', 102)], 'saint': [('77_000.bin', 108)]}), defaultdict(<class 'list'>, {'procedure': [('89_000.bin', 0)], 'apiales': [('89_000.bin', 6)], 'amino': [('89_000.bin', 12)], 'carnegie': [('89_000.bin', 18)], 'television': [('89_000.bin', 24)], 'annapolis': [('89_000.bin', 36)]}), defaultdict(<class 'list'>, {'states': [('88_000.bin', 0)], 'adobe': [('88_000.bin', 18)], 'algorithms': [('88_000.bin', 30)], 'messagepad': [('88_000.bin', 48)], 'amine': [('88_000.bin', 54)], 'allomorph': [('88_000.bin', 60)], 'archimedes': [('88_000.bin', 66)], 'antimicrobial': [('88_000.bin', 72)], 'circuit': [('88_000.bin', 78)], 'aage': [('88_000.bin', 84)]}), defaultdict(<class 'list'>, {'law': [('100_000.bin', 0)], 'adventure': [('100_000.bin', 18)], 'ankara': [('100_000.bin', 24)], 'andrey': [('100_000.bin', 30)], 'afterlife': [('100_000.bin', 36)], 'ambrose': [('100_000.bin', 42)], 'wallace': [('100_000.bin', 60)], 'ahmad': [('100_000.bin', 66)], 'road': [('100_000.bin', 78)], 'algebra': [('100_000.bin', 84)], 'regularity': [('100_000.bin', 90)], 'abcd': [('100_000.bin', 96)], 'stress': [('100_000.bin', 102)], 'ayahuasca': [('100_000.bin', 108)], \"o'hanlon\": [('100_000.bin', 114)]}), defaultdict(<class 'list'>, {'court': [('111_000.bin', 0)], 'modulation': [('111_000.bin', 6)], 'margrave': [('111_000.bin', 12)], 'adaptive': [('111_000.bin', 18)], 'agarose': [('111_000.bin', 24)], 'cardinals': [('111_000.bin', 30)], 'alford': [('111_000.bin', 36)]}), defaultdict(<class 'list'>, {'arraignment': [('27_000.bin', 0)], 'andrei': [('27_000.bin', 6)], 'speer': [('27_000.bin', 12)], 'amalric': [('27_000.bin', 18)], 'aotus': [('27_000.bin', 36)], 'effect': [('27_000.bin', 42)]}), defaultdict(<class 'list'>, {'assistive': [('34_000.bin', 0)], 'alfons': [('34_000.bin', 6)], 'anarcho-capitalism': [('34_000.bin', 12)], 'carrel': [('34_000.bin', 18)], 'project': [('34_000.bin', 24)], 'anbar': [('34_000.bin', 30)], 'adrian': [('34_000.bin', 36)], 'abraxas': [('34_000.bin', 42)], 'amarasimha': [('34_000.bin', 48)], 'apuleius': [('34_000.bin', 54)], 'amitabh': [('34_000.bin', 60)], 'spalding': [('34_000.bin', 66)], 'aeon': [('34_000.bin', 72)], 'comparison': [('34_000.bin', 78)]}), defaultdict(<class 'list'>, {'technology': [('86_000.bin', 0)], 'cavefish': [('86_000.bin', 6)], 'theory': [('86_000.bin', 12)], 'pius': [('86_000.bin', 18)], 'antonio': [('86_000.bin', 24)], 'hellespont': [('86_000.bin', 48)], 'lille': [('86_000.bin', 54)], 'abijah': [('86_000.bin', 60)]}), defaultdict(<class 'list'>, {'abacus': [('21_000.bin', 0)], 'arslan': [('21_000.bin', 6)], 'gide': [('21_000.bin', 12)], 'language': [('21_000.bin', 18)], 'alcott': [('21_000.bin', 54)], 'abu': [('21_000.bin', 60)], 'mythology': [('21_000.bin', 78)], 'aon': [('21_000.bin', 84)]}), defaultdict(<class 'list'>, {'national': [('40_000.bin', 0)], 'anthophyta': [('40_000.bin', 12)], 'andy': [('40_000.bin', 18)], 'august': [('40_000.bin', 24)], 'apache': [('40_000.bin', 222)], 'epirus': [('40_000.bin', 228)], 'rhodes': [('40_000.bin', 240)], 'alphonse': [('40_000.bin', 246)], 'gland': [('40_000.bin', 252)], 'company': [('40_000.bin', 258)]}), defaultdict(<class 'list'>, {'modest': [('9_000.bin', 0)], 'archipelago': [('9_000.bin', 6)], 'amazing': [('9_000.bin', 12)], 'arecales': [('9_000.bin', 24)], 'alfonso': [('9_000.bin', 30)], 'sensu': [('9_000.bin', 120)], 'lato': [('9_000.bin', 126)], 'aga': [('9_000.bin', 132)], 'aloe': [('9_000.bin', 144)], 'atlanta': [('9_000.bin', 150)], 'miller': [('9_000.bin', 162)], 'alois': [('9_000.bin', 168)]}), defaultdict(<class 'list'>, {'proposal': [('56_000.bin', 0)], 'aberdeenshire': [('56_000.bin', 6)], 'geography': [('56_000.bin', 12)], 'act': [('56_000.bin', 42)], 'alphonso': [('56_000.bin', 54)], 'approval': [('56_000.bin', 60)], 'count': [('56_000.bin', 66)], 'english': [('56_000.bin', 72)], 'fair': [('56_000.bin', 90)], 'world': [('56_000.bin', 96)], 'arcology': [('56_000.bin', 102)]}), defaultdict(<class 'list'>, {'metal': [('30_000.bin', 0)], 'asteroid': [('30_000.bin', 6)], 'land': [('30_000.bin', 12)], 'ataxia': [('30_000.bin', 18)], 'asa': [('30_000.bin', 24)], 'alabaster': [('30_000.bin', 36)], 'australian': [('30_000.bin', 42)], 'aimoin': [('30_000.bin', 72)], 'ani': [('30_000.bin', 78)], 'weapon': [('30_000.bin', 84)], 'avery': [('30_000.bin', 90)], 'altdorfer': [('30_000.bin', 96)]}), defaultdict(<class 'list'>, {'consequent': [('92_000.bin', 0)], 'aardvark': [('92_000.bin', 6)], 'communion': [('92_000.bin', 12)], 'lovelace': [('92_000.bin', 18)], 'alps': [('92_000.bin', 24)], 'amaranth': [('92_000.bin', 30)], 'acceleration': [('92_000.bin', 36)]}), defaultdict(<class 'list'>, {'ambiguity': [('71_000.bin', 0)], 'orange': [('71_000.bin', 6)], 'antisymmetric': [('71_000.bin', 12)], 'relation': [('71_000.bin', 18)], 'alcibiades': [('71_000.bin', 24)], 'chinese': [('71_000.bin', 30)], 'magnus': [('71_000.bin', 36)], 'asturias': [('71_000.bin', 42)], 'ambros': [('71_000.bin', 48)], 'anah': [('71_000.bin', 54)], 'longjumeau': [('71_000.bin', 60)]}), defaultdict(<class 'list'>, {'asia': [('102_000.bin', 0)], 'transport': [('102_000.bin', 12)], 'alismatales': [('102_000.bin', 30)], 'abbreviation': [('102_000.bin', 36)], 'anagram': [('102_000.bin', 42)], 'asgard': [('102_000.bin', 48)], 'amalasuintha': [('102_000.bin', 54)], 'andreani': [('102_000.bin', 60)], 'aliphatic': [('102_000.bin', 66)]}), defaultdict(<class 'list'>, {'confederation': [('61_000.bin', 0)], 'astronomy': [('61_000.bin', 6)], 'abortion': [('61_000.bin', 12)], 'abner': [('61_000.bin', 18)], 'amplitude': [('61_000.bin', 30)], 'poitiers': [('61_000.bin', 36)], 'capital': [('61_000.bin', 42)], 'acting': [('61_000.bin', 48)]}), defaultdict(<class 'list'>, {'ocean': [('5_000.bin', 0)], 'apple': [('5_000.bin', 6)], 'antigua': [('5_000.bin', 36)], 'aarhus': [('5_000.bin', 66)], 'afro': [('5_000.bin', 72)], 'aleister': [('5_000.bin', 78)], 'orbital': [('5_000.bin', 84)], 'xiii': [('5_000.bin', 90)], 'amazon': [('5_000.bin', 96)], 'traversari': [('5_000.bin', 102)], 'concerning': [('5_000.bin', 108)], 'mcbeal': [('5_000.bin', 114)], 'andreas': [('5_000.bin', 120)], 'geometry': [('5_000.bin', 132)], 'lumière': [('5_000.bin', 144)], 'processing': [('5_000.bin', 150)], 'acn': [('5_000.bin', 156)], 'aston': [('5_000.bin', 162)], 'albrecht': [('5_000.bin', 168)]}), defaultdict(<class 'list'>, {'arthur': [('50_000.bin', 0)], 'foreign': [('50_000.bin', 30)], 'anaconda': [('50_000.bin', 48)], 'ahab': [('50_000.bin', 54)], 'nyse': [('50_000.bin', 60)], 'agate': [('50_000.bin', 66)], 'solzhenitsyn': [('50_000.bin', 72)], 'marcius': [('50_000.bin', 78)], 'antoine': [('50_000.bin', 84)], 'antwerp': [('50_000.bin', 90)], 'ann': [('50_000.bin', 96)], 'series': [('50_000.bin', 108)], 'sid': [('50_000.bin', 120)], 'accusative': [('50_000.bin', 126)], 'felix': [('50_000.bin', 132)]}), defaultdict(<class 'list'>, {'angola': [('33_000.bin', 0)], 'day': [('33_000.bin', 36)], 'batlló': [('33_000.bin', 48)], 'bear': [('33_000.bin', 54)], 'mathematician': [('33_000.bin', 60)], 'jarry': [('33_000.bin', 66)], 'xxiii': [('33_000.bin', 72)]}), defaultdict(<class 'list'>, {'economy': [('49_000.bin', 0)], 'calculating': [('49_000.bin', 30)], 'revolution': [('49_000.bin', 36)], 'cuarón': [('49_000.bin', 48)], 'annales': [('49_000.bin', 54)], 'berry': [('49_000.bin', 60)], 'agasias': [('49_000.bin', 66)], 'agrippina': [('49_000.bin', 72)], 'appletalk': [('49_000.bin', 84)], 'creed': [('49_000.bin', 90)]}), defaultdict(<class 'list'>, {'albert': [('45_000.bin', 0)], 'azincourt': [('45_000.bin', 90)], 'michigan': [('45_000.bin', 96)], 'ark': [('45_000.bin', 108)], 'wellesley': [('45_000.bin', 120)], 'projects': [('45_000.bin', 126)], 'anton': [('45_000.bin', 132)], 'alexandrine': [('45_000.bin', 150)]}), defaultdict(<class 'list'>, {'sidney': [('54_000.bin', 0)], 'film': [('54_000.bin', 6)], 'allen': [('54_000.bin', 12)], 'royal': [('54_000.bin', 18)], 'agrarianism': [('54_000.bin', 30)], 'ambracia': [('54_000.bin', 36)], 'ancus': [('54_000.bin', 42)], 'understanding': [('54_000.bin', 48)], 'missile': [('54_000.bin', 54)], 'electron': [('54_000.bin', 60)]}), defaultdict(<class 'list'>, {'johnston': [('79_000.bin', 0)], 'applied': [('79_000.bin', 6)], 'abatement': [('79_000.bin', 12)], 'iowa': [('79_000.bin', 18)], 'awk': [('79_000.bin', 24)], 'battler': [('79_000.bin', 30)], 'ānanda': [('79_000.bin', 36)], 'absalon': [('79_000.bin', 42)], 'canterbury': [('79_000.bin', 48)], 'alkaloid': [('79_000.bin', 60)]}), defaultdict(<class 'list'>, {'robot': [('85_000.bin', 0)], 'actinopterygii': [('85_000.bin', 6)], 'algorithm': [('85_000.bin', 12)], 'alpha': [('85_000.bin', 18)], 'encephalomyelitis': [('85_000.bin', 48)], 'grothendieck': [('85_000.bin', 54)], 'auguste': [('85_000.bin', 60)]}), defaultdict(<class 'list'>, {'alberta': [('72_000.bin', 0)], 'constellation': [('72_000.bin', 12)], 'allegiance': [('72_000.bin', 30)], 'closed': [('72_000.bin', 36)], 'schweitzer': [('72_000.bin', 42)], 'alan': [('72_000.bin', 48)], 'extreme': [('72_000.bin', 78)], 'alligatoridae': [('72_000.bin', 84)], 'anaximenes': [('72_000.bin', 90)], 'smith': [('72_000.bin', 102)], 'university': [('72_000.bin', 108)], 'texas': [('72_000.bin', 126)], 'maillol': [('72_000.bin', 132)], 'anode': [('72_000.bin', 138)]}), defaultdict(<class 'list'>, {'afghanistan': [('38_000.bin', 0)], 'alexander': [('38_000.bin', 6)], 'plague': [('38_000.bin', 186)], 'france': [('38_000.bin', 192)], 'animism': [('38_000.bin', 198)], 'ainu': [('38_000.bin', 204)], 'alcmene': [('38_000.bin', 210)], 'angula': [('38_000.bin', 216)], 'afrikaans': [('38_000.bin', 222)], 'amstrad': [('38_000.bin', 228)], 'abbe': [('38_000.bin', 234)]}), defaultdict(<class 'list'>, {'albania': [('25_000.bin', 0)], 'korzybski': [('25_000.bin', 6)], 'poverty': [('25_000.bin', 12)], 'antarctica': [('25_000.bin', 18)], 'andrea': [('25_000.bin', 30)], 'medicine': [('25_000.bin', 42)], 'annealing': [('25_000.bin', 48)], 'archery': [('25_000.bin', 54)], 'league': [('25_000.bin', 60)], 'aphasia': [('25_000.bin', 72)], 'ælle': [('25_000.bin', 78)], 'andhra': [('25_000.bin', 84)], 'ascania': [('25_000.bin', 90)]}), defaultdict(<class 'list'>, {'allah': [('36_000.bin', 0)], 'game': [('36_000.bin', 6)], 'abbess': [('36_000.bin', 24)], 'anchor': [('36_000.bin', 30)], 'grace': [('36_000.bin', 36)], 'angelos': [('36_000.bin', 42)], 'andocides': [('36_000.bin', 48)], 'navis': [('36_000.bin', 54)], 'atari': [('36_000.bin', 60)]}), defaultdict(<class 'list'>, {'amateur': [('98_000.bin', 0)], 'anime': [('98_000.bin', 12)], 'arne': [('98_000.bin', 18)], '1990': [('98_000.bin', 24)], 'anadyr': [('98_000.bin', 30)], 'iii': [('98_000.bin', 36)], 'actium': [('98_000.bin', 114)], 'union': [('98_000.bin', 120)], 'ablative': [('98_000.bin', 126)], 'tales': [('98_000.bin', 132)]}), defaultdict(<class 'list'>, {'aikido': [('17_000.bin', 0)], 'advanced': [('17_000.bin', 6)], 'area': [('17_000.bin', 24)], 'actaeon': [('17_000.bin', 36)], 'albertosaurus': [('17_000.bin', 42)], 'dasyproctidae': [('17_000.bin', 48)], 'alarums': [('17_000.bin', 54)], 'puy': [('17_000.bin', 60)], 'alvar': [('17_000.bin', 66)], 'vespucci': [('17_000.bin', 72)], 'tridgell': [('17_000.bin', 78)], 'basic': [('17_000.bin', 84)], 'martin': [('17_000.bin', 90)], 'port': [('17_000.bin', 96)], 'alzheimer': [('17_000.bin', 102)]}), defaultdict(<class 'list'>, {'agnostida': [('8_000.bin', 0)], 'ancyra': [('8_000.bin', 6)], 'adhesive': [('8_000.bin', 12)]}), defaultdict(<class 'list'>, {'abstract': [('95_000.bin', 0)], 'altenberg': [('95_000.bin', 12)], 'armenia': [('95_000.bin', 18)], 'athene': [('95_000.bin', 60)], 'augustus': [('95_000.bin', 66)], 'agliardi': [('95_000.bin', 72)], 'ambrosius': [('95_000.bin', 78)]}), defaultdict(<class 'list'>, {'ampere': [('97_000.bin', 0)], 'akira': [('97_000.bin', 6)], 'spain': [('97_000.bin', 12)], 'affix': [('97_000.bin', 18)], 'electrophoresis': [('97_000.bin', 24)], 'fleming': [('97_000.bin', 30)], 'morita': [('97_000.bin', 36)]}), defaultdict(<class 'list'>, {'plant': [('74_000.bin', 0)], 'ashmore': [('74_000.bin', 6)], 'andré-marie': [('74_000.bin', 12)], 'excursions': [('74_000.bin', 18)], 'antigen': [('74_000.bin', 24)], 'covenant': [('74_000.bin', 30)]}), defaultdict(<class 'list'>, {'asteroids': [('44_000.bin', 0)], 'anna': [('44_000.bin', 6)], 'island': [('44_000.bin', 12)], 'amber': [('44_000.bin', 18)], 'arminianism': [('44_000.bin', 36)], 'milà': [('44_000.bin', 42)], 'adventures': [('44_000.bin', 48)], 'bena': [('44_000.bin', 54)], 'extension': [('44_000.bin', 60)], 'sussex': [('44_000.bin', 66)], 'albion': [('44_000.bin', 72)], 'micro': [('44_000.bin', 78)]}), defaultdict(<class 'list'>, {'asparagales': [('22_000.bin', 0)], 'acoustic': [('22_000.bin', 6)], 'town': [('22_000.bin', 18)], 'autosome': [('22_000.bin', 24)], 'current': [('22_000.bin', 30)], 'armour': [('22_000.bin', 36)], 'abiotic': [('22_000.bin', 42)], 'victor': [('22_000.bin', 48)]}), defaultdict(<class 'list'>, {'asterism': [('63_000.bin', 0)], 'aristophanes': [('63_000.bin', 6)], 'aphrodite': [('63_000.bin', 12)], 'apatosaurus': [('63_000.bin', 18)], 'agathon': [('63_000.bin', 24)], 'audio': [('63_000.bin', 30)]}), defaultdict(<class 'list'>, {'arabic': [('70_000.bin', 0)], 'aaron': [('70_000.bin', 18)], 'software': [('70_000.bin', 24)], 'kay': [('70_000.bin', 30)], \"alice's\": [('70_000.bin', 36)], 'acre': [('70_000.bin', 42)], 'argo': [('70_000.bin', 48)]}), defaultdict(<class 'list'>, {'hitchcock': [('26_000.bin', 0)], 'abba': [('26_000.bin', 6)], 'sign': [('26_000.bin', 12)], 'greece': [('26_000.bin', 18)], 'lydia': [('26_000.bin', 24)], 'autpert': [('26_000.bin', 30)], 'radiation': [('26_000.bin', 36)], 'front': [('26_000.bin', 42)], 'autobiography': [('26_000.bin', 48)]}), defaultdict(<class 'list'>, {'altaic': [('120_000.bin', 0)], 'force': [('120_000.bin', 6)], 'apl': [('120_000.bin', 12)], 'amram': [('120_000.bin', 24)], 'jordan': [('120_000.bin', 30)], 'tunnel': [('120_000.bin', 36)], 'actinide': [('120_000.bin', 42)], 'akio': [('120_000.bin', 48)]}), defaultdict(<class 'list'>, {'austrian': [('20_000.bin', 0)], 'maria': [('20_000.bin', 12)], 'toffler': [('20_000.bin', 18)], 'agatha': [('20_000.bin', 24)], 'azerbaijani': [('20_000.bin', 30)], 'line': [('20_000.bin', 36)], 'state': [('20_000.bin', 42)], 'brontë': [('20_000.bin', 48)], 'sayyaf': [('20_000.bin', 54)], 'military': [('20_000.bin', 60)], 'hopwood': [('20_000.bin', 66)], 'antidepressant': [('20_000.bin', 72)]}), defaultdict(<class 'list'>, {'german': [('4_000.bin', 0)], 'aspect': [('4_000.bin', 6)], 'abscess': [('4_000.bin', 12)], 'sound': [('4_000.bin', 18)], 'álfheimr': [('4_000.bin', 24)], 'severus': [('4_000.bin', 30)], 'anacharsis': [('4_000.bin', 36)], 'auriga': [('4_000.bin', 42)], 'tasman': [('4_000.bin', 48)], 'falcons': [('4_000.bin', 54)]}), defaultdict(<class 'list'>, {'axiom': [('112_000.bin', 0)], 'ginsberg': [('112_000.bin', 18)], 'automorphism': [('112_000.bin', 24)], 'ammonia': [('112_000.bin', 30)], 'akkadian': [('112_000.bin', 36)], 'andrew': [('112_000.bin', 42)], 'ambrosiaster': [('112_000.bin', 78)], 'jerusalem': [('112_000.bin', 84)], 'resistance': [('112_000.bin', 90)], 'vehicle': [('112_000.bin', 96)], 'western': [('112_000.bin', 102)]}), defaultdict(<class 'list'>, {'choice': [('42_000.bin', 0)], 'aeronautics': [('42_000.bin', 6)], 'succession': [('42_000.bin', 12)], 'aagesen': [('42_000.bin', 18)]}), defaultdict(<class 'list'>, {'attila': [('119_000.bin', 0)], 'system': [('119_000.bin', 6)], 'program': [('119_000.bin', 18)], 'asl': [('119_000.bin', 24)], 'abc': [('119_000.bin', 30)], 'hominem': [('119_000.bin', 36)]}), defaultdict(<class 'list'>, {'aegean': [('52_000.bin', 0)], 'school': [('52_000.bin', 6)], 'lawson': [('52_000.bin', 18)], 'anno': [('52_000.bin', 24)], 'aeneas': [('52_000.bin', 30)], 'algiers': [('52_000.bin', 36)], 'beverley': [('52_000.bin', 42)], 'ægir': [('52_000.bin', 48)], 'amway': [('52_000.bin', 54)], 'liberties': [('52_000.bin', 60)], 'folklore': [('52_000.bin', 66)], 'a360media': [('52_000.bin', 72)], 'widdecombe': [('52_000.bin', 78)], 'second': [('52_000.bin', 84)], 'arc': [('52_000.bin', 90)]}), defaultdict(<class 'list'>, {'amsterdam': [('48_000.bin', 0)], 'van': [('48_000.bin', 6)], 'merania': [('48_000.bin', 12)], 'aikin': [('48_000.bin', 18)], 'abzyme': [('48_000.bin', 24)], 'al-qaeda': [('48_000.bin', 30)], 'cpc': [('48_000.bin', 36)], 'eddington': [('48_000.bin', 42)], 'armored': [('48_000.bin', 48)]}), defaultdict(<class 'list'>, {'museum': [('94_000.bin', 0)], 'apiaceae': [('94_000.bin', 6)], 'applet': [('94_000.bin', 12)], 'balas': [('94_000.bin', 18)], 'dynasty': [('94_000.bin', 24)], 'ammianus': [('94_000.bin', 30)], 'ampicillin': [('94_000.bin', 36)], 'car': [('94_000.bin', 42)]}), defaultdict(<class 'list'>, {'work': [('12_000.bin', 0)], 'graham': [('12_000.bin', 6)], 'anatoly': [('12_000.bin', 12)], 'ardipithecus': [('12_000.bin', 18)], 'johnson': [('12_000.bin', 24)], 'hijacking': [('12_000.bin', 30)], 'adamic': [('12_000.bin', 36)], 'antibody': [('12_000.bin', 42)], 'berg': [('12_000.bin', 48)]}), defaultdict(<class 'list'>, {'inc': [('64_000.bin', 0)], 'ethics': [('64_000.bin', 12)], 'aleksandr': [('64_000.bin', 18)], 'anita': [('64_000.bin', 24)], 'aalen': [('64_000.bin', 30)]}), defaultdict(<class 'list'>, {'aztlan': [('29_000.bin', 0)], 'almond': [('29_000.bin', 6)], 'defence': [('29_000.bin', 12)], 'antisemitism': [('29_000.bin', 18)], 'samoa': [('29_000.bin', 30)], 'athens': [('29_000.bin', 48)], 'antarctic': [('29_000.bin', 60)], 'ealdred': [('29_000.bin', 72)], 'jannaeus': [('29_000.bin', 78)], 'alexios': [('29_000.bin', 84)], 'ambergris': [('29_000.bin', 108)], 'allotropy': [('29_000.bin', 114)], 'approximant': [('29_000.bin', 120)], 'airline': [('29_000.bin', 126)], 'atlantis': [('29_000.bin', 132)], 'armenian': [('29_000.bin', 138)], 'diabelli': [('29_000.bin', 144)]}), defaultdict(<class 'list'>, {'civil': [('110_000.bin', 0)], 'prince': [('110_000.bin', 12)], 'associative': [('110_000.bin', 18)], 'tree': [('110_000.bin', 30)], 'anti-aircraft': [('110_000.bin', 36)]}), defaultdict(<class 'list'>, {'ancient': [('123_000.bin', 0)], 'asteraceae': [('123_000.bin', 12)], 'municipality': [('123_000.bin', 18)], 'andes': [('123_000.bin', 24)], 'domini': [('123_000.bin', 30)], 'borders': [('123_000.bin', 36)], 'adder': [('123_000.bin', 42)], 'portugal': [('123_000.bin', 48)], 'anglo-saxon': [('123_000.bin', 84)], 'case': [('123_000.bin', 90)], 'adventism': [('123_000.bin', 102)], 'dürer': [('123_000.bin', 108)]}), defaultdict(<class 'list'>, {'brothers': [('68_000.bin', 0)], 'encryption': [('68_000.bin', 6)], 'alcuin': [('68_000.bin', 12)], 'aare': [('68_000.bin', 18)], 'press': [('68_000.bin', 24)], 'amaryllis': [('68_000.bin', 30)], 'saccas': [('68_000.bin', 36)], 'arcadius': [('68_000.bin', 42)], 'john': [('68_000.bin', 48)]}), defaultdict(<class 'list'>, {'neuron': [('78_000.bin', 0)], 'anaximander': [('78_000.bin', 6)], 'astrometry': [('78_000.bin', 12)], 'poet': [('78_000.bin', 18)], 'amati': [('78_000.bin', 24)], 'anti-ballistic': [('78_000.bin', 30)], 'braves': [('78_000.bin', 36)]}), defaultdict(<class 'list'>, {'abjad': [('6_000.bin', 0)], 'disseminated': [('6_000.bin', 6)], 'christie': [('6_000.bin', 12)], 'alexis': [('6_000.bin', 18)], 'assault': [('6_000.bin', 36)], 'age': [('6_000.bin', 48)], 'allophone': [('6_000.bin', 54)], 'astoria': [('6_000.bin', 60)], 'acquire': [('6_000.bin', 66)], 'camp': [('6_000.bin', 72)], 'aristide': [('6_000.bin', 78)], 'arene': [('6_000.bin', 84)]}), defaultdict(<class 'list'>, {'arsenic': [('57_000.bin', 0)], 'miss': [('57_000.bin', 6)], 'abduction': [('57_000.bin', 12)], 'acropolis': [('57_000.bin', 18)], 'canova': [('57_000.bin', 30)], 'lists': [('57_000.bin', 36)]}), defaultdict(<class 'list'>, {'americium': [('47_000.bin', 0)], 'atom': [('47_000.bin', 6)], 'aol': [('47_000.bin', 12)], 'ailanthus': [('47_000.bin', 18)], 'aphrodisias': [('47_000.bin', 24)], 'allele': [('47_000.bin', 30)], 'athanasian': [('47_000.bin', 36)]}), defaultdict(<class 'list'>, {'barbuda': [('73_000.bin', 0)], 'alternate': [('73_000.bin', 30)], 'ambrosians': [('73_000.bin', 36)], 'tralles': [('73_000.bin', 42)], 'heathenry': [('73_000.bin', 48)], 'drexler': [('73_000.bin', 54)], 'action': [('73_000.bin', 60)]}), defaultdict(<class 'list'>, {'aramaic': [('24_000.bin', 0)], 'value': [('24_000.bin', 12)], 'adenosine': [('24_000.bin', 18)], 'natural': [('24_000.bin', 24)], 'arabs': [('24_000.bin', 30)], 'additive': [('24_000.bin', 36)], 'analgesic': [('24_000.bin', 42)]}), defaultdict(<class 'list'>, {'signal': [('13_000.bin', 0)], 'athena': [('13_000.bin', 12)], 'treaty': [('13_000.bin', 18)], 'ames': [('13_000.bin', 24)], 'abdominal': [('13_000.bin', 30)], 'agis': [('13_000.bin', 36)], 'alexei': [('13_000.bin', 42)], 'cyrrhus': [('13_000.bin', 48)], 'atmosphere': [('13_000.bin', 54)], 'ayckbourn': [('13_000.bin', 60)]}), defaultdict(<class 'list'>, {'souls': [('3_000.bin', 0)], 'telecommunications': [('3_000.bin', 6)], 'unit': [('3_000.bin', 18)], 'word': [('3_000.bin', 30)], 'aromatic': [('3_000.bin', 36)], \"meier's\": [('3_000.bin', 42)], 'valley': [('3_000.bin', 48)]}), defaultdict(<class 'list'>, {'garner': [('1_000.bin', 0)], 'enquiry': [('1_000.bin', 6)], 'crandall': [('1_000.bin', 12)], 'automatic': [('1_000.bin', 18)], 'license': [('1_000.bin', 24)]}), defaultdict(<class 'list'>, {'artificial': [('108_000.bin', 0)], 'amide': [('108_000.bin', 12)], 'ayer': [('108_000.bin', 18)], 'ares': [('108_000.bin', 24)], 'data': [('108_000.bin', 30)]}), defaultdict(<class 'list'>, {'surgery': [('19_000.bin', 0)], 'york': [('19_000.bin', 6)], 'alexius': [('19_000.bin', 12)], 'actinophryid': [('19_000.bin', 18)], 'aeschylus': [('19_000.bin', 24)], 'afghan': [('19_000.bin', 30)]}), defaultdict(<class 'list'>, {'parsons': [('0_000.bin', 0)], 'komnenos': [('0_000.bin', 6)], 'algardi': [('0_000.bin', 24)], 'andronikos': [('0_000.bin', 30)], 'allegory': [('0_000.bin', 48)], 'democrats': [('0_000.bin', 54)], 'arab': [('0_000.bin', 60)], 'cappella': [('0_000.bin', 66)]}), defaultdict(<class 'list'>, {'bronson': [('14_000.bin', 0)], 'volta': [('14_000.bin', 6)], 'ansible': [('14_000.bin', 12)]}), defaultdict(<class 'list'>, {'asic': [('117_000.bin', 0)], 'planthopper': [('117_000.bin', 6)], 'leng': [('117_000.bin', 12)]}), defaultdict(<class 'list'>, {'brandenburg': [('106_000.bin', 0)], 'pherae': [('106_000.bin', 6)], 'aurelianus': [('106_000.bin', 12)], 'ammon': [('106_000.bin', 18)], 'arthritis': [('106_000.bin', 24)], 'anne': [('106_000.bin', 30)], 'al-omari': [('106_000.bin', 36)]}), defaultdict(<class 'list'>, {'russia': [('101_000.bin', 0)], 'andaman': [('101_000.bin', 12)], 'adhemar': [('101_000.bin', 18)], 'accelerated': [('101_000.bin', 24)], 'auger': [('101_000.bin', 30)]})]\n"
          ]
        }
      ]
    },
    {
      "cell_type": "code",
      "metadata": {
        "deletable": false,
        "editable": false,
        "id": "C-h5dgtF-TeL",
        "nbgrader": {
          "cell_type": "code",
          "checksum": "99fd63277bc98ff17fdeff467d07b5dd",
          "grade": true,
          "grade_id": "cell-67eccca53a3c689c",
          "locked": true,
          "points": 5,
          "schema_version": 3,
          "solution": false,
          "task": false
        }
      },
      "source": [
        "# merge the posting locations into a single dict and run more tests (5 points)\n",
        "super_posting_locs = defaultdict(list)\n",
        "for posting_loc in posting_locs_list:\n",
        "  for k, v in posting_loc.items():\n",
        "    super_posting_locs[k].extend(v)\n",
        "\n",
        "# assert super_posting_locs['try'][0][0][:3] == '105'\n",
        "# assert super_posting_locs['political'][0][0][:2] == '83'\n",
        "# assert 'hi' not in super_posting_locs\n",
        "# assert len(super_posting_locs) == 14524"
      ],
      "execution_count": 24,
      "outputs": []
    },
    {
      "cell_type": "code",
      "source": [
        "print(super_posting_locs)"
      ],
      "metadata": {
        "colab": {
          "base_uri": "https://localhost:8080/"
        },
        "id": "1reAzUmybSKW",
        "outputId": "2d9edda3-8bb8-4ee2-a000-1634ae307490"
      },
      "execution_count": 25,
      "outputs": [
        {
          "output_type": "stream",
          "name": "stdout",
          "text": [
            "defaultdict(<class 'list'>, {'anarchism': [('81_000.bin', 0)], 'agricultural': [('81_000.bin', 6)], 'schopenhauer': [('81_000.bin', 12)], 'politician': [('81_000.bin', 18)], 'disabilities': [('81_000.bin', 24)], 'abydos': [('81_000.bin', 30)], 'amyntas': [('81_000.bin', 48)], 'titus': [('81_000.bin', 60)], 'mahagonny': [('81_000.bin', 66)], 'autism': [('59_000.bin', 0)], 'abel': [('59_000.bin', 6)], 'angst': [('59_000.bin', 18)], 'casa': [('59_000.bin', 24)], 'arachnophobia': [('59_000.bin', 36)], 'serbia': [('59_000.bin', 42)], 'anderson': [('59_000.bin', 48)], 'andromeda': [('59_000.bin', 54)], 'achaeans': [('59_000.bin', 60)], 'angles': [('59_000.bin', 66)], 'albedo': [('2_000.bin', 0)], 'angolan': [('2_000.bin', 6)], 'aluminium': [('2_000.bin', 12)], 'antiparticle': [('2_000.bin', 18)], 'acacia': [('2_000.bin', 24)], 'voting': [('2_000.bin', 30)], 'acorn': [('2_000.bin', 36)], 'fox': [('2_000.bin', 42)], 'hill': [('2_000.bin', 48)], 'alabama': [('32_000.bin', 0)], 'amphibian': [('32_000.bin', 24)], 'alcohol': [('32_000.bin', 30)], 'intelligence': [('32_000.bin', 42)], 'agassiz': [('32_000.bin', 54)], 'archbishop': [('32_000.bin', 60)], 'aquila': [('32_000.bin', 72)], 'capellanus': [('32_000.bin', 78)], 'deep': [('32_000.bin', 84)], 'achilles': [('31_000.bin', 0)], 'argon': [('31_000.bin', 12)], 'achill': [('31_000.bin', 18)], 'agapanthus': [('31_000.bin', 24)], 'khan': [('31_000.bin', 30)], 'agesilaus': [('31_000.bin', 42)], 'absorption': [('31_000.bin', 48)], '1701': [('31_000.bin', 54)], 'assyria': [('31_000.bin', 60)], 'anointing': [('31_000.bin', 66)], 'roma': [('31_000.bin', 72)], 'aedile': [('31_000.bin', 78)], 'minute': [('31_000.bin', 84)], 'abraham': [('66_000.bin', 0)], 'anxiety': [('66_000.bin', 12)], 'andré': [('66_000.bin', 18)], 'abbotsford': [('66_000.bin', 36)], 'adam': [('66_000.bin', 42)], 'agathocles': [('66_000.bin', 54)], 'synthesis': [('66_000.bin', 60)], 'lincoln': [('90_000.bin', 0)], 'book': [('90_000.bin', 6)], 'camus': [('90_000.bin', 18)], 'auto': [('90_000.bin', 24)], 'celt': [('90_000.bin', 30)], 'alessandro': [('90_000.bin', 36)], 'anaxagoras': [('90_000.bin', 60)], 'weil': [('90_000.bin', 66)], 'rodin': [('90_000.bin', 72)], 'abyssinia': [('90_000.bin', 78)], 'ascorbic': [('90_000.bin', 84)], 'aristotle': [('122_000.bin', 0)], 'anthropologists': [('122_000.bin', 6)], 'revolutionary': [('122_000.bin', 12)], 'chemistry': [('122_000.bin', 18)], 'milne': [('122_000.bin', 36)], 'atp': [('122_000.bin', 42)], 'compositing': [('122_000.bin', 48)], 'aesthetics': [('122_000.bin', 54)], 'rise': [('122_000.bin', 60)], 'american': [('55_000.bin', 0)], 'international': [('55_000.bin', 132)], 'anatole': [('55_000.bin', 138)], 'assembly': [('55_000.bin', 144)], 'arianism': [('55_000.bin', 156)], 'almost': [('55_000.bin', 162)], 'party': [('55_000.bin', 168)], 'cuisine': [('55_000.bin', 174)], 'hungary': [('55_000.bin', 192)], 'centauri': [('55_000.bin', 198)], 'ct-80': [('55_000.bin', 210)], 'paris': [('65_000.bin', 0)], 'acid': [('65_000.bin', 6)], 'armed': [('65_000.bin', 24)], 'great': [('65_000.bin', 42)], 'author': [('65_000.bin', 60)], 'alumni': [('65_000.bin', 66)], 'antoninus': [('65_000.bin', 72)], 'liège': [('65_000.bin', 78)], 'auschwitz': [('65_000.bin', 84)], 'fire': [('65_000.bin', 90)], 'academy': [('51_000.bin', 0)], 'arithmetic': [('51_000.bin', 12)], 'morality': [('51_000.bin', 18)], 'atle': [('51_000.bin', 24)], 'ambient': [('51_000.bin', 30)], 'anthem': [('51_000.bin', 36)], 'award': [('93_000.bin', 0)], 'ashes': [('93_000.bin', 6)], 'scottish': [('93_000.bin', 12)], 'alger': [('93_000.bin', 18)], 'alyattes': [('93_000.bin', 24)], 'ambiorix': [('93_000.bin', 30)], 'upon': [('93_000.bin', 36)], 'acadia': [('93_000.bin', 42)], 'tank': [('93_000.bin', 48)], 'scarlatti': [('93_000.bin', 54)], 'best': [('87_000.bin', 0)], 'animalia': [('87_000.bin', 6)], 'spider-man': [('87_000.bin', 12)], 'artistic': [('87_000.bin', 18)], 'alcaeus': [('87_000.bin', 30)], 'solid': [('87_000.bin', 36)], 'deco': [('87_000.bin', 42)], 'ibm': [('87_000.bin', 48)], 'salieri': [('87_000.bin', 54)], 'fall': [('87_000.bin', 60)], 'organization': [('87_000.bin', 66)], 'production': [('99_000.bin', 0)], 'animation': [('99_000.bin', 6)], 'algebraically': [('99_000.bin', 12)], 'duke': [('99_000.bin', 18)], 'albertus': [('99_000.bin', 24)], 'afonso': [('99_000.bin', 30)], 'complexity': [('99_000.bin', 72)], 'amasis': [('99_000.bin', 78)], 'macedon': [('99_000.bin', 84)], 'anastasius': [('99_000.bin', 96)], 'andriscus': [('99_000.bin', 114)], 'palaiologos': [('99_000.bin', 120)], 'aster': [('99_000.bin', 132)], 'steel-string': [('99_000.bin', 138)], 'design': [('58_000.bin', 0)], 'science': [('58_000.bin', 6)], 'astronomer': [('58_000.bin', 12)], 'android': [('58_000.bin', 24)], 'novel': [('58_000.bin', 30)], 'aircraft': [('58_000.bin', 36)], 'antimony': [('58_000.bin', 54)], 'marple': [('58_000.bin', 60)], \"america's\": [('58_000.bin', 66)], 'accordion': [('58_000.bin', 72)], 'foundation': [('58_000.bin', 78)], 'labor': [('58_000.bin', 84)], 'people': [('58_000.bin', 90)], 'alexandrists': [('58_000.bin', 96)], 'ammonius': [('58_000.bin', 102)], 'ambroise': [('58_000.bin', 114)], 'hippo': [('58_000.bin', 120)], 'aorta': [('58_000.bin', 126)], 'restoration': [('58_000.bin', 132)], 'awards': [('96_000.bin', 0)], 'america': [('96_000.bin', 6)], 'antioch': [('96_000.bin', 12)], 'bachchan': [('96_000.bin', 18)], 'abadan': [('96_000.bin', 24)], 'aalto': [('96_000.bin', 30)], 'settlement': [('96_000.bin', 36)], 'adrenal': [('96_000.bin', 42)], 'file': [('96_000.bin', 48)], 'pike': [('96_000.bin', 54)], 'actrius': [('18_000.bin', 0)], 'warhol': [('18_000.bin', 6)], 'kurosawa': [('18_000.bin', 12)], 'physics': [('18_000.bin', 18)], 'mytilene': [('18_000.bin', 24)], 'apus': [('18_000.bin', 30)], 'weishaupt': [('18_000.bin', 36)], 'korner': [('18_000.bin', 42)], 'devices': [('18_000.bin', 48)], 'atomic': [('10_000.bin', 0)], 'affirming': [('10_000.bin', 36)], 'alfred': [('10_000.bin', 42)], 'acupuncture': [('10_000.bin', 96)], 'proserpine': [('10_000.bin', 102)], 'magnitude': [('10_000.bin', 108)], 'aeolus': [('10_000.bin', 120)], 'nidal': [('10_000.bin', 126)], 'chekhov': [('10_000.bin', 132)], 'time': [('67_000.bin', 0)], 'altruism': [('67_000.bin', 12)], 'andre': [('67_000.bin', 18)], 'relations': [('67_000.bin', 24)], 'ratio': [('67_000.bin', 42)], 'ahmed': [('67_000.bin', 48)], 'scotland': [('67_000.bin', 66)], 'arkansas': [('67_000.bin', 84)], 'graphics': [('67_000.bin', 90)], 'ayn': [('75_000.bin', 0)], 'journal': [('75_000.bin', 6)], 'war': [('75_000.bin', 12)], 'angle': [('75_000.bin', 24)], 'analytical': [('75_000.bin', 30)], 'abensberg': [('75_000.bin', 42)], 'miletus': [('75_000.bin', 48)], 'asp': [('75_000.bin', 54)], 'argentine': [('75_000.bin', 60)], 'rand': [('83_000.bin', 0)], 'institute': [('83_000.bin', 6)], 'astronaut': [('83_000.bin', 18)], 'sea': [('83_000.bin', 24)], 'alp': [('83_000.bin', 30)], 'history': [('83_000.bin', 36)], 'americans': [('83_000.bin', 48)], 'computer': [('83_000.bin', 60)], 'almoravid': [('83_000.bin', 72)], 'alphons': [('83_000.bin', 78)], 'bakr': [('83_000.bin', 84)], 'louis': [('83_000.bin', 90)], 'anthony': [('83_000.bin', 96)], 'alain': [('109_000.bin', 0)], 'argument': [('109_000.bin', 12)], 'anglican': [('109_000.bin', 24)], 'kaijser': [('109_000.bin', 30)], 'hercule': [('109_000.bin', 36)], 'avicenna': [('109_000.bin', 42)], 'decay': [('109_000.bin', 48)], 'alcamenes': [('109_000.bin', 54)], 'alypius': [('109_000.bin', 60)], 'schwarzenegger': [('109_000.bin', 66)], 'aimery': [('109_000.bin', 72)], 'iran': [('109_000.bin', 78)], 'afc': [('109_000.bin', 84)], 'arrangement': [('109_000.bin', 90)], 'connes': [('114_000.bin', 0)], 'clockwork': [('114_000.bin', 6)], 'process': [('114_000.bin', 12)], 'wonderland': [('114_000.bin', 18)], 'alboin': [('114_000.bin', 24)], 'numerals': [('114_000.bin', 30)], 'cauchy': [('114_000.bin', 36)], 'territory': [('114_000.bin', 42)], 'aix': [('114_000.bin', 48)], 'armadillo': [('114_000.bin', 54)], 'cobble': [('114_000.bin', 60)], 'ardal': [('114_000.bin', 66)], 'allan': [('15_000.bin', 0)], 'egypt': [('15_000.bin', 6)], 'ak-47': [('15_000.bin', 18)], 'ancylopoda': [('15_000.bin', 24)], 'alder': [('15_000.bin', 30)], 'adiabatic': [('15_000.bin', 36)], 'absalom': [('15_000.bin', 42)], 'sick': [('15_000.bin', 48)], 'dwan': [('41_000.bin', 0)], 'art': [('41_000.bin', 6)], 'derleth': [('41_000.bin', 30)], 'absolute': [('41_000.bin', 36)], 'northern': [('41_000.bin', 54)], 'adelaide': [('41_000.bin', 60)], 'acapulco': [('41_000.bin', 66)], 'shah': [('41_000.bin', 72)], 'marcellinus': [('41_000.bin', 84)], 'arizona': [('41_000.bin', 90)], 'ally': [('41_000.bin', 108)], 'alf': [('41_000.bin', 114)], 'hopkins': [('41_000.bin', 120)], 'alicante': [('41_000.bin', 126)], 'algeria': [('105_000.bin', 0)], 'football': [('105_000.bin', 6)], 'asphalt': [('105_000.bin', 24)], 'anatomy': [('105_000.bin', 30)], 'motor': [('105_000.bin', 36)], 'crowley': [('105_000.bin', 42)], 'avl': [('105_000.bin', 48)], 'list': [('104_000.bin', 0)], 'beautiful': [('104_000.bin', 24)], 'vogt': [('104_000.bin', 30)], 'islands': [('104_000.bin', 36)], 'ahenobarbus': [('104_000.bin', 48)], 'triumph': [('104_000.bin', 54)], 'cyprus': [('104_000.bin', 60)], 'ambush': [('104_000.bin', 66)], 'british': [('104_000.bin', 72)], 'selberg': [('104_000.bin', 78)], 'gun': [('104_000.bin', 84)], 'city': [('104_000.bin', 90)], 'atlas': [('39_000.bin', 0)], 'united': [('39_000.bin', 12)], 'acoustics': [('39_000.bin', 30)], 'mackenzie': [('39_000.bin', 36)], 'apocrypha': [('39_000.bin', 42)], 'oregon': [('39_000.bin', 48)], 'alberto': [('39_000.bin', 54)], 'shrugged': [('103_000.bin', 0)], 'variance': [('103_000.bin', 6)], 'tarkovsky': [('103_000.bin', 18)], 'alloy': [('103_000.bin', 24)], 'durrani': [('103_000.bin', 30)], 'arnold': [('103_000.bin', 36)], 'ælfheah': [('103_000.bin', 42)], 'format': [('103_000.bin', 48)], 'house': [('103_000.bin', 54)], 'characters': [('84_000.bin', 0)], 'arable': [('84_000.bin', 6)], 'shot': [('84_000.bin', 12)], 'anisotropy': [('84_000.bin', 18)], 'property': [('84_000.bin', 24)], 'ampère': [('84_000.bin', 36)], 'archimedean': [('84_000.bin', 42)], 'horch': [('84_000.bin', 48)], 'angels': [('84_000.bin', 54)], 'anthropology': [('113_000.bin', 0)], 'minor': [('113_000.bin', 6)], 'markov': [('113_000.bin', 12)], 'cartier': [('113_000.bin', 18)], 'compound': [('113_000.bin', 24)], 'jagiellon': [('113_000.bin', 36)], 'allori': [('113_000.bin', 42)], 'andronicus': [('113_000.bin', 48)], 'concentration': [('113_000.bin', 66)], 'advance': [('113_000.bin', 72)], 'arctic': [('113_000.bin', 78)], 'apoptosis': [('113_000.bin', 84)], 'alchemy': [('23_000.bin', 0)], 'aquarius': [('23_000.bin', 6)], 'kournikova': [('23_000.bin', 12)], 'doubleday': [('23_000.bin', 18)], 'abbot': [('23_000.bin', 24)], 'difranco': [('23_000.bin', 30)], 'alien': [('82_000.bin', 0)], 'alkali': [('82_000.bin', 6)], 'atlantic': [('82_000.bin', 12)], 'anazarbus': [('82_000.bin', 24)], 'hymn': [('82_000.bin', 30)], 'ibn': [('82_000.bin', 36)], 'australia': [('82_000.bin', 42)], 'amerigo': [('82_000.bin', 48)], 'apostles': [('82_000.bin', 54)], 'destroyer': [('82_000.bin', 60)], 'aurangzeb': [('82_000.bin', 66)], 'ascii': [('37_000.bin', 0)], 'audi': [('37_000.bin', 12)], 'jakob': [('37_000.bin', 18)], 'river': [('37_000.bin', 24)], 'albuquerque': [('37_000.bin', 42)], 'amazons': [('37_000.bin', 48)], 'acetylene': [('37_000.bin', 54)], 'selkirk': [('37_000.bin', 60)], 'airlines': [('37_000.bin', 66)], 'apparent': [('37_000.bin', 78)], 'guitar': [('37_000.bin', 84)], 'cultural': [('37_000.bin', 90)], 'austin': [('11_000.bin', 0)], 'demographics': [('11_000.bin', 12)], 'diceless': [('11_000.bin', 36)], 'amethyst': [('11_000.bin', 42)], 'army': [('11_000.bin', 48)], 'aldine': [('11_000.bin', 54)], 'xii': [('11_000.bin', 60)], 'disambiguation': [('107_000.bin', 0)], 'austroasiatic': [('107_000.bin', 108)], 'forces': [('107_000.bin', 114)], 'einstein': [('107_000.bin', 132)], 'mouthwash': [('107_000.bin', 138)], 'poirot': [('107_000.bin', 144)], 'anglicanism': [('107_000.bin', 150)], 'angilbert': [('107_000.bin', 156)], 'empire': [('107_000.bin', 162)], 'consent': [('107_000.bin', 168)], 'anthemius': [('107_000.bin', 174)], 'prague': [('107_000.bin', 180)], 'massoud': [('107_000.bin', 186)], 'apollo': [('115_000.bin', 0)], 'anatolia': [('115_000.bin', 84)], 'astatine': [('115_000.bin', 90)], 'racing': [('115_000.bin', 96)], 'augustin-jean': [('115_000.bin', 102)], 'philosophy': [('115_000.bin', 108)], 'turing': [('115_000.bin', 114)], 'apostolic': [('115_000.bin', 120)], 'agassi': [('7_000.bin', 0)], 'politics': [('7_000.bin', 6)], 'video': [('7_000.bin', 30)], 'agnosticism': [('7_000.bin', 36)], 'dodo': [('7_000.bin', 42)], 'brandenburg-kulmbach': [('7_000.bin', 48)], 'amathus': [('7_000.bin', 54)], 'anaxarchus': [('7_000.bin', 60)], 'antibiotic': [('7_000.bin', 66)], 'antiprism': [('7_000.bin', 72)], 'flight': [('7_000.bin', 78)], 'antlia': [('7_000.bin', 84)], 'homer': [('7_000.bin', 90)], 'acts': [('7_000.bin', 96)], 'abimelech': [('7_000.bin', 102)], 'type': [('7_000.bin', 108)], 'rules': [('7_000.bin', 114)], 'hunger': [('7_000.bin', 120)], 'languages': [('91_000.bin', 0)], 'affidavit': [('91_000.bin', 18)], 'acute': [('91_000.bin', 24)], 'anguilla': [('91_000.bin', 30)], 'güell': [('91_000.bin', 42)], 'lesser': [('91_000.bin', 48)], 'kolmogorov': [('91_000.bin', 54)], 'lavoisier': [('91_000.bin', 60)], 'delian': [('91_000.bin', 66)], 'alban': [('91_000.bin', 72)], 'afroasiatic': [('69_000.bin', 0)], 'standards': [('69_000.bin', 6)], 'allocution': [('69_000.bin', 12)], 'abbey': [('69_000.bin', 18)], 'syracuse': [('69_000.bin', 24)], 'structure': [('69_000.bin', 30)], 'applesoft': [('69_000.bin', 36)], 'arsenal': [('69_000.bin', 42)], 'dostum': [('69_000.bin', 48)], 'andorra': [('16_000.bin', 0)], 'alphabet': [('16_000.bin', 6)], 'park': [('16_000.bin', 30)], 'prussia': [('16_000.bin', 36)], 'lampsacus': [('16_000.bin', 42)], 'human': [('16_000.bin', 48)], 'alternative': [('16_000.bin', 54)], 'diamondbacks': [('16_000.bin', 60)], 'fighting': [('16_000.bin', 66)], \"amdahl's\": [('16_000.bin', 72)], 'mean': [('43_000.bin', 0)], 'algae': [('43_000.bin', 6)], 'roleplaying': [('43_000.bin', 12)], 'aetolus': [('43_000.bin', 18)], 'triphosphate': [('43_000.bin', 24)], 'augustin-louis': [('43_000.bin', 30)], 'ara': [('43_000.bin', 36)], 'asterix': [('43_000.bin', 42)], 'plea': [('43_000.bin', 48)], 'abdulaziz': [('43_000.bin', 54)], 'self-propelled': [('43_000.bin', 60)], 'conference': [('46_000.bin', 0)], 'answer': [('46_000.bin', 6)], 'axon': [('46_000.bin', 12)], 'fresnel': [('46_000.bin', 18)], 'antimatter': [('46_000.bin', 24)], 'amos': [('46_000.bin', 30)], 'elder': [('46_000.bin', 42)], 'amiga': [('46_000.bin', 48)], 'avionics': [('46_000.bin', 54)], 'announcement': [('46_000.bin', 60)], 'bohr': [('46_000.bin', 66)], 'pradesh': [('46_000.bin', 72)], 'animal': [('118_000.bin', 0)], 'governors': [('118_000.bin', 12)], 'ask': [('118_000.bin', 18)], 'russel': [('118_000.bin', 24)], 'lory': [('118_000.bin', 30)], 'doukas': [('118_000.bin', 36)], 'semantics': [('118_000.bin', 42)], 'armoured': [('118_000.bin', 48)], 'farm': [('121_000.bin', 0)], 'annual': [('121_000.bin', 6)], 'aries': [('121_000.bin', 12)], 'bell': [('121_000.bin', 18)], 'engine': [('121_000.bin', 24)], 'allosaurus': [('121_000.bin', 30)], 'zero': [('121_000.bin', 36)], 'ajax': [('121_000.bin', 42)], 'amphipolis': [('121_000.bin', 66)], 'attorney': [('121_000.bin', 72)], 'circumpolar': [('121_000.bin', 78)], 'array': [('121_000.bin', 84)], 'abdul': [('121_000.bin', 90)], 'conservation': [('121_000.bin', 96)], 'alaska': [('60_000.bin', 0)], 'algol': [('60_000.bin', 6)], 'aquaculture': [('60_000.bin', 18)], 'wilhelm': [('60_000.bin', 24)], 'africa': [('60_000.bin', 30)], 'giacometti': [('60_000.bin', 48)], 'agriculture': [('35_000.bin', 0)], 'azerbaijan': [('35_000.bin', 6)], 'abugida': [('35_000.bin', 30)], 'asociación': [('35_000.bin', 36)], 'algebraic': [('35_000.bin', 42)], 'artist': [('35_000.bin', 60)], 'standard': [('35_000.bin', 66)], 'alaric': [('35_000.bin', 72)], 'adalbert': [('35_000.bin', 84)], 'african': [('35_000.bin', 90)], 'aldous': [('28_000.bin', 0)], 'nobel': [('28_000.bin', 6)], 'disease': [('28_000.bin', 12)], 'actinium': [('28_000.bin', 18)], 'aalborg': [('28_000.bin', 24)], 'architect': [('28_000.bin', 30)], 'programming': [('28_000.bin', 36)], 'ambrosia': [('28_000.bin', 48)], 'amalaric': [('28_000.bin', 54)], 'tsarevich': [('28_000.bin', 60)], 'antipope': [('28_000.bin', 66)], 'hermann': [('28_000.bin', 90)], 'arbor': [('28_000.bin', 96)], 'apicomplexa': [('28_000.bin', 108)], 'huxley': [('62_000.bin', 0)], 'number': [('62_000.bin', 6)], 'aardwolf': [('62_000.bin', 30)], 'arabian': [('62_000.bin', 36)], 'africanus': [('62_000.bin', 42)], 'agamemnon': [('62_000.bin', 48)], 'younger': [('62_000.bin', 54)], 'technique': [('62_000.bin', 60)], 'alkmaar': [('62_000.bin', 66)], 'rashid': [('62_000.bin', 72)], 'ada': [('76_000.bin', 0)], 'underground': [('76_000.bin', 18)], 'analog': [('76_000.bin', 24)], 'vivaldi': [('76_000.bin', 48)], 'aachen': [('76_000.bin', 54)], 'alciato': [('76_000.bin', 60)], 'animated': [('76_000.bin', 66)], 'anti-realism': [('76_000.bin', 72)], 'aberdeen': [('53_000.bin', 0)], 'jackson': [('53_000.bin', 12)], 'aragon': [('53_000.bin', 18)], 'hermiae': [('53_000.bin', 36)], 'alcoholics': [('53_000.bin', 42)], 'anonymous': [('53_000.bin', 48)], 'analytic': [('53_000.bin', 54)], 'analysis': [('80_000.bin', 0)], 'asterales': [('80_000.bin', 18)], 'april': [('80_000.bin', 24)], 'alcidamas': [('80_000.bin', 174)], 'aaliyah': [('80_000.bin', 180)], 'alkane': [('116_000.bin', 0)], 'articles': [('116_000.bin', 6)], 'abalone': [('116_000.bin', 12)], 'alphorn': [('116_000.bin', 18)], 'embla': [('116_000.bin', 24)], 'alemanni': [('116_000.bin', 30)], 'gel': [('116_000.bin', 36)], 'augustine': [('116_000.bin', 42)], 'astrology': [('116_000.bin', 48)], 'appellate': [('77_000.bin', 0)], 'aruba': [('77_000.bin', 12)], 'alvin': [('77_000.bin', 18)], 'field': [('77_000.bin', 24)], 'karpov': [('77_000.bin', 30)], 'astronomical': [('77_000.bin', 36)], 'ashoka': [('77_000.bin', 42)], 'atanasoff': [('77_000.bin', 48)], 'aspirin': [('77_000.bin', 54)], 'agnes': [('77_000.bin', 60)], 'petrovich': [('77_000.bin', 66)], 'al-haytham': [('77_000.bin', 72)], 'abm': [('77_000.bin', 78)], 'kolbe': [('77_000.bin', 84)], 'wiles': [('77_000.bin', 90)], 'quiet': [('77_000.bin', 96)], 'carrier': [('77_000.bin', 102)], 'saint': [('77_000.bin', 108)], 'procedure': [('89_000.bin', 0)], 'apiales': [('89_000.bin', 6)], 'amino': [('89_000.bin', 12)], 'carnegie': [('89_000.bin', 18)], 'television': [('89_000.bin', 24)], 'annapolis': [('89_000.bin', 36)], 'states': [('88_000.bin', 0)], 'adobe': [('88_000.bin', 18)], 'algorithms': [('88_000.bin', 30)], 'messagepad': [('88_000.bin', 48)], 'amine': [('88_000.bin', 54)], 'allomorph': [('88_000.bin', 60)], 'archimedes': [('88_000.bin', 66)], 'antimicrobial': [('88_000.bin', 72)], 'circuit': [('88_000.bin', 78)], 'aage': [('88_000.bin', 84)], 'law': [('100_000.bin', 0)], 'adventure': [('100_000.bin', 18)], 'ankara': [('100_000.bin', 24)], 'andrey': [('100_000.bin', 30)], 'afterlife': [('100_000.bin', 36)], 'ambrose': [('100_000.bin', 42)], 'wallace': [('100_000.bin', 60)], 'ahmad': [('100_000.bin', 66)], 'road': [('100_000.bin', 78)], 'algebra': [('100_000.bin', 84)], 'regularity': [('100_000.bin', 90)], 'abcd': [('100_000.bin', 96)], 'stress': [('100_000.bin', 102)], 'ayahuasca': [('100_000.bin', 108)], \"o'hanlon\": [('100_000.bin', 114)], 'court': [('111_000.bin', 0)], 'modulation': [('111_000.bin', 6)], 'margrave': [('111_000.bin', 12)], 'adaptive': [('111_000.bin', 18)], 'agarose': [('111_000.bin', 24)], 'cardinals': [('111_000.bin', 30)], 'alford': [('111_000.bin', 36)], 'arraignment': [('27_000.bin', 0)], 'andrei': [('27_000.bin', 6)], 'speer': [('27_000.bin', 12)], 'amalric': [('27_000.bin', 18)], 'aotus': [('27_000.bin', 36)], 'effect': [('27_000.bin', 42)], 'assistive': [('34_000.bin', 0)], 'alfons': [('34_000.bin', 6)], 'anarcho-capitalism': [('34_000.bin', 12)], 'carrel': [('34_000.bin', 18)], 'project': [('34_000.bin', 24)], 'anbar': [('34_000.bin', 30)], 'adrian': [('34_000.bin', 36)], 'abraxas': [('34_000.bin', 42)], 'amarasimha': [('34_000.bin', 48)], 'apuleius': [('34_000.bin', 54)], 'amitabh': [('34_000.bin', 60)], 'spalding': [('34_000.bin', 66)], 'aeon': [('34_000.bin', 72)], 'comparison': [('34_000.bin', 78)], 'technology': [('86_000.bin', 0)], 'cavefish': [('86_000.bin', 6)], 'theory': [('86_000.bin', 12)], 'pius': [('86_000.bin', 18)], 'antonio': [('86_000.bin', 24)], 'hellespont': [('86_000.bin', 48)], 'lille': [('86_000.bin', 54)], 'abijah': [('86_000.bin', 60)], 'abacus': [('21_000.bin', 0)], 'arslan': [('21_000.bin', 6)], 'gide': [('21_000.bin', 12)], 'language': [('21_000.bin', 18)], 'alcott': [('21_000.bin', 54)], 'abu': [('21_000.bin', 60)], 'mythology': [('21_000.bin', 78)], 'aon': [('21_000.bin', 84)], 'national': [('40_000.bin', 0)], 'anthophyta': [('40_000.bin', 12)], 'andy': [('40_000.bin', 18)], 'august': [('40_000.bin', 24)], 'apache': [('40_000.bin', 222)], 'epirus': [('40_000.bin', 228)], 'rhodes': [('40_000.bin', 240)], 'alphonse': [('40_000.bin', 246)], 'gland': [('40_000.bin', 252)], 'company': [('40_000.bin', 258)], 'modest': [('9_000.bin', 0)], 'archipelago': [('9_000.bin', 6)], 'amazing': [('9_000.bin', 12)], 'arecales': [('9_000.bin', 24)], 'alfonso': [('9_000.bin', 30)], 'sensu': [('9_000.bin', 120)], 'lato': [('9_000.bin', 126)], 'aga': [('9_000.bin', 132)], 'aloe': [('9_000.bin', 144)], 'atlanta': [('9_000.bin', 150)], 'miller': [('9_000.bin', 162)], 'alois': [('9_000.bin', 168)], 'proposal': [('56_000.bin', 0)], 'aberdeenshire': [('56_000.bin', 6)], 'geography': [('56_000.bin', 12)], 'act': [('56_000.bin', 42)], 'alphonso': [('56_000.bin', 54)], 'approval': [('56_000.bin', 60)], 'count': [('56_000.bin', 66)], 'english': [('56_000.bin', 72)], 'fair': [('56_000.bin', 90)], 'world': [('56_000.bin', 96)], 'arcology': [('56_000.bin', 102)], 'metal': [('30_000.bin', 0)], 'asteroid': [('30_000.bin', 6)], 'land': [('30_000.bin', 12)], 'ataxia': [('30_000.bin', 18)], 'asa': [('30_000.bin', 24)], 'alabaster': [('30_000.bin', 36)], 'australian': [('30_000.bin', 42)], 'aimoin': [('30_000.bin', 72)], 'ani': [('30_000.bin', 78)], 'weapon': [('30_000.bin', 84)], 'avery': [('30_000.bin', 90)], 'altdorfer': [('30_000.bin', 96)], 'consequent': [('92_000.bin', 0)], 'aardvark': [('92_000.bin', 6)], 'communion': [('92_000.bin', 12)], 'lovelace': [('92_000.bin', 18)], 'alps': [('92_000.bin', 24)], 'amaranth': [('92_000.bin', 30)], 'acceleration': [('92_000.bin', 36)], 'ambiguity': [('71_000.bin', 0)], 'orange': [('71_000.bin', 6)], 'antisymmetric': [('71_000.bin', 12)], 'relation': [('71_000.bin', 18)], 'alcibiades': [('71_000.bin', 24)], 'chinese': [('71_000.bin', 30)], 'magnus': [('71_000.bin', 36)], 'asturias': [('71_000.bin', 42)], 'ambros': [('71_000.bin', 48)], 'anah': [('71_000.bin', 54)], 'longjumeau': [('71_000.bin', 60)], 'asia': [('102_000.bin', 0)], 'transport': [('102_000.bin', 12)], 'alismatales': [('102_000.bin', 30)], 'abbreviation': [('102_000.bin', 36)], 'anagram': [('102_000.bin', 42)], 'asgard': [('102_000.bin', 48)], 'amalasuintha': [('102_000.bin', 54)], 'andreani': [('102_000.bin', 60)], 'aliphatic': [('102_000.bin', 66)], 'confederation': [('61_000.bin', 0)], 'astronomy': [('61_000.bin', 6)], 'abortion': [('61_000.bin', 12)], 'abner': [('61_000.bin', 18)], 'amplitude': [('61_000.bin', 30)], 'poitiers': [('61_000.bin', 36)], 'capital': [('61_000.bin', 42)], 'acting': [('61_000.bin', 48)], 'ocean': [('5_000.bin', 0)], 'apple': [('5_000.bin', 6)], 'antigua': [('5_000.bin', 36)], 'aarhus': [('5_000.bin', 66)], 'afro': [('5_000.bin', 72)], 'aleister': [('5_000.bin', 78)], 'orbital': [('5_000.bin', 84)], 'xiii': [('5_000.bin', 90)], 'amazon': [('5_000.bin', 96)], 'traversari': [('5_000.bin', 102)], 'concerning': [('5_000.bin', 108)], 'mcbeal': [('5_000.bin', 114)], 'andreas': [('5_000.bin', 120)], 'geometry': [('5_000.bin', 132)], 'lumière': [('5_000.bin', 144)], 'processing': [('5_000.bin', 150)], 'acn': [('5_000.bin', 156)], 'aston': [('5_000.bin', 162)], 'albrecht': [('5_000.bin', 168)], 'arthur': [('50_000.bin', 0)], 'foreign': [('50_000.bin', 30)], 'anaconda': [('50_000.bin', 48)], 'ahab': [('50_000.bin', 54)], 'nyse': [('50_000.bin', 60)], 'agate': [('50_000.bin', 66)], 'solzhenitsyn': [('50_000.bin', 72)], 'marcius': [('50_000.bin', 78)], 'antoine': [('50_000.bin', 84)], 'antwerp': [('50_000.bin', 90)], 'ann': [('50_000.bin', 96)], 'series': [('50_000.bin', 108)], 'sid': [('50_000.bin', 120)], 'accusative': [('50_000.bin', 126)], 'felix': [('50_000.bin', 132)], 'angola': [('33_000.bin', 0)], 'day': [('33_000.bin', 36)], 'batlló': [('33_000.bin', 48)], 'bear': [('33_000.bin', 54)], 'mathematician': [('33_000.bin', 60)], 'jarry': [('33_000.bin', 66)], 'xxiii': [('33_000.bin', 72)], 'economy': [('49_000.bin', 0)], 'calculating': [('49_000.bin', 30)], 'revolution': [('49_000.bin', 36)], 'cuarón': [('49_000.bin', 48)], 'annales': [('49_000.bin', 54)], 'berry': [('49_000.bin', 60)], 'agasias': [('49_000.bin', 66)], 'agrippina': [('49_000.bin', 72)], 'appletalk': [('49_000.bin', 84)], 'creed': [('49_000.bin', 90)], 'albert': [('45_000.bin', 0)], 'azincourt': [('45_000.bin', 90)], 'michigan': [('45_000.bin', 96)], 'ark': [('45_000.bin', 108)], 'wellesley': [('45_000.bin', 120)], 'projects': [('45_000.bin', 126)], 'anton': [('45_000.bin', 132)], 'alexandrine': [('45_000.bin', 150)], 'sidney': [('54_000.bin', 0)], 'film': [('54_000.bin', 6)], 'allen': [('54_000.bin', 12)], 'royal': [('54_000.bin', 18)], 'agrarianism': [('54_000.bin', 30)], 'ambracia': [('54_000.bin', 36)], 'ancus': [('54_000.bin', 42)], 'understanding': [('54_000.bin', 48)], 'missile': [('54_000.bin', 54)], 'electron': [('54_000.bin', 60)], 'johnston': [('79_000.bin', 0)], 'applied': [('79_000.bin', 6)], 'abatement': [('79_000.bin', 12)], 'iowa': [('79_000.bin', 18)], 'awk': [('79_000.bin', 24)], 'battler': [('79_000.bin', 30)], 'ānanda': [('79_000.bin', 36)], 'absalon': [('79_000.bin', 42)], 'canterbury': [('79_000.bin', 48)], 'alkaloid': [('79_000.bin', 60)], 'robot': [('85_000.bin', 0)], 'actinopterygii': [('85_000.bin', 6)], 'algorithm': [('85_000.bin', 12)], 'alpha': [('85_000.bin', 18)], 'encephalomyelitis': [('85_000.bin', 48)], 'grothendieck': [('85_000.bin', 54)], 'auguste': [('85_000.bin', 60)], 'alberta': [('72_000.bin', 0)], 'constellation': [('72_000.bin', 12)], 'allegiance': [('72_000.bin', 30)], 'closed': [('72_000.bin', 36)], 'schweitzer': [('72_000.bin', 42)], 'alan': [('72_000.bin', 48)], 'extreme': [('72_000.bin', 78)], 'alligatoridae': [('72_000.bin', 84)], 'anaximenes': [('72_000.bin', 90)], 'smith': [('72_000.bin', 102)], 'university': [('72_000.bin', 108)], 'texas': [('72_000.bin', 126)], 'maillol': [('72_000.bin', 132)], 'anode': [('72_000.bin', 138)], 'afghanistan': [('38_000.bin', 0)], 'alexander': [('38_000.bin', 6)], 'plague': [('38_000.bin', 186)], 'france': [('38_000.bin', 192)], 'animism': [('38_000.bin', 198)], 'ainu': [('38_000.bin', 204)], 'alcmene': [('38_000.bin', 210)], 'angula': [('38_000.bin', 216)], 'afrikaans': [('38_000.bin', 222)], 'amstrad': [('38_000.bin', 228)], 'abbe': [('38_000.bin', 234)], 'albania': [('25_000.bin', 0)], 'korzybski': [('25_000.bin', 6)], 'poverty': [('25_000.bin', 12)], 'antarctica': [('25_000.bin', 18)], 'andrea': [('25_000.bin', 30)], 'medicine': [('25_000.bin', 42)], 'annealing': [('25_000.bin', 48)], 'archery': [('25_000.bin', 54)], 'league': [('25_000.bin', 60)], 'aphasia': [('25_000.bin', 72)], 'ælle': [('25_000.bin', 78)], 'andhra': [('25_000.bin', 84)], 'ascania': [('25_000.bin', 90)], 'allah': [('36_000.bin', 0)], 'game': [('36_000.bin', 6)], 'abbess': [('36_000.bin', 24)], 'anchor': [('36_000.bin', 30)], 'grace': [('36_000.bin', 36)], 'angelos': [('36_000.bin', 42)], 'andocides': [('36_000.bin', 48)], 'navis': [('36_000.bin', 54)], 'atari': [('36_000.bin', 60)], 'amateur': [('98_000.bin', 0)], 'anime': [('98_000.bin', 12)], 'arne': [('98_000.bin', 18)], '1990': [('98_000.bin', 24)], 'anadyr': [('98_000.bin', 30)], 'iii': [('98_000.bin', 36)], 'actium': [('98_000.bin', 114)], 'union': [('98_000.bin', 120)], 'ablative': [('98_000.bin', 126)], 'tales': [('98_000.bin', 132)], 'aikido': [('17_000.bin', 0)], 'advanced': [('17_000.bin', 6)], 'area': [('17_000.bin', 24)], 'actaeon': [('17_000.bin', 36)], 'albertosaurus': [('17_000.bin', 42)], 'dasyproctidae': [('17_000.bin', 48)], 'alarums': [('17_000.bin', 54)], 'puy': [('17_000.bin', 60)], 'alvar': [('17_000.bin', 66)], 'vespucci': [('17_000.bin', 72)], 'tridgell': [('17_000.bin', 78)], 'basic': [('17_000.bin', 84)], 'martin': [('17_000.bin', 90)], 'port': [('17_000.bin', 96)], 'alzheimer': [('17_000.bin', 102)], 'agnostida': [('8_000.bin', 0)], 'ancyra': [('8_000.bin', 6)], 'adhesive': [('8_000.bin', 12)], 'abstract': [('95_000.bin', 0)], 'altenberg': [('95_000.bin', 12)], 'armenia': [('95_000.bin', 18)], 'athene': [('95_000.bin', 60)], 'augustus': [('95_000.bin', 66)], 'agliardi': [('95_000.bin', 72)], 'ambrosius': [('95_000.bin', 78)], 'ampere': [('97_000.bin', 0)], 'akira': [('97_000.bin', 6)], 'spain': [('97_000.bin', 12)], 'affix': [('97_000.bin', 18)], 'electrophoresis': [('97_000.bin', 24)], 'fleming': [('97_000.bin', 30)], 'morita': [('97_000.bin', 36)], 'plant': [('74_000.bin', 0)], 'ashmore': [('74_000.bin', 6)], 'andré-marie': [('74_000.bin', 12)], 'excursions': [('74_000.bin', 18)], 'antigen': [('74_000.bin', 24)], 'covenant': [('74_000.bin', 30)], 'asteroids': [('44_000.bin', 0)], 'anna': [('44_000.bin', 6)], 'island': [('44_000.bin', 12)], 'amber': [('44_000.bin', 18)], 'arminianism': [('44_000.bin', 36)], 'milà': [('44_000.bin', 42)], 'adventures': [('44_000.bin', 48)], 'bena': [('44_000.bin', 54)], 'extension': [('44_000.bin', 60)], 'sussex': [('44_000.bin', 66)], 'albion': [('44_000.bin', 72)], 'micro': [('44_000.bin', 78)], 'asparagales': [('22_000.bin', 0)], 'acoustic': [('22_000.bin', 6)], 'town': [('22_000.bin', 18)], 'autosome': [('22_000.bin', 24)], 'current': [('22_000.bin', 30)], 'armour': [('22_000.bin', 36)], 'abiotic': [('22_000.bin', 42)], 'victor': [('22_000.bin', 48)], 'asterism': [('63_000.bin', 0)], 'aristophanes': [('63_000.bin', 6)], 'aphrodite': [('63_000.bin', 12)], 'apatosaurus': [('63_000.bin', 18)], 'agathon': [('63_000.bin', 24)], 'audio': [('63_000.bin', 30)], 'arabic': [('70_000.bin', 0)], 'aaron': [('70_000.bin', 18)], 'software': [('70_000.bin', 24)], 'kay': [('70_000.bin', 30)], \"alice's\": [('70_000.bin', 36)], 'acre': [('70_000.bin', 42)], 'argo': [('70_000.bin', 48)], 'hitchcock': [('26_000.bin', 0)], 'abba': [('26_000.bin', 6)], 'sign': [('26_000.bin', 12)], 'greece': [('26_000.bin', 18)], 'lydia': [('26_000.bin', 24)], 'autpert': [('26_000.bin', 30)], 'radiation': [('26_000.bin', 36)], 'front': [('26_000.bin', 42)], 'autobiography': [('26_000.bin', 48)], 'altaic': [('120_000.bin', 0)], 'force': [('120_000.bin', 6)], 'apl': [('120_000.bin', 12)], 'amram': [('120_000.bin', 24)], 'jordan': [('120_000.bin', 30)], 'tunnel': [('120_000.bin', 36)], 'actinide': [('120_000.bin', 42)], 'akio': [('120_000.bin', 48)], 'austrian': [('20_000.bin', 0)], 'maria': [('20_000.bin', 12)], 'toffler': [('20_000.bin', 18)], 'agatha': [('20_000.bin', 24)], 'azerbaijani': [('20_000.bin', 30)], 'line': [('20_000.bin', 36)], 'state': [('20_000.bin', 42)], 'brontë': [('20_000.bin', 48)], 'sayyaf': [('20_000.bin', 54)], 'military': [('20_000.bin', 60)], 'hopwood': [('20_000.bin', 66)], 'antidepressant': [('20_000.bin', 72)], 'german': [('4_000.bin', 0)], 'aspect': [('4_000.bin', 6)], 'abscess': [('4_000.bin', 12)], 'sound': [('4_000.bin', 18)], 'álfheimr': [('4_000.bin', 24)], 'severus': [('4_000.bin', 30)], 'anacharsis': [('4_000.bin', 36)], 'auriga': [('4_000.bin', 42)], 'tasman': [('4_000.bin', 48)], 'falcons': [('4_000.bin', 54)], 'axiom': [('112_000.bin', 0)], 'ginsberg': [('112_000.bin', 18)], 'automorphism': [('112_000.bin', 24)], 'ammonia': [('112_000.bin', 30)], 'akkadian': [('112_000.bin', 36)], 'andrew': [('112_000.bin', 42)], 'ambrosiaster': [('112_000.bin', 78)], 'jerusalem': [('112_000.bin', 84)], 'resistance': [('112_000.bin', 90)], 'vehicle': [('112_000.bin', 96)], 'western': [('112_000.bin', 102)], 'choice': [('42_000.bin', 0)], 'aeronautics': [('42_000.bin', 6)], 'succession': [('42_000.bin', 12)], 'aagesen': [('42_000.bin', 18)], 'attila': [('119_000.bin', 0)], 'system': [('119_000.bin', 6)], 'program': [('119_000.bin', 18)], 'asl': [('119_000.bin', 24)], 'abc': [('119_000.bin', 30)], 'hominem': [('119_000.bin', 36)], 'aegean': [('52_000.bin', 0)], 'school': [('52_000.bin', 6)], 'lawson': [('52_000.bin', 18)], 'anno': [('52_000.bin', 24)], 'aeneas': [('52_000.bin', 30)], 'algiers': [('52_000.bin', 36)], 'beverley': [('52_000.bin', 42)], 'ægir': [('52_000.bin', 48)], 'amway': [('52_000.bin', 54)], 'liberties': [('52_000.bin', 60)], 'folklore': [('52_000.bin', 66)], 'a360media': [('52_000.bin', 72)], 'widdecombe': [('52_000.bin', 78)], 'second': [('52_000.bin', 84)], 'arc': [('52_000.bin', 90)], 'amsterdam': [('48_000.bin', 0)], 'van': [('48_000.bin', 6)], 'merania': [('48_000.bin', 12)], 'aikin': [('48_000.bin', 18)], 'abzyme': [('48_000.bin', 24)], 'al-qaeda': [('48_000.bin', 30)], 'cpc': [('48_000.bin', 36)], 'eddington': [('48_000.bin', 42)], 'armored': [('48_000.bin', 48)], 'museum': [('94_000.bin', 0)], 'apiaceae': [('94_000.bin', 6)], 'applet': [('94_000.bin', 12)], 'balas': [('94_000.bin', 18)], 'dynasty': [('94_000.bin', 24)], 'ammianus': [('94_000.bin', 30)], 'ampicillin': [('94_000.bin', 36)], 'car': [('94_000.bin', 42)], 'work': [('12_000.bin', 0)], 'graham': [('12_000.bin', 6)], 'anatoly': [('12_000.bin', 12)], 'ardipithecus': [('12_000.bin', 18)], 'johnson': [('12_000.bin', 24)], 'hijacking': [('12_000.bin', 30)], 'adamic': [('12_000.bin', 36)], 'antibody': [('12_000.bin', 42)], 'berg': [('12_000.bin', 48)], 'inc': [('64_000.bin', 0)], 'ethics': [('64_000.bin', 12)], 'aleksandr': [('64_000.bin', 18)], 'anita': [('64_000.bin', 24)], 'aalen': [('64_000.bin', 30)], 'aztlan': [('29_000.bin', 0)], 'almond': [('29_000.bin', 6)], 'defence': [('29_000.bin', 12)], 'antisemitism': [('29_000.bin', 18)], 'samoa': [('29_000.bin', 30)], 'athens': [('29_000.bin', 48)], 'antarctic': [('29_000.bin', 60)], 'ealdred': [('29_000.bin', 72)], 'jannaeus': [('29_000.bin', 78)], 'alexios': [('29_000.bin', 84)], 'ambergris': [('29_000.bin', 108)], 'allotropy': [('29_000.bin', 114)], 'approximant': [('29_000.bin', 120)], 'airline': [('29_000.bin', 126)], 'atlantis': [('29_000.bin', 132)], 'armenian': [('29_000.bin', 138)], 'diabelli': [('29_000.bin', 144)], 'civil': [('110_000.bin', 0)], 'prince': [('110_000.bin', 12)], 'associative': [('110_000.bin', 18)], 'tree': [('110_000.bin', 30)], 'anti-aircraft': [('110_000.bin', 36)], 'ancient': [('123_000.bin', 0)], 'asteraceae': [('123_000.bin', 12)], 'municipality': [('123_000.bin', 18)], 'andes': [('123_000.bin', 24)], 'domini': [('123_000.bin', 30)], 'borders': [('123_000.bin', 36)], 'adder': [('123_000.bin', 42)], 'portugal': [('123_000.bin', 48)], 'anglo-saxon': [('123_000.bin', 84)], 'case': [('123_000.bin', 90)], 'adventism': [('123_000.bin', 102)], 'dürer': [('123_000.bin', 108)], 'brothers': [('68_000.bin', 0)], 'encryption': [('68_000.bin', 6)], 'alcuin': [('68_000.bin', 12)], 'aare': [('68_000.bin', 18)], 'press': [('68_000.bin', 24)], 'amaryllis': [('68_000.bin', 30)], 'saccas': [('68_000.bin', 36)], 'arcadius': [('68_000.bin', 42)], 'john': [('68_000.bin', 48)], 'neuron': [('78_000.bin', 0)], 'anaximander': [('78_000.bin', 6)], 'astrometry': [('78_000.bin', 12)], 'poet': [('78_000.bin', 18)], 'amati': [('78_000.bin', 24)], 'anti-ballistic': [('78_000.bin', 30)], 'braves': [('78_000.bin', 36)], 'abjad': [('6_000.bin', 0)], 'disseminated': [('6_000.bin', 6)], 'christie': [('6_000.bin', 12)], 'alexis': [('6_000.bin', 18)], 'assault': [('6_000.bin', 36)], 'age': [('6_000.bin', 48)], 'allophone': [('6_000.bin', 54)], 'astoria': [('6_000.bin', 60)], 'acquire': [('6_000.bin', 66)], 'camp': [('6_000.bin', 72)], 'aristide': [('6_000.bin', 78)], 'arene': [('6_000.bin', 84)], 'arsenic': [('57_000.bin', 0)], 'miss': [('57_000.bin', 6)], 'abduction': [('57_000.bin', 12)], 'acropolis': [('57_000.bin', 18)], 'canova': [('57_000.bin', 30)], 'lists': [('57_000.bin', 36)], 'americium': [('47_000.bin', 0)], 'atom': [('47_000.bin', 6)], 'aol': [('47_000.bin', 12)], 'ailanthus': [('47_000.bin', 18)], 'aphrodisias': [('47_000.bin', 24)], 'allele': [('47_000.bin', 30)], 'athanasian': [('47_000.bin', 36)], 'barbuda': [('73_000.bin', 0)], 'alternate': [('73_000.bin', 30)], 'ambrosians': [('73_000.bin', 36)], 'tralles': [('73_000.bin', 42)], 'heathenry': [('73_000.bin', 48)], 'drexler': [('73_000.bin', 54)], 'action': [('73_000.bin', 60)], 'aramaic': [('24_000.bin', 0)], 'value': [('24_000.bin', 12)], 'adenosine': [('24_000.bin', 18)], 'natural': [('24_000.bin', 24)], 'arabs': [('24_000.bin', 30)], 'additive': [('24_000.bin', 36)], 'analgesic': [('24_000.bin', 42)], 'signal': [('13_000.bin', 0)], 'athena': [('13_000.bin', 12)], 'treaty': [('13_000.bin', 18)], 'ames': [('13_000.bin', 24)], 'abdominal': [('13_000.bin', 30)], 'agis': [('13_000.bin', 36)], 'alexei': [('13_000.bin', 42)], 'cyrrhus': [('13_000.bin', 48)], 'atmosphere': [('13_000.bin', 54)], 'ayckbourn': [('13_000.bin', 60)], 'souls': [('3_000.bin', 0)], 'telecommunications': [('3_000.bin', 6)], 'unit': [('3_000.bin', 18)], 'word': [('3_000.bin', 30)], 'aromatic': [('3_000.bin', 36)], \"meier's\": [('3_000.bin', 42)], 'valley': [('3_000.bin', 48)], 'garner': [('1_000.bin', 0)], 'enquiry': [('1_000.bin', 6)], 'crandall': [('1_000.bin', 12)], 'automatic': [('1_000.bin', 18)], 'license': [('1_000.bin', 24)], 'artificial': [('108_000.bin', 0)], 'amide': [('108_000.bin', 12)], 'ayer': [('108_000.bin', 18)], 'ares': [('108_000.bin', 24)], 'data': [('108_000.bin', 30)], 'surgery': [('19_000.bin', 0)], 'york': [('19_000.bin', 6)], 'alexius': [('19_000.bin', 12)], 'actinophryid': [('19_000.bin', 18)], 'aeschylus': [('19_000.bin', 24)], 'afghan': [('19_000.bin', 30)], 'parsons': [('0_000.bin', 0)], 'komnenos': [('0_000.bin', 6)], 'algardi': [('0_000.bin', 24)], 'andronikos': [('0_000.bin', 30)], 'allegory': [('0_000.bin', 48)], 'democrats': [('0_000.bin', 54)], 'arab': [('0_000.bin', 60)], 'cappella': [('0_000.bin', 66)], 'bronson': [('14_000.bin', 0)], 'volta': [('14_000.bin', 6)], 'ansible': [('14_000.bin', 12)], 'asic': [('117_000.bin', 0)], 'planthopper': [('117_000.bin', 6)], 'leng': [('117_000.bin', 12)], 'brandenburg': [('106_000.bin', 0)], 'pherae': [('106_000.bin', 6)], 'aurelianus': [('106_000.bin', 12)], 'ammon': [('106_000.bin', 18)], 'arthritis': [('106_000.bin', 24)], 'anne': [('106_000.bin', 30)], 'al-omari': [('106_000.bin', 36)], 'russia': [('101_000.bin', 0)], 'andaman': [('101_000.bin', 12)], 'adhemar': [('101_000.bin', 18)], 'accelerated': [('101_000.bin', 24)], 'auger': [('101_000.bin', 30)]})\n"
          ]
        }
      ]
    },
    {
      "cell_type": "markdown",
      "metadata": {
        "id": "xBpxtFW7HeAT"
      },
      "source": [
        "Putting everything together (posting locations, df) and test that the resulting index is correct. "
      ]
    },
    {
      "cell_type": "code",
      "source": [
        "def doc_to_title(id, title):\n",
        "    return [(id,title)]\n",
        "\n",
        "doc_title_dictionary= doc_text_pairs.flatMap(lambda x: doc_to_title(x[1],x[0]))\n",
        "finall_doc_to_title = doc_title_dictionary.collectAsMap()\n"
      ],
      "metadata": {
        "id": "hVTnUnAKqwRe"
      },
      "execution_count": 26,
      "outputs": []
    },
    {
      "cell_type": "code",
      "metadata": {
        "id": "VKrew8cUAyTz"
      },
      "source": [
        "# Create inverted index instance\n",
        "inverted = InvertedIndex()\n",
        "# Adding the posting locations dictionary to the inverted index\n",
        "inverted.posting_locs = super_posting_locs\n",
        "# Add the token - df dictionary to the inverted index\n",
        "inverted.df = w2df_dict\n",
        "inverted.docTitle = finall_doc_to_title\n",
        "# write the global stats out\n",
        "inverted.write_index('.', 'title_index')"
      ],
      "execution_count": 27,
      "outputs": []
    }
  ]
}